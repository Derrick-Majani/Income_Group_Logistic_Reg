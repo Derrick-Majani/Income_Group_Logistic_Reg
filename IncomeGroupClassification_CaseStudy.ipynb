{
  "cells": [
    {
      "cell_type": "markdown",
      "metadata": {
        "id": "view-in-github",
        "colab_type": "text"
      },
      "source": [
        "<a href=\"https://colab.research.google.com/github/Derrick-Majani/Income_Group_Logistic_Reg/blob/main/IncomeGroupClassification_CaseStudy.ipynb\" target=\"_parent\"><img src=\"https://colab.research.google.com/assets/colab-badge.svg\" alt=\"Open In Colab\"/></a>"
      ]
    },
    {
      "cell_type": "markdown",
      "id": "emerging-diagnosis",
      "metadata": {
        "id": "emerging-diagnosis"
      },
      "source": [
        "## Income Group Classification"
      ]
    },
    {
      "cell_type": "markdown",
      "id": "prostate-workplace",
      "metadata": {
        "id": "prostate-workplace"
      },
      "source": [
        "## Context \n",
        "DeltaSquare is an NGO that works with the Government on matters of social policy to bring about a change in the lives of underprivileged sections of society. They are given a task of coming up with a policy framework using a dataset that the Government received from WHO. You as a data scientist at DeltaSquare are tasked with solving this problem and sharing a proposal for the government. "
      ]
    },
    {
      "cell_type": "markdown",
      "id": "metallic-portugal",
      "metadata": {
        "id": "metallic-portugal"
      },
      "source": [
        "### Objective\n",
        "\n",
        "1. What are the different factors that influence the income of an individual?\n",
        "\n",
        "2. To build a prediction model that can help the government formulate policies for the right pockets of the society."
      ]
    },
    {
      "cell_type": "markdown",
      "id": "noted-austria",
      "metadata": {
        "id": "noted-austria"
      },
      "source": [
        "### Dataset\n",
        "\n",
        "The data contains characteristics of the people\n",
        "\n",
        "* age: continuous - age of a Person \n",
        "* workclass: Where does a person works - categorical -Private, Self-emp-not-inc, Self-emp-inc, Federal-gov, Local-gov, State-gov, Without-pay, Never-worked.\n",
        "* fnlwgt: continuous - Weight assigned by Current Population Survey (CPS) - People with similar demographic characteristics should have similar weights since it is a feature aimed to allocate similar weights to people with similar demographic characteristics.\n",
        "* education: Degree the person has - Bachelors, Some-college, 11th, HS-grad, Prof-school, Assoc-acdm, Assoc-voc, 9th, 7th-8th, 12th, Masters, 1st-4th, 10th, Doctorate, 5th-6th, Preschool.\n",
        "* education-num: no. of years a person studied - continuous.\n",
        "* marital-status: Married-civ-spouse, Divorced, Never-married, Separated, Widowed, Married-spouse-absent, Married-AF-spouse.\n",
        "* occupation: Tech-support, Craft-repair, Other-service, Sales, Exec-managerial, Prof-specialty, Handlers-cleaners, Machine-op-inspct, Adm-clerical, Farming-fishing, Transport-moving, Priv-house-serv, Protective-serv, Armed-Forces.\n",
        "* race: White, Asian-Pac-Islander, Amer-Indian-Eskimo, Other, Black.\n",
        "* sex: Female, Male.\n",
        "* capital-gain: Investment gain of the person other than salary - continuous\n",
        "* capital-loss: Loss from investments - continuous\n",
        "* hours-per-week: No. of hours a person works - continuous.\n",
        "* native-country: United-States, Cambodia, England, Puerto-Rico, Canada, Germany, Outlying-US(Guam-USVI-etc), India, Japan, Greece, South, China, Cuba, Iran, Honduras, Philippines, Italy, Poland, Jamaica, Vietnam, Mexico, Portugal, Ireland, France, Dominican-Republic, Laos, Ecuador, Taiwan, Haiti, Columbia, Hungary, Guatemala, Nicaragua, Scotland, Thailand, Yugoslavia, El-Salvador, Trinidad&Tobago, Peru, Hong, Holand-Netherlands.\n",
        "* salary: >50K, <=50K (dependent variable, the salary is in Dollars per year)"
      ]
    },
    {
      "cell_type": "markdown",
      "id": "crazy-operations",
      "metadata": {
        "id": "crazy-operations"
      },
      "source": [
        "### Loading Libraries"
      ]
    },
    {
      "cell_type": "code",
      "execution_count": null,
      "id": "handled-ordinance",
      "metadata": {
        "id": "handled-ordinance"
      },
      "outputs": [],
      "source": [
        "# this will help in making the Python code more structured automatically (good coding practice)\n",
        "# %load_ext nb_black\n",
        "\n",
        "import warnings\n",
        "\n",
        "warnings.filterwarnings(\"ignore\")\n",
        "from statsmodels.tools.sm_exceptions import ConvergenceWarning\n",
        "\n",
        "warnings.simplefilter(\"ignore\", ConvergenceWarning)\n",
        "\n",
        "# Libraries to help with reading and manipulating data\n",
        "\n",
        "import pandas as pd\n",
        "import numpy as np\n",
        "import io\n",
        "# Library to split data\n",
        "from sklearn.model_selection import train_test_split\n",
        "\n",
        "# libaries to help with data visualization\n",
        "import matplotlib.pyplot as plt\n",
        "import seaborn as sns\n",
        "\n",
        "# Removes the limit for the number of displayed columns\n",
        "pd.set_option(\"display.max_columns\", None)\n",
        "# Sets the limit for the number of displayed rows\n",
        "pd.set_option(\"display.max_rows\", 200)\n",
        "\n",
        "\n",
        "# To build model for prediction\n",
        "import statsmodels.stats.api as sms\n",
        "from statsmodels.stats.outliers_influence import variance_inflation_factor\n",
        "import statsmodels.api as sm\n",
        "from statsmodels.tools.tools import add_constant\n",
        "from sklearn.linear_model import LogisticRegression\n",
        "\n",
        "\n",
        "# To get diferent metric scores\n",
        "from sklearn.metrics import (\n",
        "    f1_score,\n",
        "    accuracy_score,\n",
        "    recall_score,\n",
        "    precision_score,\n",
        "    confusion_matrix,\n",
        "    roc_auc_score,\n",
        "    plot_confusion_matrix,\n",
        "    precision_recall_curve,\n",
        "    roc_curve,\n",
        ")"
      ]
    },
    {
      "cell_type": "markdown",
      "id": "decreased-cambodia",
      "metadata": {
        "id": "decreased-cambodia"
      },
      "source": [
        "### Note: The first section of the notebook is the section that has been covered multiple times in the previous case studies.  For this discussion this part can be skipped and we can directly refer to this **<a href = #link1>summary</a>** of data cleaning steps and observations from EDA."
      ]
    },
    {
      "cell_type": "markdown",
      "id": "renewable-instrumentation",
      "metadata": {
        "id": "renewable-instrumentation"
      },
      "source": [
        "### Load data"
      ]
    },
    {
      "cell_type": "code",
      "source": [
        "# Use Local drives to upload the excel on google colab\n",
        "from google.colab import files\n",
        "uploaded = files.upload()"
      ],
      "metadata": {
        "colab": {
          "resources": {
            "http://localhost:8080/nbextensions/google.colab/files.js": {
              "data": "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",
              "ok": true,
              "headers": [
                [
                  "content-type",
                  "application/javascript"
                ]
              ],
              "status": 200,
              "status_text": ""
            }
          },
          "base_uri": "https://localhost:8080/",
          "height": 73
        },
        "id": "RPE1xzu6TGhm",
        "outputId": "8b590263-8372-4859-b2c3-f6ed98f4afa1"
      },
      "id": "RPE1xzu6TGhm",
      "execution_count": null,
      "outputs": [
        {
          "output_type": "display_data",
          "data": {
            "text/plain": [
              "<IPython.core.display.HTML object>"
            ],
            "text/html": [
              "\n",
              "     <input type=\"file\" id=\"files-6860c198-b84c-40a0-84ff-585ccdff0bdb\" name=\"files[]\" multiple disabled\n",
              "        style=\"border:none\" />\n",
              "     <output id=\"result-6860c198-b84c-40a0-84ff-585ccdff0bdb\">\n",
              "      Upload widget is only available when the cell has been executed in the\n",
              "      current browser session. Please rerun this cell to enable.\n",
              "      </output>\n",
              "      <script src=\"/nbextensions/google.colab/files.js\"></script> "
            ]
          },
          "metadata": {}
        },
        {
          "output_type": "stream",
          "name": "stdout",
          "text": [
            "Saving who_data.csv to who_data.csv\n"
          ]
        }
      ]
    },
    {
      "cell_type": "code",
      "source": [
        "# Loading the dataset - sheet_name parameter is used if there are multiple tabs in the excel file.\n",
        "\n",
        "who=pd.read_csv(io.BytesIO(uploaded['who_data.csv']))"
      ],
      "metadata": {
        "id": "oh6bIpKrTGkv"
      },
      "id": "oh6bIpKrTGkv",
      "execution_count": null,
      "outputs": []
    },
    {
      "cell_type": "code",
      "execution_count": null,
      "id": "alpha-endorsement",
      "metadata": {
        "id": "alpha-endorsement"
      },
      "outputs": [],
      "source": [
        "# who = pd.read_csv(\"who_data.csv\")"
      ]
    },
    {
      "cell_type": "code",
      "execution_count": null,
      "id": "fifty-prime",
      "metadata": {
        "id": "fifty-prime"
      },
      "outputs": [],
      "source": [
        "# copying data to another variable to avoid any changes to original data\n",
        "data = who.copy()"
      ]
    },
    {
      "cell_type": "markdown",
      "id": "egyptian-workstation",
      "metadata": {
        "id": "egyptian-workstation"
      },
      "source": [
        "### View the first and last 5 rows of the dataset."
      ]
    },
    {
      "cell_type": "code",
      "execution_count": null,
      "id": "interpreted-publisher",
      "metadata": {
        "colab": {
          "base_uri": "https://localhost:8080/",
          "height": 354
        },
        "id": "interpreted-publisher",
        "outputId": "c6ec536d-fd55-4080-86ff-2236da4549a0"
      },
      "outputs": [
        {
          "output_type": "execute_result",
          "data": {
            "text/plain": [
              "   age          workclass  fnlwgt   education  education-no. of years  \\\n",
              "0   39          State-gov   77516   Bachelors                      13   \n",
              "1   50   Self-emp-not-inc   83311   Bachelors                      13   \n",
              "2   38            Private  215646     HS-grad                       9   \n",
              "3   53            Private  234721        11th                       7   \n",
              "4   28            Private  338409   Bachelors                      13   \n",
              "\n",
              "        marital status          occupation    race      sex  capital gain  \\\n",
              "0        Never-married        Adm-clerical   White     Male          2174   \n",
              "1   Married-civ-spouse     Exec-managerial   White     Male             0   \n",
              "2             Divorced   Handlers-cleaners   White     Male             0   \n",
              "3   Married-civ-spouse   Handlers-cleaners   Black     Male             0   \n",
              "4   Married-civ-spouse      Prof-specialty   Black   Female             0   \n",
              "\n",
              "   capital loss  working hours per week  native-country  salary  \n",
              "0             0                      40   United-States   <=50K  \n",
              "1             0                      13   United-States   <=50K  \n",
              "2             0                      40   United-States   <=50K  \n",
              "3             0                      40   United-States   <=50K  \n",
              "4             0                      40            Cuba   <=50K  "
            ],
            "text/html": [
              "\n",
              "  <div id=\"df-87000210-11ee-432f-a6ef-35b008a18118\">\n",
              "    <div class=\"colab-df-container\">\n",
              "      <div>\n",
              "<style scoped>\n",
              "    .dataframe tbody tr th:only-of-type {\n",
              "        vertical-align: middle;\n",
              "    }\n",
              "\n",
              "    .dataframe tbody tr th {\n",
              "        vertical-align: top;\n",
              "    }\n",
              "\n",
              "    .dataframe thead th {\n",
              "        text-align: right;\n",
              "    }\n",
              "</style>\n",
              "<table border=\"1\" class=\"dataframe\">\n",
              "  <thead>\n",
              "    <tr style=\"text-align: right;\">\n",
              "      <th></th>\n",
              "      <th>age</th>\n",
              "      <th>workclass</th>\n",
              "      <th>fnlwgt</th>\n",
              "      <th>education</th>\n",
              "      <th>education-no. of years</th>\n",
              "      <th>marital status</th>\n",
              "      <th>occupation</th>\n",
              "      <th>race</th>\n",
              "      <th>sex</th>\n",
              "      <th>capital gain</th>\n",
              "      <th>capital loss</th>\n",
              "      <th>working hours per week</th>\n",
              "      <th>native-country</th>\n",
              "      <th>salary</th>\n",
              "    </tr>\n",
              "  </thead>\n",
              "  <tbody>\n",
              "    <tr>\n",
              "      <th>0</th>\n",
              "      <td>39</td>\n",
              "      <td>State-gov</td>\n",
              "      <td>77516</td>\n",
              "      <td>Bachelors</td>\n",
              "      <td>13</td>\n",
              "      <td>Never-married</td>\n",
              "      <td>Adm-clerical</td>\n",
              "      <td>White</td>\n",
              "      <td>Male</td>\n",
              "      <td>2174</td>\n",
              "      <td>0</td>\n",
              "      <td>40</td>\n",
              "      <td>United-States</td>\n",
              "      <td>&lt;=50K</td>\n",
              "    </tr>\n",
              "    <tr>\n",
              "      <th>1</th>\n",
              "      <td>50</td>\n",
              "      <td>Self-emp-not-inc</td>\n",
              "      <td>83311</td>\n",
              "      <td>Bachelors</td>\n",
              "      <td>13</td>\n",
              "      <td>Married-civ-spouse</td>\n",
              "      <td>Exec-managerial</td>\n",
              "      <td>White</td>\n",
              "      <td>Male</td>\n",
              "      <td>0</td>\n",
              "      <td>0</td>\n",
              "      <td>13</td>\n",
              "      <td>United-States</td>\n",
              "      <td>&lt;=50K</td>\n",
              "    </tr>\n",
              "    <tr>\n",
              "      <th>2</th>\n",
              "      <td>38</td>\n",
              "      <td>Private</td>\n",
              "      <td>215646</td>\n",
              "      <td>HS-grad</td>\n",
              "      <td>9</td>\n",
              "      <td>Divorced</td>\n",
              "      <td>Handlers-cleaners</td>\n",
              "      <td>White</td>\n",
              "      <td>Male</td>\n",
              "      <td>0</td>\n",
              "      <td>0</td>\n",
              "      <td>40</td>\n",
              "      <td>United-States</td>\n",
              "      <td>&lt;=50K</td>\n",
              "    </tr>\n",
              "    <tr>\n",
              "      <th>3</th>\n",
              "      <td>53</td>\n",
              "      <td>Private</td>\n",
              "      <td>234721</td>\n",
              "      <td>11th</td>\n",
              "      <td>7</td>\n",
              "      <td>Married-civ-spouse</td>\n",
              "      <td>Handlers-cleaners</td>\n",
              "      <td>Black</td>\n",
              "      <td>Male</td>\n",
              "      <td>0</td>\n",
              "      <td>0</td>\n",
              "      <td>40</td>\n",
              "      <td>United-States</td>\n",
              "      <td>&lt;=50K</td>\n",
              "    </tr>\n",
              "    <tr>\n",
              "      <th>4</th>\n",
              "      <td>28</td>\n",
              "      <td>Private</td>\n",
              "      <td>338409</td>\n",
              "      <td>Bachelors</td>\n",
              "      <td>13</td>\n",
              "      <td>Married-civ-spouse</td>\n",
              "      <td>Prof-specialty</td>\n",
              "      <td>Black</td>\n",
              "      <td>Female</td>\n",
              "      <td>0</td>\n",
              "      <td>0</td>\n",
              "      <td>40</td>\n",
              "      <td>Cuba</td>\n",
              "      <td>&lt;=50K</td>\n",
              "    </tr>\n",
              "  </tbody>\n",
              "</table>\n",
              "</div>\n",
              "      <button class=\"colab-df-convert\" onclick=\"convertToInteractive('df-87000210-11ee-432f-a6ef-35b008a18118')\"\n",
              "              title=\"Convert this dataframe to an interactive table.\"\n",
              "              style=\"display:none;\">\n",
              "        \n",
              "  <svg xmlns=\"http://www.w3.org/2000/svg\" height=\"24px\"viewBox=\"0 0 24 24\"\n",
              "       width=\"24px\">\n",
              "    <path d=\"M0 0h24v24H0V0z\" fill=\"none\"/>\n",
              "    <path d=\"M18.56 5.44l.94 2.06.94-2.06 2.06-.94-2.06-.94-.94-2.06-.94 2.06-2.06.94zm-11 1L8.5 8.5l.94-2.06 2.06-.94-2.06-.94L8.5 2.5l-.94 2.06-2.06.94zm10 10l.94 2.06.94-2.06 2.06-.94-2.06-.94-.94-2.06-.94 2.06-2.06.94z\"/><path d=\"M17.41 7.96l-1.37-1.37c-.4-.4-.92-.59-1.43-.59-.52 0-1.04.2-1.43.59L10.3 9.45l-7.72 7.72c-.78.78-.78 2.05 0 2.83L4 21.41c.39.39.9.59 1.41.59.51 0 1.02-.2 1.41-.59l7.78-7.78 2.81-2.81c.8-.78.8-2.07 0-2.86zM5.41 20L4 18.59l7.72-7.72 1.47 1.35L5.41 20z\"/>\n",
              "  </svg>\n",
              "      </button>\n",
              "      \n",
              "  <style>\n",
              "    .colab-df-container {\n",
              "      display:flex;\n",
              "      flex-wrap:wrap;\n",
              "      gap: 12px;\n",
              "    }\n",
              "\n",
              "    .colab-df-convert {\n",
              "      background-color: #E8F0FE;\n",
              "      border: none;\n",
              "      border-radius: 50%;\n",
              "      cursor: pointer;\n",
              "      display: none;\n",
              "      fill: #1967D2;\n",
              "      height: 32px;\n",
              "      padding: 0 0 0 0;\n",
              "      width: 32px;\n",
              "    }\n",
              "\n",
              "    .colab-df-convert:hover {\n",
              "      background-color: #E2EBFA;\n",
              "      box-shadow: 0px 1px 2px rgba(60, 64, 67, 0.3), 0px 1px 3px 1px rgba(60, 64, 67, 0.15);\n",
              "      fill: #174EA6;\n",
              "    }\n",
              "\n",
              "    [theme=dark] .colab-df-convert {\n",
              "      background-color: #3B4455;\n",
              "      fill: #D2E3FC;\n",
              "    }\n",
              "\n",
              "    [theme=dark] .colab-df-convert:hover {\n",
              "      background-color: #434B5C;\n",
              "      box-shadow: 0px 1px 3px 1px rgba(0, 0, 0, 0.15);\n",
              "      filter: drop-shadow(0px 1px 2px rgba(0, 0, 0, 0.3));\n",
              "      fill: #FFFFFF;\n",
              "    }\n",
              "  </style>\n",
              "\n",
              "      <script>\n",
              "        const buttonEl =\n",
              "          document.querySelector('#df-87000210-11ee-432f-a6ef-35b008a18118 button.colab-df-convert');\n",
              "        buttonEl.style.display =\n",
              "          google.colab.kernel.accessAllowed ? 'block' : 'none';\n",
              "\n",
              "        async function convertToInteractive(key) {\n",
              "          const element = document.querySelector('#df-87000210-11ee-432f-a6ef-35b008a18118');\n",
              "          const dataTable =\n",
              "            await google.colab.kernel.invokeFunction('convertToInteractive',\n",
              "                                                     [key], {});\n",
              "          if (!dataTable) return;\n",
              "\n",
              "          const docLinkHtml = 'Like what you see? Visit the ' +\n",
              "            '<a target=\"_blank\" href=https://colab.research.google.com/notebooks/data_table.ipynb>data table notebook</a>'\n",
              "            + ' to learn more about interactive tables.';\n",
              "          element.innerHTML = '';\n",
              "          dataTable['output_type'] = 'display_data';\n",
              "          await google.colab.output.renderOutput(dataTable, element);\n",
              "          const docLink = document.createElement('div');\n",
              "          docLink.innerHTML = docLinkHtml;\n",
              "          element.appendChild(docLink);\n",
              "        }\n",
              "      </script>\n",
              "    </div>\n",
              "  </div>\n",
              "  "
            ]
          },
          "metadata": {},
          "execution_count": 53
        }
      ],
      "source": [
        "data.head()"
      ]
    },
    {
      "cell_type": "code",
      "execution_count": null,
      "id": "cultural-reviewer",
      "metadata": {
        "colab": {
          "base_uri": "https://localhost:8080/",
          "height": 372
        },
        "id": "cultural-reviewer",
        "outputId": "15530c7e-5d74-4f35-ce41-b5221e053990"
      },
      "outputs": [
        {
          "output_type": "execute_result",
          "data": {
            "text/plain": [
              "       age      workclass  fnlwgt    education  education-no. of years  \\\n",
              "32556   27        Private  257302   Assoc-acdm                      12   \n",
              "32557   40        Private  154374      HS-grad                       9   \n",
              "32558   58        Private  151910      HS-grad                       9   \n",
              "32559   22        Private  201490      HS-grad                       9   \n",
              "32560   52   Self-emp-inc  287927      HS-grad                       9   \n",
              "\n",
              "            marital status          occupation    race      sex  capital gain  \\\n",
              "32556   Married-civ-spouse        Tech-support   White   Female             0   \n",
              "32557   Married-civ-spouse   Machine-op-inspct   White     Male             0   \n",
              "32558              Widowed        Adm-clerical   White   Female             0   \n",
              "32559        Never-married        Adm-clerical   White     Male             0   \n",
              "32560   Married-civ-spouse     Exec-managerial   White   Female         15024   \n",
              "\n",
              "       capital loss  working hours per week  native-country  salary  \n",
              "32556             0                      38   United-States   <=50K  \n",
              "32557             0                      40   United-States    >50K  \n",
              "32558             0                      40   United-States   <=50K  \n",
              "32559             0                      20   United-States   <=50K  \n",
              "32560             0                      40   United-States    >50K  "
            ],
            "text/html": [
              "\n",
              "  <div id=\"df-703ae5a2-d15c-41ca-a82f-e13599af4d19\">\n",
              "    <div class=\"colab-df-container\">\n",
              "      <div>\n",
              "<style scoped>\n",
              "    .dataframe tbody tr th:only-of-type {\n",
              "        vertical-align: middle;\n",
              "    }\n",
              "\n",
              "    .dataframe tbody tr th {\n",
              "        vertical-align: top;\n",
              "    }\n",
              "\n",
              "    .dataframe thead th {\n",
              "        text-align: right;\n",
              "    }\n",
              "</style>\n",
              "<table border=\"1\" class=\"dataframe\">\n",
              "  <thead>\n",
              "    <tr style=\"text-align: right;\">\n",
              "      <th></th>\n",
              "      <th>age</th>\n",
              "      <th>workclass</th>\n",
              "      <th>fnlwgt</th>\n",
              "      <th>education</th>\n",
              "      <th>education-no. of years</th>\n",
              "      <th>marital status</th>\n",
              "      <th>occupation</th>\n",
              "      <th>race</th>\n",
              "      <th>sex</th>\n",
              "      <th>capital gain</th>\n",
              "      <th>capital loss</th>\n",
              "      <th>working hours per week</th>\n",
              "      <th>native-country</th>\n",
              "      <th>salary</th>\n",
              "    </tr>\n",
              "  </thead>\n",
              "  <tbody>\n",
              "    <tr>\n",
              "      <th>32556</th>\n",
              "      <td>27</td>\n",
              "      <td>Private</td>\n",
              "      <td>257302</td>\n",
              "      <td>Assoc-acdm</td>\n",
              "      <td>12</td>\n",
              "      <td>Married-civ-spouse</td>\n",
              "      <td>Tech-support</td>\n",
              "      <td>White</td>\n",
              "      <td>Female</td>\n",
              "      <td>0</td>\n",
              "      <td>0</td>\n",
              "      <td>38</td>\n",
              "      <td>United-States</td>\n",
              "      <td>&lt;=50K</td>\n",
              "    </tr>\n",
              "    <tr>\n",
              "      <th>32557</th>\n",
              "      <td>40</td>\n",
              "      <td>Private</td>\n",
              "      <td>154374</td>\n",
              "      <td>HS-grad</td>\n",
              "      <td>9</td>\n",
              "      <td>Married-civ-spouse</td>\n",
              "      <td>Machine-op-inspct</td>\n",
              "      <td>White</td>\n",
              "      <td>Male</td>\n",
              "      <td>0</td>\n",
              "      <td>0</td>\n",
              "      <td>40</td>\n",
              "      <td>United-States</td>\n",
              "      <td>&gt;50K</td>\n",
              "    </tr>\n",
              "    <tr>\n",
              "      <th>32558</th>\n",
              "      <td>58</td>\n",
              "      <td>Private</td>\n",
              "      <td>151910</td>\n",
              "      <td>HS-grad</td>\n",
              "      <td>9</td>\n",
              "      <td>Widowed</td>\n",
              "      <td>Adm-clerical</td>\n",
              "      <td>White</td>\n",
              "      <td>Female</td>\n",
              "      <td>0</td>\n",
              "      <td>0</td>\n",
              "      <td>40</td>\n",
              "      <td>United-States</td>\n",
              "      <td>&lt;=50K</td>\n",
              "    </tr>\n",
              "    <tr>\n",
              "      <th>32559</th>\n",
              "      <td>22</td>\n",
              "      <td>Private</td>\n",
              "      <td>201490</td>\n",
              "      <td>HS-grad</td>\n",
              "      <td>9</td>\n",
              "      <td>Never-married</td>\n",
              "      <td>Adm-clerical</td>\n",
              "      <td>White</td>\n",
              "      <td>Male</td>\n",
              "      <td>0</td>\n",
              "      <td>0</td>\n",
              "      <td>20</td>\n",
              "      <td>United-States</td>\n",
              "      <td>&lt;=50K</td>\n",
              "    </tr>\n",
              "    <tr>\n",
              "      <th>32560</th>\n",
              "      <td>52</td>\n",
              "      <td>Self-emp-inc</td>\n",
              "      <td>287927</td>\n",
              "      <td>HS-grad</td>\n",
              "      <td>9</td>\n",
              "      <td>Married-civ-spouse</td>\n",
              "      <td>Exec-managerial</td>\n",
              "      <td>White</td>\n",
              "      <td>Female</td>\n",
              "      <td>15024</td>\n",
              "      <td>0</td>\n",
              "      <td>40</td>\n",
              "      <td>United-States</td>\n",
              "      <td>&gt;50K</td>\n",
              "    </tr>\n",
              "  </tbody>\n",
              "</table>\n",
              "</div>\n",
              "      <button class=\"colab-df-convert\" onclick=\"convertToInteractive('df-703ae5a2-d15c-41ca-a82f-e13599af4d19')\"\n",
              "              title=\"Convert this dataframe to an interactive table.\"\n",
              "              style=\"display:none;\">\n",
              "        \n",
              "  <svg xmlns=\"http://www.w3.org/2000/svg\" height=\"24px\"viewBox=\"0 0 24 24\"\n",
              "       width=\"24px\">\n",
              "    <path d=\"M0 0h24v24H0V0z\" fill=\"none\"/>\n",
              "    <path d=\"M18.56 5.44l.94 2.06.94-2.06 2.06-.94-2.06-.94-.94-2.06-.94 2.06-2.06.94zm-11 1L8.5 8.5l.94-2.06 2.06-.94-2.06-.94L8.5 2.5l-.94 2.06-2.06.94zm10 10l.94 2.06.94-2.06 2.06-.94-2.06-.94-.94-2.06-.94 2.06-2.06.94z\"/><path d=\"M17.41 7.96l-1.37-1.37c-.4-.4-.92-.59-1.43-.59-.52 0-1.04.2-1.43.59L10.3 9.45l-7.72 7.72c-.78.78-.78 2.05 0 2.83L4 21.41c.39.39.9.59 1.41.59.51 0 1.02-.2 1.41-.59l7.78-7.78 2.81-2.81c.8-.78.8-2.07 0-2.86zM5.41 20L4 18.59l7.72-7.72 1.47 1.35L5.41 20z\"/>\n",
              "  </svg>\n",
              "      </button>\n",
              "      \n",
              "  <style>\n",
              "    .colab-df-container {\n",
              "      display:flex;\n",
              "      flex-wrap:wrap;\n",
              "      gap: 12px;\n",
              "    }\n",
              "\n",
              "    .colab-df-convert {\n",
              "      background-color: #E8F0FE;\n",
              "      border: none;\n",
              "      border-radius: 50%;\n",
              "      cursor: pointer;\n",
              "      display: none;\n",
              "      fill: #1967D2;\n",
              "      height: 32px;\n",
              "      padding: 0 0 0 0;\n",
              "      width: 32px;\n",
              "    }\n",
              "\n",
              "    .colab-df-convert:hover {\n",
              "      background-color: #E2EBFA;\n",
              "      box-shadow: 0px 1px 2px rgba(60, 64, 67, 0.3), 0px 1px 3px 1px rgba(60, 64, 67, 0.15);\n",
              "      fill: #174EA6;\n",
              "    }\n",
              "\n",
              "    [theme=dark] .colab-df-convert {\n",
              "      background-color: #3B4455;\n",
              "      fill: #D2E3FC;\n",
              "    }\n",
              "\n",
              "    [theme=dark] .colab-df-convert:hover {\n",
              "      background-color: #434B5C;\n",
              "      box-shadow: 0px 1px 3px 1px rgba(0, 0, 0, 0.15);\n",
              "      filter: drop-shadow(0px 1px 2px rgba(0, 0, 0, 0.3));\n",
              "      fill: #FFFFFF;\n",
              "    }\n",
              "  </style>\n",
              "\n",
              "      <script>\n",
              "        const buttonEl =\n",
              "          document.querySelector('#df-703ae5a2-d15c-41ca-a82f-e13599af4d19 button.colab-df-convert');\n",
              "        buttonEl.style.display =\n",
              "          google.colab.kernel.accessAllowed ? 'block' : 'none';\n",
              "\n",
              "        async function convertToInteractive(key) {\n",
              "          const element = document.querySelector('#df-703ae5a2-d15c-41ca-a82f-e13599af4d19');\n",
              "          const dataTable =\n",
              "            await google.colab.kernel.invokeFunction('convertToInteractive',\n",
              "                                                     [key], {});\n",
              "          if (!dataTable) return;\n",
              "\n",
              "          const docLinkHtml = 'Like what you see? Visit the ' +\n",
              "            '<a target=\"_blank\" href=https://colab.research.google.com/notebooks/data_table.ipynb>data table notebook</a>'\n",
              "            + ' to learn more about interactive tables.';\n",
              "          element.innerHTML = '';\n",
              "          dataTable['output_type'] = 'display_data';\n",
              "          await google.colab.output.renderOutput(dataTable, element);\n",
              "          const docLink = document.createElement('div');\n",
              "          docLink.innerHTML = docLinkHtml;\n",
              "          element.appendChild(docLink);\n",
              "        }\n",
              "      </script>\n",
              "    </div>\n",
              "  </div>\n",
              "  "
            ]
          },
          "metadata": {},
          "execution_count": 54
        }
      ],
      "source": [
        "data.tail()"
      ]
    },
    {
      "cell_type": "code",
      "source": [
        "data.sample(n=7)"
      ],
      "metadata": {
        "colab": {
          "base_uri": "https://localhost:8080/",
          "height": 434
        },
        "id": "gg4KKAyxICBK",
        "outputId": "cb110ec7-a712-4465-9d47-8a0a2e356f99"
      },
      "id": "gg4KKAyxICBK",
      "execution_count": null,
      "outputs": [
        {
          "output_type": "execute_result",
          "data": {
            "text/plain": [
              "       age   workclass  fnlwgt      education  education-no. of years  \\\n",
              "9588    53   Local-gov  233734        Masters                      14   \n",
              "12601   48     Private  248059      Bachelors                      13   \n",
              "24126   46     Private  216934      Bachelors                      13   \n",
              "8882    48     Private  355978        Masters                      14   \n",
              "1704    22           ?  376277   Some-college                      10   \n",
              "8210    31     Private   35378   Some-college                      10   \n",
              "15929   32     Private  119124      Bachelors                      13   \n",
              "\n",
              "            marital status        occupation    race      sex  capital gain  \\\n",
              "9588              Divorced    Prof-specialty   Black   Female             0   \n",
              "12601   Married-civ-spouse   Exec-managerial   White     Male          5013   \n",
              "24126             Divorced      Adm-clerical   White     Male             0   \n",
              "8882    Married-civ-spouse   Exec-managerial   White     Male             0   \n",
              "1704              Divorced                 ?   White   Female             0   \n",
              "8210              Divorced      Adm-clerical   White   Female             0   \n",
              "15929        Never-married    Prof-specialty   White     Male             0   \n",
              "\n",
              "       capital loss  working hours per week  native-country  salary  \n",
              "9588              0                      40   United-States    >50K  \n",
              "12601             0                      45   United-States   <=50K  \n",
              "24126             0                      40        Portugal   <=50K  \n",
              "8882              0                      40   United-States   <=50K  \n",
              "1704              0                      35   United-States   <=50K  \n",
              "8210              0                      45   United-States   <=50K  \n",
              "15929             0                      40   United-States   <=50K  "
            ],
            "text/html": [
              "\n",
              "  <div id=\"df-34f674a3-a83c-4be5-b1a4-da292cc06f6a\">\n",
              "    <div class=\"colab-df-container\">\n",
              "      <div>\n",
              "<style scoped>\n",
              "    .dataframe tbody tr th:only-of-type {\n",
              "        vertical-align: middle;\n",
              "    }\n",
              "\n",
              "    .dataframe tbody tr th {\n",
              "        vertical-align: top;\n",
              "    }\n",
              "\n",
              "    .dataframe thead th {\n",
              "        text-align: right;\n",
              "    }\n",
              "</style>\n",
              "<table border=\"1\" class=\"dataframe\">\n",
              "  <thead>\n",
              "    <tr style=\"text-align: right;\">\n",
              "      <th></th>\n",
              "      <th>age</th>\n",
              "      <th>workclass</th>\n",
              "      <th>fnlwgt</th>\n",
              "      <th>education</th>\n",
              "      <th>education-no. of years</th>\n",
              "      <th>marital status</th>\n",
              "      <th>occupation</th>\n",
              "      <th>race</th>\n",
              "      <th>sex</th>\n",
              "      <th>capital gain</th>\n",
              "      <th>capital loss</th>\n",
              "      <th>working hours per week</th>\n",
              "      <th>native-country</th>\n",
              "      <th>salary</th>\n",
              "    </tr>\n",
              "  </thead>\n",
              "  <tbody>\n",
              "    <tr>\n",
              "      <th>9588</th>\n",
              "      <td>53</td>\n",
              "      <td>Local-gov</td>\n",
              "      <td>233734</td>\n",
              "      <td>Masters</td>\n",
              "      <td>14</td>\n",
              "      <td>Divorced</td>\n",
              "      <td>Prof-specialty</td>\n",
              "      <td>Black</td>\n",
              "      <td>Female</td>\n",
              "      <td>0</td>\n",
              "      <td>0</td>\n",
              "      <td>40</td>\n",
              "      <td>United-States</td>\n",
              "      <td>&gt;50K</td>\n",
              "    </tr>\n",
              "    <tr>\n",
              "      <th>12601</th>\n",
              "      <td>48</td>\n",
              "      <td>Private</td>\n",
              "      <td>248059</td>\n",
              "      <td>Bachelors</td>\n",
              "      <td>13</td>\n",
              "      <td>Married-civ-spouse</td>\n",
              "      <td>Exec-managerial</td>\n",
              "      <td>White</td>\n",
              "      <td>Male</td>\n",
              "      <td>5013</td>\n",
              "      <td>0</td>\n",
              "      <td>45</td>\n",
              "      <td>United-States</td>\n",
              "      <td>&lt;=50K</td>\n",
              "    </tr>\n",
              "    <tr>\n",
              "      <th>24126</th>\n",
              "      <td>46</td>\n",
              "      <td>Private</td>\n",
              "      <td>216934</td>\n",
              "      <td>Bachelors</td>\n",
              "      <td>13</td>\n",
              "      <td>Divorced</td>\n",
              "      <td>Adm-clerical</td>\n",
              "      <td>White</td>\n",
              "      <td>Male</td>\n",
              "      <td>0</td>\n",
              "      <td>0</td>\n",
              "      <td>40</td>\n",
              "      <td>Portugal</td>\n",
              "      <td>&lt;=50K</td>\n",
              "    </tr>\n",
              "    <tr>\n",
              "      <th>8882</th>\n",
              "      <td>48</td>\n",
              "      <td>Private</td>\n",
              "      <td>355978</td>\n",
              "      <td>Masters</td>\n",
              "      <td>14</td>\n",
              "      <td>Married-civ-spouse</td>\n",
              "      <td>Exec-managerial</td>\n",
              "      <td>White</td>\n",
              "      <td>Male</td>\n",
              "      <td>0</td>\n",
              "      <td>0</td>\n",
              "      <td>40</td>\n",
              "      <td>United-States</td>\n",
              "      <td>&lt;=50K</td>\n",
              "    </tr>\n",
              "    <tr>\n",
              "      <th>1704</th>\n",
              "      <td>22</td>\n",
              "      <td>?</td>\n",
              "      <td>376277</td>\n",
              "      <td>Some-college</td>\n",
              "      <td>10</td>\n",
              "      <td>Divorced</td>\n",
              "      <td>?</td>\n",
              "      <td>White</td>\n",
              "      <td>Female</td>\n",
              "      <td>0</td>\n",
              "      <td>0</td>\n",
              "      <td>35</td>\n",
              "      <td>United-States</td>\n",
              "      <td>&lt;=50K</td>\n",
              "    </tr>\n",
              "    <tr>\n",
              "      <th>8210</th>\n",
              "      <td>31</td>\n",
              "      <td>Private</td>\n",
              "      <td>35378</td>\n",
              "      <td>Some-college</td>\n",
              "      <td>10</td>\n",
              "      <td>Divorced</td>\n",
              "      <td>Adm-clerical</td>\n",
              "      <td>White</td>\n",
              "      <td>Female</td>\n",
              "      <td>0</td>\n",
              "      <td>0</td>\n",
              "      <td>45</td>\n",
              "      <td>United-States</td>\n",
              "      <td>&lt;=50K</td>\n",
              "    </tr>\n",
              "    <tr>\n",
              "      <th>15929</th>\n",
              "      <td>32</td>\n",
              "      <td>Private</td>\n",
              "      <td>119124</td>\n",
              "      <td>Bachelors</td>\n",
              "      <td>13</td>\n",
              "      <td>Never-married</td>\n",
              "      <td>Prof-specialty</td>\n",
              "      <td>White</td>\n",
              "      <td>Male</td>\n",
              "      <td>0</td>\n",
              "      <td>0</td>\n",
              "      <td>40</td>\n",
              "      <td>United-States</td>\n",
              "      <td>&lt;=50K</td>\n",
              "    </tr>\n",
              "  </tbody>\n",
              "</table>\n",
              "</div>\n",
              "      <button class=\"colab-df-convert\" onclick=\"convertToInteractive('df-34f674a3-a83c-4be5-b1a4-da292cc06f6a')\"\n",
              "              title=\"Convert this dataframe to an interactive table.\"\n",
              "              style=\"display:none;\">\n",
              "        \n",
              "  <svg xmlns=\"http://www.w3.org/2000/svg\" height=\"24px\"viewBox=\"0 0 24 24\"\n",
              "       width=\"24px\">\n",
              "    <path d=\"M0 0h24v24H0V0z\" fill=\"none\"/>\n",
              "    <path d=\"M18.56 5.44l.94 2.06.94-2.06 2.06-.94-2.06-.94-.94-2.06-.94 2.06-2.06.94zm-11 1L8.5 8.5l.94-2.06 2.06-.94-2.06-.94L8.5 2.5l-.94 2.06-2.06.94zm10 10l.94 2.06.94-2.06 2.06-.94-2.06-.94-.94-2.06-.94 2.06-2.06.94z\"/><path d=\"M17.41 7.96l-1.37-1.37c-.4-.4-.92-.59-1.43-.59-.52 0-1.04.2-1.43.59L10.3 9.45l-7.72 7.72c-.78.78-.78 2.05 0 2.83L4 21.41c.39.39.9.59 1.41.59.51 0 1.02-.2 1.41-.59l7.78-7.78 2.81-2.81c.8-.78.8-2.07 0-2.86zM5.41 20L4 18.59l7.72-7.72 1.47 1.35L5.41 20z\"/>\n",
              "  </svg>\n",
              "      </button>\n",
              "      \n",
              "  <style>\n",
              "    .colab-df-container {\n",
              "      display:flex;\n",
              "      flex-wrap:wrap;\n",
              "      gap: 12px;\n",
              "    }\n",
              "\n",
              "    .colab-df-convert {\n",
              "      background-color: #E8F0FE;\n",
              "      border: none;\n",
              "      border-radius: 50%;\n",
              "      cursor: pointer;\n",
              "      display: none;\n",
              "      fill: #1967D2;\n",
              "      height: 32px;\n",
              "      padding: 0 0 0 0;\n",
              "      width: 32px;\n",
              "    }\n",
              "\n",
              "    .colab-df-convert:hover {\n",
              "      background-color: #E2EBFA;\n",
              "      box-shadow: 0px 1px 2px rgba(60, 64, 67, 0.3), 0px 1px 3px 1px rgba(60, 64, 67, 0.15);\n",
              "      fill: #174EA6;\n",
              "    }\n",
              "\n",
              "    [theme=dark] .colab-df-convert {\n",
              "      background-color: #3B4455;\n",
              "      fill: #D2E3FC;\n",
              "    }\n",
              "\n",
              "    [theme=dark] .colab-df-convert:hover {\n",
              "      background-color: #434B5C;\n",
              "      box-shadow: 0px 1px 3px 1px rgba(0, 0, 0, 0.15);\n",
              "      filter: drop-shadow(0px 1px 2px rgba(0, 0, 0, 0.3));\n",
              "      fill: #FFFFFF;\n",
              "    }\n",
              "  </style>\n",
              "\n",
              "      <script>\n",
              "        const buttonEl =\n",
              "          document.querySelector('#df-34f674a3-a83c-4be5-b1a4-da292cc06f6a button.colab-df-convert');\n",
              "        buttonEl.style.display =\n",
              "          google.colab.kernel.accessAllowed ? 'block' : 'none';\n",
              "\n",
              "        async function convertToInteractive(key) {\n",
              "          const element = document.querySelector('#df-34f674a3-a83c-4be5-b1a4-da292cc06f6a');\n",
              "          const dataTable =\n",
              "            await google.colab.kernel.invokeFunction('convertToInteractive',\n",
              "                                                     [key], {});\n",
              "          if (!dataTable) return;\n",
              "\n",
              "          const docLinkHtml = 'Like what you see? Visit the ' +\n",
              "            '<a target=\"_blank\" href=https://colab.research.google.com/notebooks/data_table.ipynb>data table notebook</a>'\n",
              "            + ' to learn more about interactive tables.';\n",
              "          element.innerHTML = '';\n",
              "          dataTable['output_type'] = 'display_data';\n",
              "          await google.colab.output.renderOutput(dataTable, element);\n",
              "          const docLink = document.createElement('div');\n",
              "          docLink.innerHTML = docLinkHtml;\n",
              "          element.appendChild(docLink);\n",
              "        }\n",
              "      </script>\n",
              "    </div>\n",
              "  </div>\n",
              "  "
            ]
          },
          "metadata": {},
          "execution_count": 55
        }
      ]
    },
    {
      "cell_type": "markdown",
      "id": "another-punishment",
      "metadata": {
        "id": "another-punishment"
      },
      "source": [
        "### Understand the shape of the dataset."
      ]
    },
    {
      "cell_type": "code",
      "execution_count": null,
      "id": "second-jewel",
      "metadata": {
        "colab": {
          "base_uri": "https://localhost:8080/"
        },
        "id": "second-jewel",
        "outputId": "ef64a044-ba78-4031-b69f-0185bdb06472"
      },
      "outputs": [
        {
          "output_type": "execute_result",
          "data": {
            "text/plain": [
              "(32561, 14)"
            ]
          },
          "metadata": {},
          "execution_count": 56
        }
      ],
      "source": [
        "data.shape"
      ]
    },
    {
      "cell_type": "markdown",
      "id": "abroad-virgin",
      "metadata": {
        "id": "abroad-virgin"
      },
      "source": [
        "* The dataset has 32561 rows and 14 columns "
      ]
    },
    {
      "cell_type": "markdown",
      "id": "brutal-question",
      "metadata": {
        "id": "brutal-question"
      },
      "source": [
        "### Check the data types of the columns for the dataset."
      ]
    },
    {
      "cell_type": "code",
      "execution_count": null,
      "id": "sitting-rough",
      "metadata": {
        "colab": {
          "base_uri": "https://localhost:8080/"
        },
        "id": "sitting-rough",
        "outputId": "5dc40bd3-30da-4a3b-edfb-e531378bf2c8",
        "scrolled": false
      },
      "outputs": [
        {
          "output_type": "stream",
          "name": "stdout",
          "text": [
            "<class 'pandas.core.frame.DataFrame'>\n",
            "RangeIndex: 32561 entries, 0 to 32560\n",
            "Data columns (total 14 columns):\n",
            " #   Column                  Non-Null Count  Dtype \n",
            "---  ------                  --------------  ----- \n",
            " 0   age                     32561 non-null  int64 \n",
            " 1   workclass               32561 non-null  object\n",
            " 2   fnlwgt                  32561 non-null  int64 \n",
            " 3   education               32561 non-null  object\n",
            " 4   education-no. of years  32561 non-null  int64 \n",
            " 5   marital status          32561 non-null  object\n",
            " 6   occupation              32561 non-null  object\n",
            " 7   race                    32561 non-null  object\n",
            " 8   sex                     32561 non-null  object\n",
            " 9   capital gain            32561 non-null  int64 \n",
            " 10  capital loss            32561 non-null  int64 \n",
            " 11  working hours per week  32561 non-null  int64 \n",
            " 12  native-country          32561 non-null  object\n",
            " 13  salary                  32561 non-null  object\n",
            "dtypes: int64(6), object(8)\n",
            "memory usage: 3.5+ MB\n"
          ]
        }
      ],
      "source": [
        "data.info()"
      ]
    },
    {
      "cell_type": "markdown",
      "id": "dental-marketplace",
      "metadata": {
        "id": "dental-marketplace"
      },
      "source": [
        "* We see that names of the columns have spaces, dots, and dash which we will remove as they should not be present in column names. We are doing this to maintain uniformity among the column names.\n",
        "* Dependent variable is the salary which is of categorical type.\n",
        "* age, capital gain, and capital loss are of integer type while other variables are of categorical type.\n",
        "* There are no missing values in the dataset."
      ]
    },
    {
      "cell_type": "code",
      "execution_count": null,
      "id": "marked-funeral",
      "metadata": {
        "id": "marked-funeral"
      },
      "outputs": [],
      "source": [
        "# fixing the names of columns as there are dots, spaces  in columns names\n",
        "data.columns = [col.replace(\" \", \"_\") for col in data.columns]\n",
        "data.columns = [col.replace(\"-\", \"_\") for col in data.columns]\n",
        "data.columns = [col.replace(\".\", \"\") for col in data.columns]"
      ]
    },
    {
      "cell_type": "code",
      "execution_count": null,
      "id": "polished-floating",
      "metadata": {
        "colab": {
          "base_uri": "https://localhost:8080/"
        },
        "id": "polished-floating",
        "outputId": "a6779e53-1e8a-4528-d131-0310e8859889"
      },
      "outputs": [
        {
          "output_type": "stream",
          "name": "stdout",
          "text": [
            "Index(['age', 'workclass', 'fnlwgt', 'education', 'education_no_of_years',\n",
            "       'marital_status', 'occupation', 'race', 'sex', 'capital_gain',\n",
            "       'capital_loss', 'working_hours_per_week', 'native_country', 'salary'],\n",
            "      dtype='object')\n"
          ]
        }
      ],
      "source": [
        "print(data.columns)"
      ]
    },
    {
      "cell_type": "markdown",
      "id": "internal-concept",
      "metadata": {
        "id": "internal-concept"
      },
      "source": [
        "* The column names are fixed"
      ]
    },
    {
      "cell_type": "markdown",
      "id": "sealed-platform",
      "metadata": {
        "id": "sealed-platform"
      },
      "source": [
        "### Summary of the dataset."
      ]
    },
    {
      "cell_type": "code",
      "execution_count": null,
      "id": "unusual-industry",
      "metadata": {
        "colab": {
          "base_uri": "https://localhost:8080/",
          "height": 237
        },
        "id": "unusual-industry",
        "outputId": "f26414f4-f12b-45c4-935a-2323c2dd2591"
      },
      "outputs": [
        {
          "output_type": "execute_result",
          "data": {
            "text/plain": [
              "                          count           mean            std      min  \\\n",
              "age                     32561.0      38.581647      13.640433     17.0   \n",
              "fnlwgt                  32561.0  189778.366512  105549.977697  12285.0   \n",
              "education_no_of_years   32561.0      10.080679       2.572720      1.0   \n",
              "capital_gain            32561.0    1077.648844    7385.292085      0.0   \n",
              "capital_loss            32561.0      87.303830     402.960219      0.0   \n",
              "working_hours_per_week  32561.0      40.437456      12.347429      1.0   \n",
              "\n",
              "                             25%       50%       75%        max  \n",
              "age                         28.0      37.0      48.0       90.0  \n",
              "fnlwgt                  117827.0  178356.0  237051.0  1484705.0  \n",
              "education_no_of_years        9.0      10.0      12.0       16.0  \n",
              "capital_gain                 0.0       0.0       0.0    99999.0  \n",
              "capital_loss                 0.0       0.0       0.0     4356.0  \n",
              "working_hours_per_week      40.0      40.0      45.0       99.0  "
            ],
            "text/html": [
              "\n",
              "  <div id=\"df-499f4ae9-146c-41e8-8626-92eee191b72e\">\n",
              "    <div class=\"colab-df-container\">\n",
              "      <div>\n",
              "<style scoped>\n",
              "    .dataframe tbody tr th:only-of-type {\n",
              "        vertical-align: middle;\n",
              "    }\n",
              "\n",
              "    .dataframe tbody tr th {\n",
              "        vertical-align: top;\n",
              "    }\n",
              "\n",
              "    .dataframe thead th {\n",
              "        text-align: right;\n",
              "    }\n",
              "</style>\n",
              "<table border=\"1\" class=\"dataframe\">\n",
              "  <thead>\n",
              "    <tr style=\"text-align: right;\">\n",
              "      <th></th>\n",
              "      <th>count</th>\n",
              "      <th>mean</th>\n",
              "      <th>std</th>\n",
              "      <th>min</th>\n",
              "      <th>25%</th>\n",
              "      <th>50%</th>\n",
              "      <th>75%</th>\n",
              "      <th>max</th>\n",
              "    </tr>\n",
              "  </thead>\n",
              "  <tbody>\n",
              "    <tr>\n",
              "      <th>age</th>\n",
              "      <td>32561.0</td>\n",
              "      <td>38.581647</td>\n",
              "      <td>13.640433</td>\n",
              "      <td>17.0</td>\n",
              "      <td>28.0</td>\n",
              "      <td>37.0</td>\n",
              "      <td>48.0</td>\n",
              "      <td>90.0</td>\n",
              "    </tr>\n",
              "    <tr>\n",
              "      <th>fnlwgt</th>\n",
              "      <td>32561.0</td>\n",
              "      <td>189778.366512</td>\n",
              "      <td>105549.977697</td>\n",
              "      <td>12285.0</td>\n",
              "      <td>117827.0</td>\n",
              "      <td>178356.0</td>\n",
              "      <td>237051.0</td>\n",
              "      <td>1484705.0</td>\n",
              "    </tr>\n",
              "    <tr>\n",
              "      <th>education_no_of_years</th>\n",
              "      <td>32561.0</td>\n",
              "      <td>10.080679</td>\n",
              "      <td>2.572720</td>\n",
              "      <td>1.0</td>\n",
              "      <td>9.0</td>\n",
              "      <td>10.0</td>\n",
              "      <td>12.0</td>\n",
              "      <td>16.0</td>\n",
              "    </tr>\n",
              "    <tr>\n",
              "      <th>capital_gain</th>\n",
              "      <td>32561.0</td>\n",
              "      <td>1077.648844</td>\n",
              "      <td>7385.292085</td>\n",
              "      <td>0.0</td>\n",
              "      <td>0.0</td>\n",
              "      <td>0.0</td>\n",
              "      <td>0.0</td>\n",
              "      <td>99999.0</td>\n",
              "    </tr>\n",
              "    <tr>\n",
              "      <th>capital_loss</th>\n",
              "      <td>32561.0</td>\n",
              "      <td>87.303830</td>\n",
              "      <td>402.960219</td>\n",
              "      <td>0.0</td>\n",
              "      <td>0.0</td>\n",
              "      <td>0.0</td>\n",
              "      <td>0.0</td>\n",
              "      <td>4356.0</td>\n",
              "    </tr>\n",
              "    <tr>\n",
              "      <th>working_hours_per_week</th>\n",
              "      <td>32561.0</td>\n",
              "      <td>40.437456</td>\n",
              "      <td>12.347429</td>\n",
              "      <td>1.0</td>\n",
              "      <td>40.0</td>\n",
              "      <td>40.0</td>\n",
              "      <td>45.0</td>\n",
              "      <td>99.0</td>\n",
              "    </tr>\n",
              "  </tbody>\n",
              "</table>\n",
              "</div>\n",
              "      <button class=\"colab-df-convert\" onclick=\"convertToInteractive('df-499f4ae9-146c-41e8-8626-92eee191b72e')\"\n",
              "              title=\"Convert this dataframe to an interactive table.\"\n",
              "              style=\"display:none;\">\n",
              "        \n",
              "  <svg xmlns=\"http://www.w3.org/2000/svg\" height=\"24px\"viewBox=\"0 0 24 24\"\n",
              "       width=\"24px\">\n",
              "    <path d=\"M0 0h24v24H0V0z\" fill=\"none\"/>\n",
              "    <path d=\"M18.56 5.44l.94 2.06.94-2.06 2.06-.94-2.06-.94-.94-2.06-.94 2.06-2.06.94zm-11 1L8.5 8.5l.94-2.06 2.06-.94-2.06-.94L8.5 2.5l-.94 2.06-2.06.94zm10 10l.94 2.06.94-2.06 2.06-.94-2.06-.94-.94-2.06-.94 2.06-2.06.94z\"/><path d=\"M17.41 7.96l-1.37-1.37c-.4-.4-.92-.59-1.43-.59-.52 0-1.04.2-1.43.59L10.3 9.45l-7.72 7.72c-.78.78-.78 2.05 0 2.83L4 21.41c.39.39.9.59 1.41.59.51 0 1.02-.2 1.41-.59l7.78-7.78 2.81-2.81c.8-.78.8-2.07 0-2.86zM5.41 20L4 18.59l7.72-7.72 1.47 1.35L5.41 20z\"/>\n",
              "  </svg>\n",
              "      </button>\n",
              "      \n",
              "  <style>\n",
              "    .colab-df-container {\n",
              "      display:flex;\n",
              "      flex-wrap:wrap;\n",
              "      gap: 12px;\n",
              "    }\n",
              "\n",
              "    .colab-df-convert {\n",
              "      background-color: #E8F0FE;\n",
              "      border: none;\n",
              "      border-radius: 50%;\n",
              "      cursor: pointer;\n",
              "      display: none;\n",
              "      fill: #1967D2;\n",
              "      height: 32px;\n",
              "      padding: 0 0 0 0;\n",
              "      width: 32px;\n",
              "    }\n",
              "\n",
              "    .colab-df-convert:hover {\n",
              "      background-color: #E2EBFA;\n",
              "      box-shadow: 0px 1px 2px rgba(60, 64, 67, 0.3), 0px 1px 3px 1px rgba(60, 64, 67, 0.15);\n",
              "      fill: #174EA6;\n",
              "    }\n",
              "\n",
              "    [theme=dark] .colab-df-convert {\n",
              "      background-color: #3B4455;\n",
              "      fill: #D2E3FC;\n",
              "    }\n",
              "\n",
              "    [theme=dark] .colab-df-convert:hover {\n",
              "      background-color: #434B5C;\n",
              "      box-shadow: 0px 1px 3px 1px rgba(0, 0, 0, 0.15);\n",
              "      filter: drop-shadow(0px 1px 2px rgba(0, 0, 0, 0.3));\n",
              "      fill: #FFFFFF;\n",
              "    }\n",
              "  </style>\n",
              "\n",
              "      <script>\n",
              "        const buttonEl =\n",
              "          document.querySelector('#df-499f4ae9-146c-41e8-8626-92eee191b72e button.colab-df-convert');\n",
              "        buttonEl.style.display =\n",
              "          google.colab.kernel.accessAllowed ? 'block' : 'none';\n",
              "\n",
              "        async function convertToInteractive(key) {\n",
              "          const element = document.querySelector('#df-499f4ae9-146c-41e8-8626-92eee191b72e');\n",
              "          const dataTable =\n",
              "            await google.colab.kernel.invokeFunction('convertToInteractive',\n",
              "                                                     [key], {});\n",
              "          if (!dataTable) return;\n",
              "\n",
              "          const docLinkHtml = 'Like what you see? Visit the ' +\n",
              "            '<a target=\"_blank\" href=https://colab.research.google.com/notebooks/data_table.ipynb>data table notebook</a>'\n",
              "            + ' to learn more about interactive tables.';\n",
              "          element.innerHTML = '';\n",
              "          dataTable['output_type'] = 'display_data';\n",
              "          await google.colab.output.renderOutput(dataTable, element);\n",
              "          const docLink = document.createElement('div');\n",
              "          docLink.innerHTML = docLinkHtml;\n",
              "          element.appendChild(docLink);\n",
              "        }\n",
              "      </script>\n",
              "    </div>\n",
              "  </div>\n",
              "  "
            ]
          },
          "metadata": {},
          "execution_count": 60
        }
      ],
      "source": [
        "data.describe().T"
      ]
    },
    {
      "cell_type": "markdown",
      "id": "administrative-protein",
      "metadata": {
        "id": "administrative-protein"
      },
      "source": [
        "* `age`: Average age of people in the dataset is 38 years, age has a wide range from 17 to 90 years.\n",
        "* `education_no_of_years`: The average education in years is 10 years. There's a large difference between the minimum value and 25th percentile which indicates that there might be outliers present in this variable.\n",
        "* `capital_gain`: There's a huge difference in the 75th percentile and maximum value of capital_gain indicating the presence of outliers. Also, 75% of the observations are 0.\n",
        "* `capital_loss`: Same as capital gain there's a huge difference in the 75th percentile and maximum value indicating the presence of outliers. Also, 75% of the observations are 0.\n",
        "* `working_hours_per_week`: On average people work for 40 hours a week. A vast difference in minimum value and 25th percentile, as well as 75th percentile and the maximum value, indicates that there might be outliers present in the variable."
      ]
    },
    {
      "cell_type": "markdown",
      "id": "grand-trainer",
      "metadata": {
        "id": "grand-trainer"
      },
      "source": [
        "**Lets us look at different levels in categorical variables**"
      ]
    },
    {
      "cell_type": "code",
      "execution_count": null,
      "id": "governing-shaft",
      "metadata": {
        "colab": {
          "base_uri": "https://localhost:8080/"
        },
        "id": "governing-shaft",
        "outputId": "ed607d81-3d7b-4781-9e32-ddf942e760c8"
      },
      "outputs": [
        {
          "output_type": "execute_result",
          "data": {
            "text/plain": [
              "Index(['workclass', 'education', 'marital_status', 'occupation', 'race', 'sex',\n",
              "       'native_country', 'salary'],\n",
              "      dtype='object')"
            ]
          },
          "metadata": {},
          "execution_count": 61
        }
      ],
      "source": [
        "# filtering object type columns\n",
        "cat_columns = data.describe(include=[\"object\"]).columns\n",
        "cat_columns"
      ]
    },
    {
      "cell_type": "code",
      "execution_count": null,
      "id": "sapphire-reunion",
      "metadata": {
        "scrolled": false,
        "colab": {
          "base_uri": "https://localhost:8080/"
        },
        "id": "sapphire-reunion",
        "outputId": "e8cc3a93-0104-466f-e4d5-faef041ef794"
      },
      "outputs": [
        {
          "output_type": "stream",
          "name": "stdout",
          "text": [
            "Unique values in workclass are :\n",
            " Private             22696\n",
            " Self-emp-not-inc     2541\n",
            " Local-gov            2093\n",
            " ?                    1836\n",
            " State-gov            1298\n",
            " Self-emp-inc         1116\n",
            " Federal-gov           960\n",
            " Without-pay            14\n",
            " Never-worked            7\n",
            "Name: workclass, dtype: int64\n",
            "**************************************************\n",
            "Unique values in education are :\n",
            " HS-grad         10501\n",
            " Some-college     7291\n",
            " Bachelors        5355\n",
            " Masters          1723\n",
            " Assoc-voc        1382\n",
            " 11th             1175\n",
            " Assoc-acdm       1067\n",
            " 10th              933\n",
            " 7th-8th           646\n",
            " Prof-school       576\n",
            " 9th               514\n",
            " 12th              433\n",
            " Doctorate         413\n",
            " 5th-6th           333\n",
            " 1st-4th           168\n",
            " Preschool          51\n",
            "Name: education, dtype: int64\n",
            "**************************************************\n",
            "Unique values in marital_status are :\n",
            " Married-civ-spouse       14976\n",
            " Never-married            10683\n",
            " Divorced                  4443\n",
            " Separated                 1025\n",
            " Widowed                    993\n",
            " Married-spouse-absent      418\n",
            " Married-AF-spouse           23\n",
            "Name: marital_status, dtype: int64\n",
            "**************************************************\n",
            "Unique values in occupation are :\n",
            " Prof-specialty       4140\n",
            " Craft-repair         4099\n",
            " Exec-managerial      4066\n",
            " Adm-clerical         3770\n",
            " Sales                3650\n",
            " Other-service        3295\n",
            " Machine-op-inspct    2002\n",
            " ?                    1843\n",
            " Transport-moving     1597\n",
            " Handlers-cleaners    1370\n",
            " Farming-fishing       994\n",
            " Tech-support          928\n",
            " Protective-serv       649\n",
            " Priv-house-serv       149\n",
            " Armed-Forces            9\n",
            "Name: occupation, dtype: int64\n",
            "**************************************************\n",
            "Unique values in race are :\n",
            " White                 27816\n",
            " Black                  3124\n",
            " Asian-Pac-Islander     1039\n",
            " Amer-Indian-Eskimo      311\n",
            " Other                   271\n",
            "Name: race, dtype: int64\n",
            "**************************************************\n",
            "Unique values in sex are :\n",
            " Male      21790\n",
            " Female    10771\n",
            "Name: sex, dtype: int64\n",
            "**************************************************\n",
            "Unique values in native_country are :\n",
            " United-States                 29170\n",
            " Mexico                          643\n",
            " ?                               583\n",
            " Philippines                     198\n",
            " Germany                         137\n",
            " Canada                          121\n",
            " Puerto-Rico                     114\n",
            " El-Salvador                     106\n",
            " India                           100\n",
            " Cuba                             95\n",
            " England                          90\n",
            " Jamaica                          81\n",
            " South                            80\n",
            " China                            75\n",
            " Italy                            73\n",
            " Dominican-Republic               70\n",
            " Vietnam                          67\n",
            " Guatemala                        64\n",
            " Japan                            62\n",
            " Poland                           60\n",
            " Columbia                         59\n",
            " Taiwan                           51\n",
            " Haiti                            44\n",
            " Iran                             43\n",
            " Portugal                         37\n",
            " Nicaragua                        34\n",
            " Peru                             31\n",
            " France                           29\n",
            " Greece                           29\n",
            " Ecuador                          28\n",
            " Ireland                          24\n",
            " Hong                             20\n",
            " Cambodia                         19\n",
            " Trinadad&Tobago                  19\n",
            " Laos                             18\n",
            " Thailand                         18\n",
            " Yugoslavia                       16\n",
            " Outlying-US(Guam-USVI-etc)       14\n",
            " Honduras                         13\n",
            " Hungary                          13\n",
            " Scotland                         12\n",
            " Holand-Netherlands                1\n",
            "Name: native_country, dtype: int64\n",
            "**************************************************\n",
            "Unique values in salary are :\n",
            " <=50K    24720\n",
            " >50K      7841\n",
            "Name: salary, dtype: int64\n",
            "**************************************************\n"
          ]
        }
      ],
      "source": [
        "for i in cat_columns:\n",
        "    print(\"Unique values in\", i, \"are :\")\n",
        "    print(data[i].value_counts())\n",
        "    print(\"*\" * 50)"
      ]
    },
    {
      "cell_type": "markdown",
      "id": "earned-sheriff",
      "metadata": {
        "id": "earned-sheriff"
      },
      "source": [
        "* There are some values represented by a '?' in workclass, occupation, and native country columns which we should investigate further.\n",
        "* There are many distinct values in native_country that can be reduced to their respective continents.\n",
        "* The distinct levels of marital_status can also be reduced."
      ]
    },
    {
      "cell_type": "markdown",
      "id": "super-exhibition",
      "metadata": {
        "id": "super-exhibition"
      },
      "source": [
        "#### We can assume that wherever there is a ? the data is unknown or missing. Let us see if there is a pattern in the missingness."
      ]
    },
    {
      "cell_type": "markdown",
      "id": "recent-ladder",
      "metadata": {
        "id": "recent-ladder"
      },
      "source": [
        "#### workclass"
      ]
    },
    {
      "cell_type": "code",
      "execution_count": null,
      "id": "working-frank",
      "metadata": {
        "colab": {
          "base_uri": "https://localhost:8080/",
          "height": 374
        },
        "id": "working-frank",
        "outputId": "7f508988-cde4-4149-f2ff-6b75f103621e"
      },
      "outputs": [
        {
          "output_type": "execute_result",
          "data": {
            "text/plain": [
              "       age workclass  fnlwgt      education  education_no_of_years  \\\n",
              "20686   42         ?   32533   Some-college                     10   \n",
              "27      54         ?  180211   Some-college                     10   \n",
              "13884   70         ?   26990        HS-grad                      9   \n",
              "830     42         ?  257780           11th                      7   \n",
              "18720   60         ?   41517           11th                      7   \n",
              "\n",
              "               marital_status occupation                 race      sex  \\\n",
              "20686           Never-married          ?                White     Male   \n",
              "27         Married-civ-spouse          ?   Asian-Pac-Islander     Male   \n",
              "13884      Married-civ-spouse          ?                White     Male   \n",
              "830        Married-civ-spouse          ?                White     Male   \n",
              "18720   Married-spouse-absent          ?                Black   Female   \n",
              "\n",
              "       capital_gain  capital_loss  working_hours_per_week  native_country  \\\n",
              "20686             0             0                      45   United-States   \n",
              "27                0             0                      60           South   \n",
              "13884             0             0                      60   United-States   \n",
              "830               0             0                      15   United-States   \n",
              "18720             0             0                      20   United-States   \n",
              "\n",
              "       salary  \n",
              "20686   <=50K  \n",
              "27       >50K  \n",
              "13884   <=50K  \n",
              "830     <=50K  \n",
              "18720   <=50K  "
            ],
            "text/html": [
              "\n",
              "  <div id=\"df-89f4b403-4b1c-4e88-8649-d44e3c8bb25a\">\n",
              "    <div class=\"colab-df-container\">\n",
              "      <div>\n",
              "<style scoped>\n",
              "    .dataframe tbody tr th:only-of-type {\n",
              "        vertical-align: middle;\n",
              "    }\n",
              "\n",
              "    .dataframe tbody tr th {\n",
              "        vertical-align: top;\n",
              "    }\n",
              "\n",
              "    .dataframe thead th {\n",
              "        text-align: right;\n",
              "    }\n",
              "</style>\n",
              "<table border=\"1\" class=\"dataframe\">\n",
              "  <thead>\n",
              "    <tr style=\"text-align: right;\">\n",
              "      <th></th>\n",
              "      <th>age</th>\n",
              "      <th>workclass</th>\n",
              "      <th>fnlwgt</th>\n",
              "      <th>education</th>\n",
              "      <th>education_no_of_years</th>\n",
              "      <th>marital_status</th>\n",
              "      <th>occupation</th>\n",
              "      <th>race</th>\n",
              "      <th>sex</th>\n",
              "      <th>capital_gain</th>\n",
              "      <th>capital_loss</th>\n",
              "      <th>working_hours_per_week</th>\n",
              "      <th>native_country</th>\n",
              "      <th>salary</th>\n",
              "    </tr>\n",
              "  </thead>\n",
              "  <tbody>\n",
              "    <tr>\n",
              "      <th>20686</th>\n",
              "      <td>42</td>\n",
              "      <td>?</td>\n",
              "      <td>32533</td>\n",
              "      <td>Some-college</td>\n",
              "      <td>10</td>\n",
              "      <td>Never-married</td>\n",
              "      <td>?</td>\n",
              "      <td>White</td>\n",
              "      <td>Male</td>\n",
              "      <td>0</td>\n",
              "      <td>0</td>\n",
              "      <td>45</td>\n",
              "      <td>United-States</td>\n",
              "      <td>&lt;=50K</td>\n",
              "    </tr>\n",
              "    <tr>\n",
              "      <th>27</th>\n",
              "      <td>54</td>\n",
              "      <td>?</td>\n",
              "      <td>180211</td>\n",
              "      <td>Some-college</td>\n",
              "      <td>10</td>\n",
              "      <td>Married-civ-spouse</td>\n",
              "      <td>?</td>\n",
              "      <td>Asian-Pac-Islander</td>\n",
              "      <td>Male</td>\n",
              "      <td>0</td>\n",
              "      <td>0</td>\n",
              "      <td>60</td>\n",
              "      <td>South</td>\n",
              "      <td>&gt;50K</td>\n",
              "    </tr>\n",
              "    <tr>\n",
              "      <th>13884</th>\n",
              "      <td>70</td>\n",
              "      <td>?</td>\n",
              "      <td>26990</td>\n",
              "      <td>HS-grad</td>\n",
              "      <td>9</td>\n",
              "      <td>Married-civ-spouse</td>\n",
              "      <td>?</td>\n",
              "      <td>White</td>\n",
              "      <td>Male</td>\n",
              "      <td>0</td>\n",
              "      <td>0</td>\n",
              "      <td>60</td>\n",
              "      <td>United-States</td>\n",
              "      <td>&lt;=50K</td>\n",
              "    </tr>\n",
              "    <tr>\n",
              "      <th>830</th>\n",
              "      <td>42</td>\n",
              "      <td>?</td>\n",
              "      <td>257780</td>\n",
              "      <td>11th</td>\n",
              "      <td>7</td>\n",
              "      <td>Married-civ-spouse</td>\n",
              "      <td>?</td>\n",
              "      <td>White</td>\n",
              "      <td>Male</td>\n",
              "      <td>0</td>\n",
              "      <td>0</td>\n",
              "      <td>15</td>\n",
              "      <td>United-States</td>\n",
              "      <td>&lt;=50K</td>\n",
              "    </tr>\n",
              "    <tr>\n",
              "      <th>18720</th>\n",
              "      <td>60</td>\n",
              "      <td>?</td>\n",
              "      <td>41517</td>\n",
              "      <td>11th</td>\n",
              "      <td>7</td>\n",
              "      <td>Married-spouse-absent</td>\n",
              "      <td>?</td>\n",
              "      <td>Black</td>\n",
              "      <td>Female</td>\n",
              "      <td>0</td>\n",
              "      <td>0</td>\n",
              "      <td>20</td>\n",
              "      <td>United-States</td>\n",
              "      <td>&lt;=50K</td>\n",
              "    </tr>\n",
              "  </tbody>\n",
              "</table>\n",
              "</div>\n",
              "      <button class=\"colab-df-convert\" onclick=\"convertToInteractive('df-89f4b403-4b1c-4e88-8649-d44e3c8bb25a')\"\n",
              "              title=\"Convert this dataframe to an interactive table.\"\n",
              "              style=\"display:none;\">\n",
              "        \n",
              "  <svg xmlns=\"http://www.w3.org/2000/svg\" height=\"24px\"viewBox=\"0 0 24 24\"\n",
              "       width=\"24px\">\n",
              "    <path d=\"M0 0h24v24H0V0z\" fill=\"none\"/>\n",
              "    <path d=\"M18.56 5.44l.94 2.06.94-2.06 2.06-.94-2.06-.94-.94-2.06-.94 2.06-2.06.94zm-11 1L8.5 8.5l.94-2.06 2.06-.94-2.06-.94L8.5 2.5l-.94 2.06-2.06.94zm10 10l.94 2.06.94-2.06 2.06-.94-2.06-.94-.94-2.06-.94 2.06-2.06.94z\"/><path d=\"M17.41 7.96l-1.37-1.37c-.4-.4-.92-.59-1.43-.59-.52 0-1.04.2-1.43.59L10.3 9.45l-7.72 7.72c-.78.78-.78 2.05 0 2.83L4 21.41c.39.39.9.59 1.41.59.51 0 1.02-.2 1.41-.59l7.78-7.78 2.81-2.81c.8-.78.8-2.07 0-2.86zM5.41 20L4 18.59l7.72-7.72 1.47 1.35L5.41 20z\"/>\n",
              "  </svg>\n",
              "      </button>\n",
              "      \n",
              "  <style>\n",
              "    .colab-df-container {\n",
              "      display:flex;\n",
              "      flex-wrap:wrap;\n",
              "      gap: 12px;\n",
              "    }\n",
              "\n",
              "    .colab-df-convert {\n",
              "      background-color: #E8F0FE;\n",
              "      border: none;\n",
              "      border-radius: 50%;\n",
              "      cursor: pointer;\n",
              "      display: none;\n",
              "      fill: #1967D2;\n",
              "      height: 32px;\n",
              "      padding: 0 0 0 0;\n",
              "      width: 32px;\n",
              "    }\n",
              "\n",
              "    .colab-df-convert:hover {\n",
              "      background-color: #E2EBFA;\n",
              "      box-shadow: 0px 1px 2px rgba(60, 64, 67, 0.3), 0px 1px 3px 1px rgba(60, 64, 67, 0.15);\n",
              "      fill: #174EA6;\n",
              "    }\n",
              "\n",
              "    [theme=dark] .colab-df-convert {\n",
              "      background-color: #3B4455;\n",
              "      fill: #D2E3FC;\n",
              "    }\n",
              "\n",
              "    [theme=dark] .colab-df-convert:hover {\n",
              "      background-color: #434B5C;\n",
              "      box-shadow: 0px 1px 3px 1px rgba(0, 0, 0, 0.15);\n",
              "      filter: drop-shadow(0px 1px 2px rgba(0, 0, 0, 0.3));\n",
              "      fill: #FFFFFF;\n",
              "    }\n",
              "  </style>\n",
              "\n",
              "      <script>\n",
              "        const buttonEl =\n",
              "          document.querySelector('#df-89f4b403-4b1c-4e88-8649-d44e3c8bb25a button.colab-df-convert');\n",
              "        buttonEl.style.display =\n",
              "          google.colab.kernel.accessAllowed ? 'block' : 'none';\n",
              "\n",
              "        async function convertToInteractive(key) {\n",
              "          const element = document.querySelector('#df-89f4b403-4b1c-4e88-8649-d44e3c8bb25a');\n",
              "          const dataTable =\n",
              "            await google.colab.kernel.invokeFunction('convertToInteractive',\n",
              "                                                     [key], {});\n",
              "          if (!dataTable) return;\n",
              "\n",
              "          const docLinkHtml = 'Like what you see? Visit the ' +\n",
              "            '<a target=\"_blank\" href=https://colab.research.google.com/notebooks/data_table.ipynb>data table notebook</a>'\n",
              "            + ' to learn more about interactive tables.';\n",
              "          element.innerHTML = '';\n",
              "          dataTable['output_type'] = 'display_data';\n",
              "          await google.colab.output.renderOutput(dataTable, element);\n",
              "          const docLink = document.createElement('div');\n",
              "          docLink.innerHTML = docLinkHtml;\n",
              "          element.appendChild(docLink);\n",
              "        }\n",
              "      </script>\n",
              "    </div>\n",
              "  </div>\n",
              "  "
            ]
          },
          "metadata": {},
          "execution_count": 63
        }
      ],
      "source": [
        "data[data[\"workclass\"] == \" ?\"].sample(5)"
      ]
    },
    {
      "cell_type": "markdown",
      "id": "handed-bracket",
      "metadata": {
        "id": "handed-bracket"
      },
      "source": [
        "* From the sample it looks like wherever workclass is missing occupation is also missing. \n",
        "* It looks like for ? observations in workclass the native country is the United States.\n",
        "* Let's see if the above observations hold."
      ]
    },
    {
      "cell_type": "code",
      "execution_count": null,
      "id": "deluxe-builder",
      "metadata": {
        "colab": {
          "base_uri": "https://localhost:8080/"
        },
        "id": "deluxe-builder",
        "outputId": "91f49fda-77fa-4902-85a8-2e25f882a2c8"
      },
      "outputs": [
        {
          "output_type": "execute_result",
          "data": {
            "text/plain": [
              " ?    1836\n",
              "Name: occupation, dtype: int64"
            ]
          },
          "metadata": {},
          "execution_count": 64
        }
      ],
      "source": [
        "data[data[\"workclass\"] == \" ?\"][\"occupation\"].value_counts()"
      ]
    },
    {
      "cell_type": "markdown",
      "id": "figured-pressure",
      "metadata": {
        "id": "figured-pressure"
      },
      "source": [
        "* It is indeed true that wherever workclass has ? the occupation is also ?\n",
        "* This indicates there is a strong pattern in the missingness of workclass and occupation. This is intuitive as well because both the columns are capturing similar information."
      ]
    },
    {
      "cell_type": "code",
      "execution_count": null,
      "id": "configured-correlation",
      "metadata": {
        "colab": {
          "base_uri": "https://localhost:8080/"
        },
        "id": "configured-correlation",
        "outputId": "415a30d4-fdf9-45b8-b82c-793a95361914"
      },
      "outputs": [
        {
          "output_type": "execute_result",
          "data": {
            "text/plain": [
              " United-States         1659\n",
              " Mexico                  33\n",
              " ?                       27\n",
              " Canada                  14\n",
              " Philippines             10\n",
              " South                    9\n",
              " Germany                  9\n",
              " Taiwan                   9\n",
              " China                    7\n",
              " El-Salvador              6\n",
              " Italy                    5\n",
              " Puerto-Rico              5\n",
              " Poland                   4\n",
              " England                  4\n",
              " Portugal                 3\n",
              " Columbia                 3\n",
              " Vietnam                  3\n",
              " Dominican-Republic       3\n",
              " Japan                    3\n",
              " Cuba                     3\n",
              " Haiti                    2\n",
              " France                   2\n",
              " Ecuador                  1\n",
              " Peru                     1\n",
              " Cambodia                 1\n",
              " Thailand                 1\n",
              " Honduras                 1\n",
              " Laos                     1\n",
              " Hong                     1\n",
              " Guatemala                1\n",
              " Trinadad&Tobago          1\n",
              " Iran                     1\n",
              " Nicaragua                1\n",
              " Jamaica                  1\n",
              " Scotland                 1\n",
              "Name: native_country, dtype: int64"
            ]
          },
          "metadata": {},
          "execution_count": 65
        }
      ],
      "source": [
        "data[data[\"workclass\"] == \" ?\"][\"native_country\"].value_counts()"
      ]
    },
    {
      "cell_type": "markdown",
      "id": "clean-scientist",
      "metadata": {
        "id": "clean-scientist"
      },
      "source": [
        "* The above observations don't hold for native_country as there many other countries where the observations are ?."
      ]
    },
    {
      "cell_type": "markdown",
      "id": "bright-joint",
      "metadata": {
        "id": "bright-joint"
      },
      "source": [
        "#### occupation"
      ]
    },
    {
      "cell_type": "code",
      "execution_count": null,
      "id": "double-gregory",
      "metadata": {
        "colab": {
          "base_uri": "https://localhost:8080/",
          "height": 322
        },
        "id": "double-gregory",
        "outputId": "b5b4ed3c-1a16-47db-90f0-3854bafc3de5"
      },
      "outputs": [
        {
          "output_type": "execute_result",
          "data": {
            "text/plain": [
              "       age workclass  fnlwgt      education  education_no_of_years  \\\n",
              "3902    22         ?  131230   Some-college                     10   \n",
              "25122   45         ?  215943        HS-grad                      9   \n",
              "12214   50         ?  346014        7th-8th                      4   \n",
              "10784   28         ?  223745   Some-college                     10   \n",
              "28478   28         ?  174666           10th                      6   \n",
              "\n",
              "            marital_status occupation    race      sex  capital_gain  \\\n",
              "3902         Never-married          ?   White     Male             0   \n",
              "25122   Married-civ-spouse          ?   White     Male             0   \n",
              "12214            Separated          ?   White   Female             0   \n",
              "10784        Never-married          ?   White   Female             0   \n",
              "28478            Separated          ?   White     Male             0   \n",
              "\n",
              "       capital_loss  working_hours_per_week  native_country  salary  \n",
              "3902              0                      40   United-States   <=50K  \n",
              "25122             0                      40   United-States   <=50K  \n",
              "12214             0                      20   United-States   <=50K  \n",
              "10784             0                      40   United-States   <=50K  \n",
              "28478             0                      80   United-States   <=50K  "
            ],
            "text/html": [
              "\n",
              "  <div id=\"df-cb6344b9-5b24-44c6-92b0-a202b1fa0704\">\n",
              "    <div class=\"colab-df-container\">\n",
              "      <div>\n",
              "<style scoped>\n",
              "    .dataframe tbody tr th:only-of-type {\n",
              "        vertical-align: middle;\n",
              "    }\n",
              "\n",
              "    .dataframe tbody tr th {\n",
              "        vertical-align: top;\n",
              "    }\n",
              "\n",
              "    .dataframe thead th {\n",
              "        text-align: right;\n",
              "    }\n",
              "</style>\n",
              "<table border=\"1\" class=\"dataframe\">\n",
              "  <thead>\n",
              "    <tr style=\"text-align: right;\">\n",
              "      <th></th>\n",
              "      <th>age</th>\n",
              "      <th>workclass</th>\n",
              "      <th>fnlwgt</th>\n",
              "      <th>education</th>\n",
              "      <th>education_no_of_years</th>\n",
              "      <th>marital_status</th>\n",
              "      <th>occupation</th>\n",
              "      <th>race</th>\n",
              "      <th>sex</th>\n",
              "      <th>capital_gain</th>\n",
              "      <th>capital_loss</th>\n",
              "      <th>working_hours_per_week</th>\n",
              "      <th>native_country</th>\n",
              "      <th>salary</th>\n",
              "    </tr>\n",
              "  </thead>\n",
              "  <tbody>\n",
              "    <tr>\n",
              "      <th>3902</th>\n",
              "      <td>22</td>\n",
              "      <td>?</td>\n",
              "      <td>131230</td>\n",
              "      <td>Some-college</td>\n",
              "      <td>10</td>\n",
              "      <td>Never-married</td>\n",
              "      <td>?</td>\n",
              "      <td>White</td>\n",
              "      <td>Male</td>\n",
              "      <td>0</td>\n",
              "      <td>0</td>\n",
              "      <td>40</td>\n",
              "      <td>United-States</td>\n",
              "      <td>&lt;=50K</td>\n",
              "    </tr>\n",
              "    <tr>\n",
              "      <th>25122</th>\n",
              "      <td>45</td>\n",
              "      <td>?</td>\n",
              "      <td>215943</td>\n",
              "      <td>HS-grad</td>\n",
              "      <td>9</td>\n",
              "      <td>Married-civ-spouse</td>\n",
              "      <td>?</td>\n",
              "      <td>White</td>\n",
              "      <td>Male</td>\n",
              "      <td>0</td>\n",
              "      <td>0</td>\n",
              "      <td>40</td>\n",
              "      <td>United-States</td>\n",
              "      <td>&lt;=50K</td>\n",
              "    </tr>\n",
              "    <tr>\n",
              "      <th>12214</th>\n",
              "      <td>50</td>\n",
              "      <td>?</td>\n",
              "      <td>346014</td>\n",
              "      <td>7th-8th</td>\n",
              "      <td>4</td>\n",
              "      <td>Separated</td>\n",
              "      <td>?</td>\n",
              "      <td>White</td>\n",
              "      <td>Female</td>\n",
              "      <td>0</td>\n",
              "      <td>0</td>\n",
              "      <td>20</td>\n",
              "      <td>United-States</td>\n",
              "      <td>&lt;=50K</td>\n",
              "    </tr>\n",
              "    <tr>\n",
              "      <th>10784</th>\n",
              "      <td>28</td>\n",
              "      <td>?</td>\n",
              "      <td>223745</td>\n",
              "      <td>Some-college</td>\n",
              "      <td>10</td>\n",
              "      <td>Never-married</td>\n",
              "      <td>?</td>\n",
              "      <td>White</td>\n",
              "      <td>Female</td>\n",
              "      <td>0</td>\n",
              "      <td>0</td>\n",
              "      <td>40</td>\n",
              "      <td>United-States</td>\n",
              "      <td>&lt;=50K</td>\n",
              "    </tr>\n",
              "    <tr>\n",
              "      <th>28478</th>\n",
              "      <td>28</td>\n",
              "      <td>?</td>\n",
              "      <td>174666</td>\n",
              "      <td>10th</td>\n",
              "      <td>6</td>\n",
              "      <td>Separated</td>\n",
              "      <td>?</td>\n",
              "      <td>White</td>\n",
              "      <td>Male</td>\n",
              "      <td>0</td>\n",
              "      <td>0</td>\n",
              "      <td>80</td>\n",
              "      <td>United-States</td>\n",
              "      <td>&lt;=50K</td>\n",
              "    </tr>\n",
              "  </tbody>\n",
              "</table>\n",
              "</div>\n",
              "      <button class=\"colab-df-convert\" onclick=\"convertToInteractive('df-cb6344b9-5b24-44c6-92b0-a202b1fa0704')\"\n",
              "              title=\"Convert this dataframe to an interactive table.\"\n",
              "              style=\"display:none;\">\n",
              "        \n",
              "  <svg xmlns=\"http://www.w3.org/2000/svg\" height=\"24px\"viewBox=\"0 0 24 24\"\n",
              "       width=\"24px\">\n",
              "    <path d=\"M0 0h24v24H0V0z\" fill=\"none\"/>\n",
              "    <path d=\"M18.56 5.44l.94 2.06.94-2.06 2.06-.94-2.06-.94-.94-2.06-.94 2.06-2.06.94zm-11 1L8.5 8.5l.94-2.06 2.06-.94-2.06-.94L8.5 2.5l-.94 2.06-2.06.94zm10 10l.94 2.06.94-2.06 2.06-.94-2.06-.94-.94-2.06-.94 2.06-2.06.94z\"/><path d=\"M17.41 7.96l-1.37-1.37c-.4-.4-.92-.59-1.43-.59-.52 0-1.04.2-1.43.59L10.3 9.45l-7.72 7.72c-.78.78-.78 2.05 0 2.83L4 21.41c.39.39.9.59 1.41.59.51 0 1.02-.2 1.41-.59l7.78-7.78 2.81-2.81c.8-.78.8-2.07 0-2.86zM5.41 20L4 18.59l7.72-7.72 1.47 1.35L5.41 20z\"/>\n",
              "  </svg>\n",
              "      </button>\n",
              "      \n",
              "  <style>\n",
              "    .colab-df-container {\n",
              "      display:flex;\n",
              "      flex-wrap:wrap;\n",
              "      gap: 12px;\n",
              "    }\n",
              "\n",
              "    .colab-df-convert {\n",
              "      background-color: #E8F0FE;\n",
              "      border: none;\n",
              "      border-radius: 50%;\n",
              "      cursor: pointer;\n",
              "      display: none;\n",
              "      fill: #1967D2;\n",
              "      height: 32px;\n",
              "      padding: 0 0 0 0;\n",
              "      width: 32px;\n",
              "    }\n",
              "\n",
              "    .colab-df-convert:hover {\n",
              "      background-color: #E2EBFA;\n",
              "      box-shadow: 0px 1px 2px rgba(60, 64, 67, 0.3), 0px 1px 3px 1px rgba(60, 64, 67, 0.15);\n",
              "      fill: #174EA6;\n",
              "    }\n",
              "\n",
              "    [theme=dark] .colab-df-convert {\n",
              "      background-color: #3B4455;\n",
              "      fill: #D2E3FC;\n",
              "    }\n",
              "\n",
              "    [theme=dark] .colab-df-convert:hover {\n",
              "      background-color: #434B5C;\n",
              "      box-shadow: 0px 1px 3px 1px rgba(0, 0, 0, 0.15);\n",
              "      filter: drop-shadow(0px 1px 2px rgba(0, 0, 0, 0.3));\n",
              "      fill: #FFFFFF;\n",
              "    }\n",
              "  </style>\n",
              "\n",
              "      <script>\n",
              "        const buttonEl =\n",
              "          document.querySelector('#df-cb6344b9-5b24-44c6-92b0-a202b1fa0704 button.colab-df-convert');\n",
              "        buttonEl.style.display =\n",
              "          google.colab.kernel.accessAllowed ? 'block' : 'none';\n",
              "\n",
              "        async function convertToInteractive(key) {\n",
              "          const element = document.querySelector('#df-cb6344b9-5b24-44c6-92b0-a202b1fa0704');\n",
              "          const dataTable =\n",
              "            await google.colab.kernel.invokeFunction('convertToInteractive',\n",
              "                                                     [key], {});\n",
              "          if (!dataTable) return;\n",
              "\n",
              "          const docLinkHtml = 'Like what you see? Visit the ' +\n",
              "            '<a target=\"_blank\" href=https://colab.research.google.com/notebooks/data_table.ipynb>data table notebook</a>'\n",
              "            + ' to learn more about interactive tables.';\n",
              "          element.innerHTML = '';\n",
              "          dataTable['output_type'] = 'display_data';\n",
              "          await google.colab.output.renderOutput(dataTable, element);\n",
              "          const docLink = document.createElement('div');\n",
              "          docLink.innerHTML = docLinkHtml;\n",
              "          element.appendChild(docLink);\n",
              "        }\n",
              "      </script>\n",
              "    </div>\n",
              "  </div>\n",
              "  "
            ]
          },
          "metadata": {},
          "execution_count": 66
        }
      ],
      "source": [
        "data[data[\"occupation\"] == \" ?\"].sample(5)"
      ]
    },
    {
      "cell_type": "code",
      "execution_count": null,
      "id": "plastic-measure",
      "metadata": {
        "colab": {
          "base_uri": "https://localhost:8080/"
        },
        "id": "plastic-measure",
        "outputId": "7a469bde-5887-45cf-c015-0673f71d34c3"
      },
      "outputs": [
        {
          "output_type": "execute_result",
          "data": {
            "text/plain": [
              " ?               1836\n",
              " Never-worked       7\n",
              "Name: workclass, dtype: int64"
            ]
          },
          "metadata": {},
          "execution_count": 67
        }
      ],
      "source": [
        "data[data[\"occupation\"] == \" ?\"][\"workclass\"].value_counts()"
      ]
    },
    {
      "cell_type": "markdown",
      "id": "relevant-gallery",
      "metadata": {
        "id": "relevant-gallery"
      },
      "source": [
        "* We observe the same pattern here, where occupation is ? most of the values in workclass are ?."
      ]
    },
    {
      "cell_type": "code",
      "execution_count": null,
      "id": "micro-plaintiff",
      "metadata": {
        "colab": {
          "base_uri": "https://localhost:8080/"
        },
        "id": "micro-plaintiff",
        "outputId": "de88a078-87be-46ba-b318-fe7f6183f56a"
      },
      "outputs": [
        {
          "output_type": "execute_result",
          "data": {
            "text/plain": [
              " United-States         1666\n",
              " Mexico                  33\n",
              " ?                       27\n",
              " Canada                  14\n",
              " Philippines             10\n",
              " South                    9\n",
              " Germany                  9\n",
              " Taiwan                   9\n",
              " China                    7\n",
              " El-Salvador              6\n",
              " Italy                    5\n",
              " Puerto-Rico              5\n",
              " Poland                   4\n",
              " England                  4\n",
              " Portugal                 3\n",
              " Columbia                 3\n",
              " Vietnam                  3\n",
              " Dominican-Republic       3\n",
              " Japan                    3\n",
              " Cuba                     3\n",
              " Haiti                    2\n",
              " France                   2\n",
              " Ecuador                  1\n",
              " Peru                     1\n",
              " Cambodia                 1\n",
              " Thailand                 1\n",
              " Honduras                 1\n",
              " Laos                     1\n",
              " Hong                     1\n",
              " Guatemala                1\n",
              " Trinadad&Tobago          1\n",
              " Iran                     1\n",
              " Nicaragua                1\n",
              " Jamaica                  1\n",
              " Scotland                 1\n",
              "Name: native_country, dtype: int64"
            ]
          },
          "metadata": {},
          "execution_count": 68
        }
      ],
      "source": [
        "data[data[\"occupation\"] == \" ?\"][\"native_country\"].value_counts()"
      ]
    },
    {
      "cell_type": "markdown",
      "id": "loaded-comparison",
      "metadata": {
        "id": "loaded-comparison"
      },
      "source": [
        "* The native_country column has other countries where the observations are ? corresponding to ?s in occupation."
      ]
    },
    {
      "cell_type": "markdown",
      "id": "cooked-fireplace",
      "metadata": {
        "id": "cooked-fireplace"
      },
      "source": [
        "#### native_country"
      ]
    },
    {
      "cell_type": "code",
      "execution_count": null,
      "id": "sacred-pakistan",
      "metadata": {
        "colab": {
          "base_uri": "https://localhost:8080/",
          "height": 357
        },
        "id": "sacred-pakistan",
        "outputId": "09505ec9-9f40-464b-fd2a-a8a5c50dd96e"
      },
      "outputs": [
        {
          "output_type": "execute_result",
          "data": {
            "text/plain": [
              "       age          workclass  fnlwgt      education  education_no_of_years  \\\n",
              "15152   32   Self-emp-not-inc   62165      Bachelors                     13   \n",
              "21818   50          Local-gov  157043        Masters                     14   \n",
              "28618   34            Private  210736   Some-college                     10   \n",
              "393     34          State-gov   98101      Bachelors                     13   \n",
              "11221   37          Local-gov  244803        HS-grad                      9   \n",
              "\n",
              "            marital_status        occupation    race      sex  capital_gain  \\\n",
              "15152   Married-civ-spouse   Exec-managerial   Black     Male             0   \n",
              "21818             Divorced    Prof-specialty   Black   Female          2202   \n",
              "28618            Separated      Adm-clerical   Black   Female             0   \n",
              "393     Married-civ-spouse   Exec-managerial   White     Male          7688   \n",
              "11221   Married-civ-spouse      Craft-repair   White     Male             0   \n",
              "\n",
              "       capital_loss  working_hours_per_week native_country  salary  \n",
              "15152             0                      40              ?   <=50K  \n",
              "21818             0                      30              ?   <=50K  \n",
              "28618             0                      40              ?   <=50K  \n",
              "393               0                      45              ?    >50K  \n",
              "11221             0                      40              ?   <=50K  "
            ],
            "text/html": [
              "\n",
              "  <div id=\"df-9c00dfe0-ef1c-4452-8f18-7d7ef827a44a\">\n",
              "    <div class=\"colab-df-container\">\n",
              "      <div>\n",
              "<style scoped>\n",
              "    .dataframe tbody tr th:only-of-type {\n",
              "        vertical-align: middle;\n",
              "    }\n",
              "\n",
              "    .dataframe tbody tr th {\n",
              "        vertical-align: top;\n",
              "    }\n",
              "\n",
              "    .dataframe thead th {\n",
              "        text-align: right;\n",
              "    }\n",
              "</style>\n",
              "<table border=\"1\" class=\"dataframe\">\n",
              "  <thead>\n",
              "    <tr style=\"text-align: right;\">\n",
              "      <th></th>\n",
              "      <th>age</th>\n",
              "      <th>workclass</th>\n",
              "      <th>fnlwgt</th>\n",
              "      <th>education</th>\n",
              "      <th>education_no_of_years</th>\n",
              "      <th>marital_status</th>\n",
              "      <th>occupation</th>\n",
              "      <th>race</th>\n",
              "      <th>sex</th>\n",
              "      <th>capital_gain</th>\n",
              "      <th>capital_loss</th>\n",
              "      <th>working_hours_per_week</th>\n",
              "      <th>native_country</th>\n",
              "      <th>salary</th>\n",
              "    </tr>\n",
              "  </thead>\n",
              "  <tbody>\n",
              "    <tr>\n",
              "      <th>15152</th>\n",
              "      <td>32</td>\n",
              "      <td>Self-emp-not-inc</td>\n",
              "      <td>62165</td>\n",
              "      <td>Bachelors</td>\n",
              "      <td>13</td>\n",
              "      <td>Married-civ-spouse</td>\n",
              "      <td>Exec-managerial</td>\n",
              "      <td>Black</td>\n",
              "      <td>Male</td>\n",
              "      <td>0</td>\n",
              "      <td>0</td>\n",
              "      <td>40</td>\n",
              "      <td>?</td>\n",
              "      <td>&lt;=50K</td>\n",
              "    </tr>\n",
              "    <tr>\n",
              "      <th>21818</th>\n",
              "      <td>50</td>\n",
              "      <td>Local-gov</td>\n",
              "      <td>157043</td>\n",
              "      <td>Masters</td>\n",
              "      <td>14</td>\n",
              "      <td>Divorced</td>\n",
              "      <td>Prof-specialty</td>\n",
              "      <td>Black</td>\n",
              "      <td>Female</td>\n",
              "      <td>2202</td>\n",
              "      <td>0</td>\n",
              "      <td>30</td>\n",
              "      <td>?</td>\n",
              "      <td>&lt;=50K</td>\n",
              "    </tr>\n",
              "    <tr>\n",
              "      <th>28618</th>\n",
              "      <td>34</td>\n",
              "      <td>Private</td>\n",
              "      <td>210736</td>\n",
              "      <td>Some-college</td>\n",
              "      <td>10</td>\n",
              "      <td>Separated</td>\n",
              "      <td>Adm-clerical</td>\n",
              "      <td>Black</td>\n",
              "      <td>Female</td>\n",
              "      <td>0</td>\n",
              "      <td>0</td>\n",
              "      <td>40</td>\n",
              "      <td>?</td>\n",
              "      <td>&lt;=50K</td>\n",
              "    </tr>\n",
              "    <tr>\n",
              "      <th>393</th>\n",
              "      <td>34</td>\n",
              "      <td>State-gov</td>\n",
              "      <td>98101</td>\n",
              "      <td>Bachelors</td>\n",
              "      <td>13</td>\n",
              "      <td>Married-civ-spouse</td>\n",
              "      <td>Exec-managerial</td>\n",
              "      <td>White</td>\n",
              "      <td>Male</td>\n",
              "      <td>7688</td>\n",
              "      <td>0</td>\n",
              "      <td>45</td>\n",
              "      <td>?</td>\n",
              "      <td>&gt;50K</td>\n",
              "    </tr>\n",
              "    <tr>\n",
              "      <th>11221</th>\n",
              "      <td>37</td>\n",
              "      <td>Local-gov</td>\n",
              "      <td>244803</td>\n",
              "      <td>HS-grad</td>\n",
              "      <td>9</td>\n",
              "      <td>Married-civ-spouse</td>\n",
              "      <td>Craft-repair</td>\n",
              "      <td>White</td>\n",
              "      <td>Male</td>\n",
              "      <td>0</td>\n",
              "      <td>0</td>\n",
              "      <td>40</td>\n",
              "      <td>?</td>\n",
              "      <td>&lt;=50K</td>\n",
              "    </tr>\n",
              "  </tbody>\n",
              "</table>\n",
              "</div>\n",
              "      <button class=\"colab-df-convert\" onclick=\"convertToInteractive('df-9c00dfe0-ef1c-4452-8f18-7d7ef827a44a')\"\n",
              "              title=\"Convert this dataframe to an interactive table.\"\n",
              "              style=\"display:none;\">\n",
              "        \n",
              "  <svg xmlns=\"http://www.w3.org/2000/svg\" height=\"24px\"viewBox=\"0 0 24 24\"\n",
              "       width=\"24px\">\n",
              "    <path d=\"M0 0h24v24H0V0z\" fill=\"none\"/>\n",
              "    <path d=\"M18.56 5.44l.94 2.06.94-2.06 2.06-.94-2.06-.94-.94-2.06-.94 2.06-2.06.94zm-11 1L8.5 8.5l.94-2.06 2.06-.94-2.06-.94L8.5 2.5l-.94 2.06-2.06.94zm10 10l.94 2.06.94-2.06 2.06-.94-2.06-.94-.94-2.06-.94 2.06-2.06.94z\"/><path d=\"M17.41 7.96l-1.37-1.37c-.4-.4-.92-.59-1.43-.59-.52 0-1.04.2-1.43.59L10.3 9.45l-7.72 7.72c-.78.78-.78 2.05 0 2.83L4 21.41c.39.39.9.59 1.41.59.51 0 1.02-.2 1.41-.59l7.78-7.78 2.81-2.81c.8-.78.8-2.07 0-2.86zM5.41 20L4 18.59l7.72-7.72 1.47 1.35L5.41 20z\"/>\n",
              "  </svg>\n",
              "      </button>\n",
              "      \n",
              "  <style>\n",
              "    .colab-df-container {\n",
              "      display:flex;\n",
              "      flex-wrap:wrap;\n",
              "      gap: 12px;\n",
              "    }\n",
              "\n",
              "    .colab-df-convert {\n",
              "      background-color: #E8F0FE;\n",
              "      border: none;\n",
              "      border-radius: 50%;\n",
              "      cursor: pointer;\n",
              "      display: none;\n",
              "      fill: #1967D2;\n",
              "      height: 32px;\n",
              "      padding: 0 0 0 0;\n",
              "      width: 32px;\n",
              "    }\n",
              "\n",
              "    .colab-df-convert:hover {\n",
              "      background-color: #E2EBFA;\n",
              "      box-shadow: 0px 1px 2px rgba(60, 64, 67, 0.3), 0px 1px 3px 1px rgba(60, 64, 67, 0.15);\n",
              "      fill: #174EA6;\n",
              "    }\n",
              "\n",
              "    [theme=dark] .colab-df-convert {\n",
              "      background-color: #3B4455;\n",
              "      fill: #D2E3FC;\n",
              "    }\n",
              "\n",
              "    [theme=dark] .colab-df-convert:hover {\n",
              "      background-color: #434B5C;\n",
              "      box-shadow: 0px 1px 3px 1px rgba(0, 0, 0, 0.15);\n",
              "      filter: drop-shadow(0px 1px 2px rgba(0, 0, 0, 0.3));\n",
              "      fill: #FFFFFF;\n",
              "    }\n",
              "  </style>\n",
              "\n",
              "      <script>\n",
              "        const buttonEl =\n",
              "          document.querySelector('#df-9c00dfe0-ef1c-4452-8f18-7d7ef827a44a button.colab-df-convert');\n",
              "        buttonEl.style.display =\n",
              "          google.colab.kernel.accessAllowed ? 'block' : 'none';\n",
              "\n",
              "        async function convertToInteractive(key) {\n",
              "          const element = document.querySelector('#df-9c00dfe0-ef1c-4452-8f18-7d7ef827a44a');\n",
              "          const dataTable =\n",
              "            await google.colab.kernel.invokeFunction('convertToInteractive',\n",
              "                                                     [key], {});\n",
              "          if (!dataTable) return;\n",
              "\n",
              "          const docLinkHtml = 'Like what you see? Visit the ' +\n",
              "            '<a target=\"_blank\" href=https://colab.research.google.com/notebooks/data_table.ipynb>data table notebook</a>'\n",
              "            + ' to learn more about interactive tables.';\n",
              "          element.innerHTML = '';\n",
              "          dataTable['output_type'] = 'display_data';\n",
              "          await google.colab.output.renderOutput(dataTable, element);\n",
              "          const docLink = document.createElement('div');\n",
              "          docLink.innerHTML = docLinkHtml;\n",
              "          element.appendChild(docLink);\n",
              "        }\n",
              "      </script>\n",
              "    </div>\n",
              "  </div>\n",
              "  "
            ]
          },
          "metadata": {},
          "execution_count": 69
        }
      ],
      "source": [
        "data[data[\"native_country\"] == \" ?\"].sample(5)"
      ]
    },
    {
      "cell_type": "code",
      "execution_count": null,
      "id": "olympic-adolescent",
      "metadata": {
        "colab": {
          "base_uri": "https://localhost:8080/"
        },
        "id": "olympic-adolescent",
        "outputId": "c3a47d1a-940c-4411-bf5d-dd98fbd4196a"
      },
      "outputs": [
        {
          "output_type": "execute_result",
          "data": {
            "text/plain": [
              " Prof-specialty       102\n",
              " Other-service         83\n",
              " Exec-managerial       74\n",
              " Craft-repair          69\n",
              " Sales                 66\n",
              " Adm-clerical          49\n",
              " Machine-op-inspct     36\n",
              " ?                     27\n",
              " Transport-moving      25\n",
              " Handlers-cleaners     20\n",
              " Tech-support          16\n",
              " Priv-house-serv        6\n",
              " Farming-fishing        5\n",
              " Protective-serv        5\n",
              "Name: occupation, dtype: int64"
            ]
          },
          "metadata": {},
          "execution_count": 70
        }
      ],
      "source": [
        "data[data[\"native_country\"] == \" ?\"][\"occupation\"].value_counts()"
      ]
    },
    {
      "cell_type": "code",
      "execution_count": null,
      "id": "civilian-shepherd",
      "metadata": {
        "colab": {
          "base_uri": "https://localhost:8080/"
        },
        "id": "civilian-shepherd",
        "outputId": "827dec14-128e-4081-c1a1-b820254c9e9d"
      },
      "outputs": [
        {
          "output_type": "execute_result",
          "data": {
            "text/plain": [
              " Private             410\n",
              " Self-emp-not-inc     42\n",
              " Self-emp-inc         42\n",
              " ?                    27\n",
              " Local-gov            26\n",
              " State-gov            19\n",
              " Federal-gov          17\n",
              "Name: workclass, dtype: int64"
            ]
          },
          "metadata": {},
          "execution_count": 71
        }
      ],
      "source": [
        "data[data[\"native_country\"] == \" ?\"][\"workclass\"].value_counts()"
      ]
    },
    {
      "cell_type": "markdown",
      "id": "freelance-lottery",
      "metadata": {
        "id": "freelance-lottery"
      },
      "source": [
        "* There is no clear pattern here."
      ]
    },
    {
      "cell_type": "markdown",
      "id": "waiting-passport",
      "metadata": {
        "id": "waiting-passport"
      },
      "source": [
        "#### Observations:\n",
        "* We observe that all the observations where workclass = ? the values in the occupation are ? \n",
        "* The strong pattern between workclass and occupation makes sense as both of these variables capture similar information.\n",
        "* There is no strong correlation of ? observations in occupation and workclass with native_country.\n",
        "* For now we will replace these ?'s with the 'unknown' category."
      ]
    },
    {
      "cell_type": "markdown",
      "id": "particular-shannon",
      "metadata": {
        "id": "particular-shannon"
      },
      "source": [
        "#### Replacing ? with 'Unknown'"
      ]
    },
    {
      "cell_type": "code",
      "execution_count": null,
      "id": "leading-tracker",
      "metadata": {
        "id": "leading-tracker"
      },
      "outputs": [],
      "source": [
        "data.workclass = data.workclass.apply(lambda x: \"Unknown\" if x == \" ?\" else x)\n",
        "data.native_country = data.native_country.apply(lambda x: \"Unknown\" if x == \" ?\" else x)\n",
        "data.occupation = data.occupation.apply(lambda x: \"Unknown\" if x == \" ?\" else x)"
      ]
    },
    {
      "cell_type": "markdown",
      "id": "dressed-yemen",
      "metadata": {
        "id": "dressed-yemen"
      },
      "source": [
        "#### Mapping countries to continents to reduce the number of unique values."
      ]
    },
    {
      "cell_type": "code",
      "execution_count": null,
      "id": "unique-handling",
      "metadata": {
        "colab": {
          "base_uri": "https://localhost:8080/"
        },
        "id": "unique-handling",
        "outputId": "4cf4c30d-4ef4-4919-a3c4-f48b3f989977"
      },
      "outputs": [
        {
          "output_type": "execute_result",
          "data": {
            "text/plain": [
              "42"
            ]
          },
          "metadata": {},
          "execution_count": 73
        }
      ],
      "source": [
        "data.native_country.nunique()"
      ]
    },
    {
      "cell_type": "markdown",
      "id": "liquid-sodium",
      "metadata": {
        "id": "liquid-sodium",
        "outputId": "e0ac41c1-de06-4599-c6f1-3f3f8447cf10"
      },
      "source": [
        "* There are 42 distinct countries in the data set, we can reduce them to their respective continents as this will help us reduce the dimension of data."
      ]
    },
    {
      "cell_type": "code",
      "execution_count": null,
      "id": "structured-steel",
      "metadata": {
        "id": "structured-steel"
      },
      "outputs": [],
      "source": [
        "data.native_country = data.native_country.str.replace(\n",
        "    \" \", \"\"\n",
        ")  # remove empty spaces from strings"
      ]
    },
    {
      "cell_type": "code",
      "execution_count": null,
      "id": "informational-advertising",
      "metadata": {
        "id": "informational-advertising"
      },
      "outputs": [],
      "source": [
        "north_america = [\n",
        "    \"Canada\",\n",
        "    \"Cuba\",\n",
        "    \"Dominican-Republic\",\n",
        "    \"El-Salvador\",\n",
        "    \"Guatemala\",\n",
        "    \"Haiti\",\n",
        "    \"Honduras\",\n",
        "    \"Jamaica\",\n",
        "    \"Mexico\",\n",
        "    \"Nicaragua\",\n",
        "    \"Outlying-US(Guam-USVI-etc)\",\n",
        "    \"Puerto-Rico\",\n",
        "    \"Trinadad&Tobago\",\n",
        "    \"United-States\",\n",
        "]\n",
        "asia = [\n",
        "    \"Cambodia\",\n",
        "    \"China\",\n",
        "    \"Hong\",\n",
        "    \"India\",\n",
        "    \"Iran\",\n",
        "    \"Japan\",\n",
        "    \"Laos\",\n",
        "    \"Philippines\",\n",
        "    \"Taiwan\",\n",
        "    \"Thailand\",\n",
        "    \"Vietnam\",\n",
        "]\n",
        "south_america = [\"Columbia\", \"Ecuador\", \"Peru\"]\n",
        "europe = [\n",
        "    \"England\",\n",
        "    \"France\",\n",
        "    \"Germany\",\n",
        "    \"Greece\",\n",
        "    \"Holand-Netherlands\",\n",
        "    \"Hungary\",\n",
        "    \"Ireland\",\n",
        "    \"Italy\",\n",
        "    \"Poland\",\n",
        "    \"Portugal\",\n",
        "    \"Scotland\",\n",
        "    \"Yugoslavia\",\n",
        "]\n",
        "other = [\"South\", \"Unknown\", \"?\"]"
      ]
    },
    {
      "cell_type": "code",
      "execution_count": null,
      "id": "latest-private",
      "metadata": {
        "id": "latest-private"
      },
      "outputs": [],
      "source": [
        "def region_combining(x):\n",
        "    if x in north_america:\n",
        "        return \"north_america\"\n",
        "    elif x in asia:\n",
        "        return \"asia\"\n",
        "    elif x in south_america:\n",
        "        return \"south_america\"\n",
        "    elif x in europe:\n",
        "        return \"europe\"\n",
        "    elif x in other:\n",
        "        return \"other\"\n",
        "    else:\n",
        "        return x"
      ]
    },
    {
      "cell_type": "code",
      "execution_count": null,
      "id": "prerequisite-owner",
      "metadata": {
        "id": "prerequisite-owner"
      },
      "outputs": [],
      "source": [
        "data[\"native_country\"] = data[\"native_country\"].apply(region_combining)"
      ]
    },
    {
      "cell_type": "code",
      "execution_count": null,
      "id": "behavioral-electronics",
      "metadata": {
        "colab": {
          "base_uri": "https://localhost:8080/"
        },
        "id": "behavioral-electronics",
        "outputId": "8d394bd2-84dd-43a0-d7fb-c7b5a9309e03"
      },
      "outputs": [
        {
          "output_type": "stream",
          "name": "stdout",
          "text": [
            "Distinct values in Native Country column: 5\n"
          ]
        }
      ],
      "source": [
        "print(\"Distinct values in Native Country column:\", data.native_country.nunique())"
      ]
    },
    {
      "cell_type": "markdown",
      "id": "short-elimination",
      "metadata": {
        "id": "short-elimination"
      },
      "source": [
        "#### Reducing the number of distinct values in marital_status"
      ]
    },
    {
      "cell_type": "code",
      "execution_count": null,
      "id": "wanted-front",
      "metadata": {
        "colab": {
          "base_uri": "https://localhost:8080/"
        },
        "id": "wanted-front",
        "outputId": "c85d5d90-3486-4f65-b89f-1c6c0c11f941"
      },
      "outputs": [
        {
          "output_type": "execute_result",
          "data": {
            "text/plain": [
              "array([' Never-married', ' Married-civ-spouse', ' Divorced',\n",
              "       ' Married-spouse-absent', ' Separated', ' Married-AF-spouse',\n",
              "       ' Widowed'], dtype=object)"
            ]
          },
          "metadata": {},
          "execution_count": 79
        }
      ],
      "source": [
        "data.marital_status.unique()"
      ]
    },
    {
      "cell_type": "markdown",
      "id": "banned-affiliate",
      "metadata": {
        "id": "banned-affiliate"
      },
      "source": [
        "We can reduce these values into the following groups:\n",
        "* Married\n",
        "* Not-Married\n",
        "* Never-Married"
      ]
    },
    {
      "cell_type": "code",
      "execution_count": null,
      "id": "furnished-grain",
      "metadata": {
        "id": "furnished-grain"
      },
      "outputs": [],
      "source": [
        "data.marital_status = data.marital_status.str.replace(\n",
        "    \" \", \"\"\n",
        ")  # remove empty spaces from strings\n",
        "\n",
        "married = [\"Married-civ-spouse\", \"Married-AF-spouse\"]\n",
        "not_married = [\"Divorced\", \"Separated\", \"Widowed\", \"Married-spouse-absent\"]\n",
        "\n",
        "\n",
        "def reduce_marital_status(x):\n",
        "    if x in married:\n",
        "        return \"married\"\n",
        "    elif x in not_married:\n",
        "        return \"not_married\"\n",
        "    else:\n",
        "        return x"
      ]
    },
    {
      "cell_type": "code",
      "execution_count": null,
      "id": "conceptual-primary",
      "metadata": {
        "id": "conceptual-primary"
      },
      "outputs": [],
      "source": [
        "data.marital_status = data.marital_status.apply(reduce_marital_status)"
      ]
    },
    {
      "cell_type": "code",
      "execution_count": null,
      "id": "artistic-element",
      "metadata": {
        "colab": {
          "base_uri": "https://localhost:8080/"
        },
        "id": "artistic-element",
        "outputId": "14ba91ab-b7e8-4879-ceea-0300dfb3b63d"
      },
      "outputs": [
        {
          "output_type": "execute_result",
          "data": {
            "text/plain": [
              "array(['Never-married', 'married', 'not_married'], dtype=object)"
            ]
          },
          "metadata": {},
          "execution_count": 82
        }
      ],
      "source": [
        "data.marital_status.unique()"
      ]
    },
    {
      "cell_type": "markdown",
      "id": "whole-enclosure",
      "metadata": {
        "id": "whole-enclosure"
      },
      "source": [
        "* Values have been clubbed into three categories."
      ]
    },
    {
      "cell_type": "markdown",
      "id": "peaceful-header",
      "metadata": {
        "id": "peaceful-header"
      },
      "source": [
        "## Univariate Analysis"
      ]
    },
    {
      "cell_type": "code",
      "execution_count": null,
      "id": "possible-mathematics",
      "metadata": {
        "id": "possible-mathematics"
      },
      "outputs": [],
      "source": [
        "def histogram_boxplot(data, feature, figsize=(12, 7), kde=False, bins=None):\n",
        "    \"\"\"\n",
        "    Boxplot and histogram combined\n",
        "\n",
        "    data: dataframe\n",
        "    feature: dataframe column\n",
        "    figsize: size of figure (default (12,7))\n",
        "    kde: whether to show the density curve (default False)\n",
        "    bins: number of bins for histogram (default None)\n",
        "    \"\"\"\n",
        "    f2, (ax_box2, ax_hist2) = plt.subplots(\n",
        "        nrows=2,  # Number of rows of the subplot grid= 2\n",
        "        sharex=True,  # x-axis will be shared among all subplots\n",
        "        gridspec_kw={\"height_ratios\": (0.25, 0.75)},\n",
        "        figsize=figsize,\n",
        "    )  # creating the 2 subplots\n",
        "    sns.boxplot(\n",
        "        data=data, x=feature, ax=ax_box2, showmeans=True, color=\"violet\"\n",
        "    )  # boxplot will be created and a star will indicate the mean value of the column\n",
        "    sns.histplot(\n",
        "        data=data, x=feature, kde=kde, ax=ax_hist2, bins=bins, palette=\"winter\"\n",
        "    ) if bins else sns.histplot(\n",
        "        data=data, x=feature, kde=kde, ax=ax_hist2\n",
        "    )  # For histogram\n",
        "    ax_hist2.axvline(\n",
        "        data[feature].mean(), color=\"green\", linestyle=\"--\"\n",
        "    )  # Add mean to the histogram\n",
        "    ax_hist2.axvline(\n",
        "        data[feature].median(), color=\"black\", linestyle=\"-\"\n",
        "    )  # Add median to the histogram"
      ]
    },
    {
      "cell_type": "markdown",
      "id": "earlier-peoples",
      "metadata": {
        "id": "earlier-peoples"
      },
      "source": [
        "### Observations on fnlwgt"
      ]
    },
    {
      "cell_type": "code",
      "execution_count": null,
      "id": "appropriate-conversion",
      "metadata": {
        "colab": {
          "base_uri": "https://localhost:8080/",
          "height": 442
        },
        "id": "appropriate-conversion",
        "outputId": "2675407f-096a-41d8-feec-6065602d8285"
      },
      "outputs": [
        {
          "output_type": "display_data",
          "data": {
            "text/plain": [
              "<Figure size 864x504 with 2 Axes>"
            ],
            "image/png": "[encoded data removed]"
          },
          "metadata": {
            "needs_background": "light"
          }
        }
      ],
      "source": [
        "histogram_boxplot(data, \"fnlwgt\", bins=100)"
      ]
    },
    {
      "cell_type": "markdown",
      "id": "addressed-stationery",
      "metadata": {
        "id": "addressed-stationery"
      },
      "source": [
        "* fnlwght is right-skewed. It has lots of outliers on the right side which we can cap."
      ]
    },
    {
      "cell_type": "markdown",
      "id": "fitting-mining",
      "metadata": {
        "id": "fitting-mining"
      },
      "source": [
        "### Observations on hours_per_week"
      ]
    },
    {
      "cell_type": "code",
      "execution_count": null,
      "id": "acting-center",
      "metadata": {
        "colab": {
          "base_uri": "https://localhost:8080/",
          "height": 443
        },
        "id": "acting-center",
        "outputId": "5d974f33-4335-41be-855c-812eabbd4032"
      },
      "outputs": [
        {
          "output_type": "display_data",
          "data": {
            "text/plain": [
              "<Figure size 864x504 with 2 Axes>"
            ],
            "image/png": "[encoded data removed]"
          },
          "metadata": {
            "needs_background": "light"
          }
        }
      ],
      "source": [
        "histogram_boxplot(data, \"working_hours_per_week\", bins=50)"
      ]
    },
    {
      "cell_type": "markdown",
      "id": "global-hughes",
      "metadata": {
        "id": "global-hughes"
      },
      "source": [
        "* Most of the data is concentrated around 40 working hours this gives a sense that most of the observations in data might be salaried employees working 8hrs 5 days a week.\n",
        "* Some of the observations are clear outliers like working  1 hour a week which needs to be treated."
      ]
    },
    {
      "cell_type": "code",
      "execution_count": null,
      "id": "played-mistake",
      "metadata": {
        "id": "played-mistake"
      },
      "outputs": [],
      "source": [
        "# function to create labeled barplots\n",
        "\n",
        "\n",
        "def labeled_barplot(data, feature, perc=False, n=None):\n",
        "    \"\"\"\n",
        "    Barplot with percentage at the top\n",
        "\n",
        "    data: dataframe\n",
        "    feature: dataframe column\n",
        "    perc: whether to display percentages instead of count (default is False)\n",
        "    n: displays the top n category levels (default is None, i.e., display all levels)\n",
        "    \"\"\"\n",
        "\n",
        "    total = len(data[feature])  # length of the column\n",
        "    count = data[feature].nunique()\n",
        "    if n is None:\n",
        "        plt.figure(figsize=(count + 1, 5))\n",
        "    else:\n",
        "        plt.figure(figsize=(n + 1, 5))\n",
        "\n",
        "    plt.xticks(rotation=90, fontsize=15)\n",
        "    ax = sns.countplot(\n",
        "        data=data,\n",
        "        x=feature,\n",
        "        palette=\"Paired\",\n",
        "        order=data[feature].value_counts().index[:n].sort_values(),\n",
        "    )\n",
        "\n",
        "    for p in ax.patches:\n",
        "        if perc == True:\n",
        "            label = \"{:.1f}%\".format(\n",
        "                100 * p.get_height() / total\n",
        "            )  # percentage of each class of the category\n",
        "        else:\n",
        "            label = p.get_height()  # count of each level of the category\n",
        "\n",
        "        x = p.get_x() + p.get_width() / 2  # width of the plot\n",
        "        y = p.get_height()  # height of the plot\n",
        "\n",
        "        ax.annotate(\n",
        "            label,\n",
        "            (x, y),\n",
        "            ha=\"center\",\n",
        "            va=\"center\",\n",
        "            size=12,\n",
        "            xytext=(0, 5),\n",
        "            textcoords=\"offset points\",\n",
        "        )  # annotate the percentage\n",
        "\n",
        "    plt.show()  # show the plot"
      ]
    },
    {
      "cell_type": "markdown",
      "id": "liquid-sauce",
      "metadata": {
        "id": "liquid-sauce"
      },
      "source": [
        "### Observations on workclass"
      ]
    },
    {
      "cell_type": "code",
      "execution_count": null,
      "id": "radio-parliament",
      "metadata": {
        "colab": {
          "base_uri": "https://localhost:8080/",
          "height": 453
        },
        "id": "radio-parliament",
        "outputId": "d51276f8-5037-4e32-a617-f50675d1be23"
      },
      "outputs": [
        {
          "output_type": "display_data",
          "data": {
            "text/plain": [
              "<Figure size 720x360 with 1 Axes>"
            ],
            "image/png": "[encoded data removed]"
          },
          "metadata": {
            "needs_background": "light"
          }
        }
      ],
      "source": [
        "labeled_barplot(data, \"workclass\", perc=True)"
      ]
    },
    {
      "cell_type": "markdown",
      "id": "secondary-scroll",
      "metadata": {
        "id": "secondary-scroll"
      },
      "source": [
        "* ~70% of the observations are from the Private sector working class.\n",
        "* As expected from the number of hours per week."
      ]
    },
    {
      "cell_type": "markdown",
      "id": "quick-living",
      "metadata": {
        "id": "quick-living"
      },
      "source": [
        "### Observations on marital_status"
      ]
    },
    {
      "cell_type": "code",
      "execution_count": null,
      "id": "handy-bangkok",
      "metadata": {
        "colab": {
          "base_uri": "https://localhost:8080/",
          "height": 433
        },
        "id": "handy-bangkok",
        "outputId": "ec76f90c-03f8-491b-daed-31a62b9841bf"
      },
      "outputs": [
        {
          "output_type": "display_data",
          "data": {
            "text/plain": [
              "<Figure size 288x360 with 1 Axes>"
            ],
            "image/png": "[encoded data removed]"
          },
          "metadata": {
            "needs_background": "light"
          }
        }
      ],
      "source": [
        "labeled_barplot(data, \"marital_status\", perc=True)"
      ]
    },
    {
      "cell_type": "markdown",
      "id": "norman-person",
      "metadata": {
        "id": "norman-person"
      },
      "source": [
        "* 46.1% of the observations in the dataset are married followed by 32.8% of the people who never married."
      ]
    },
    {
      "cell_type": "markdown",
      "id": "featured-exemption",
      "metadata": {
        "id": "featured-exemption"
      },
      "source": [
        "### Observations on native_country"
      ]
    },
    {
      "cell_type": "code",
      "execution_count": null,
      "id": "received-sailing",
      "metadata": {
        "colab": {
          "base_uri": "https://localhost:8080/",
          "height": 435
        },
        "id": "received-sailing",
        "outputId": "8b06ec27-5956-4ffd-8a1a-dcbc2842bef1"
      },
      "outputs": [
        {
          "output_type": "display_data",
          "data": {
            "text/plain": [
              "<Figure size 432x360 with 1 Axes>"
            ],
            "image/png": "[encoded data removed]"
          },
          "metadata": {
            "needs_background": "light"
          }
        }
      ],
      "source": [
        "labeled_barplot(data, \"native_country\", perc=True)"
      ]
    },
    {
      "cell_type": "markdown",
      "id": "healthy-slide",
      "metadata": {
        "id": "healthy-slide"
      },
      "source": [
        "* 94% of the people are native to north_america followed by 2.1% Asians."
      ]
    },
    {
      "cell_type": "markdown",
      "id": "elect-passenger",
      "metadata": {
        "id": "elect-passenger"
      },
      "source": [
        "### Observations on salary"
      ]
    },
    {
      "cell_type": "code",
      "execution_count": null,
      "id": "modular-assist",
      "metadata": {
        "colab": {
          "base_uri": "https://localhost:8080/",
          "height": 382
        },
        "id": "modular-assist",
        "outputId": "ae917fa0-bfc1-42bc-ebf4-cb895088f0fa"
      },
      "outputs": [
        {
          "output_type": "display_data",
          "data": {
            "text/plain": [
              "<Figure size 216x360 with 1 Axes>"
            ],
            "image/png": "[encoded data removed]"
          },
          "metadata": {
            "needs_background": "light"
          }
        }
      ],
      "source": [
        "labeled_barplot(data, \"salary\", perc=True)"
      ]
    },
    {
      "cell_type": "markdown",
      "id": "spoken-polls",
      "metadata": {
        "id": "spoken-polls"
      },
      "source": [
        "* ~24% of the observations have a salary above 50K and while ~76% have a salary below 50K"
      ]
    },
    {
      "cell_type": "markdown",
      "id": "national-creativity",
      "metadata": {
        "id": "national-creativity"
      },
      "source": [
        "## Bivariate analysis"
      ]
    },
    {
      "cell_type": "code",
      "execution_count": null,
      "id": "geological-yeast",
      "metadata": {
        "colab": {
          "base_uri": "https://localhost:8080/",
          "height": 433
        },
        "id": "geological-yeast",
        "outputId": "d2d8a848-4a39-4826-bc6d-591711d0ad15"
      },
      "outputs": [
        {
          "output_type": "display_data",
          "data": {
            "text/plain": [
              "<Figure size 1080x504 with 2 Axes>"
            ],
            "image/png": "[encoded data removed]"
          },
          "metadata": {
            "needs_background": "light"
          }
        }
      ],
      "source": [
        "plt.figure(figsize=(15, 7))\n",
        "sns.heatmap(data.corr(), annot=True, vmin=-1, vmax=1, fmt=\".2f\", cmap=\"Spectral\")\n",
        "plt.show()"
      ]
    },
    {
      "cell_type": "markdown",
      "id": "skilled-tractor",
      "metadata": {
        "id": "skilled-tractor"
      },
      "source": [
        "* There is no significant correlation between the columns."
      ]
    },
    {
      "cell_type": "code",
      "source": [
        "# Let's look at correlation beween features and target\n",
        "data.corr()['salary']"
      ],
      "metadata": {
        "colab": {
          "base_uri": "https://localhost:8080/"
        },
        "id": "k6U1On1aQ_pu",
        "outputId": "8a60a0f2-8acc-407e-c31a-1d628fa7b48d"
      },
      "id": "k6U1On1aQ_pu",
      "execution_count": null,
      "outputs": [
        {
          "output_type": "execute_result",
          "data": {
            "text/plain": [
              "age                      -0.235865\n",
              "fnlwgt                    0.008387\n",
              "education_no_of_years    -0.342274\n",
              "working_hours_per_week   -0.271055\n",
              "salary                    1.000000\n",
              "Name: salary, dtype: float64"
            ]
          },
          "metadata": {},
          "execution_count": 160
        }
      ]
    },
    {
      "cell_type": "code",
      "execution_count": null,
      "id": "breeding-orlando",
      "metadata": {
        "id": "breeding-orlando"
      },
      "outputs": [],
      "source": [
        "### Function to plot stacked bar charts for categorical columns\n",
        "def stacked_plot(x):\n",
        "    sns.set()\n",
        "    ## crosstab\n",
        "    tab1 = pd.crosstab(x, data[\"salary\"], margins=True).sort_values(\n",
        "        by=\" >50K\", ascending=False\n",
        "    )\n",
        "    print(tab1)\n",
        "    print(\"-\" * 120)\n",
        "    ## visualising the cross tab\n",
        "    tab = pd.crosstab(x, data[\"salary\"], normalize=\"index\").sort_values(\n",
        "        by=\" >50K\", ascending=False\n",
        "    )\n",
        "    tab.plot(kind=\"bar\", stacked=True, figsize=(17, 7))\n",
        "    plt.legend(\n",
        "        loc=\"lower left\", frameon=False,\n",
        "    )\n",
        "    plt.legend(loc=\"upper left\", bbox_to_anchor=(1, 1))\n",
        "    plt.show()"
      ]
    },
    {
      "cell_type": "code",
      "execution_count": null,
      "id": "ordinary-short",
      "metadata": {
        "id": "ordinary-short"
      },
      "outputs": [],
      "source": [
        "def stacked_barplot(data, predictor, target):\n",
        "    \"\"\"\n",
        "    Print the category counts and plot a stacked bar chart\n",
        "\n",
        "    data: dataframe\n",
        "    predictor: independent variable\n",
        "    target: target variable\n",
        "    \"\"\"\n",
        "    count = data[predictor].nunique()\n",
        "    sorter = data[target].value_counts().index[-1]\n",
        "    tab1 = pd.crosstab(data[predictor], data[target], margins=True).sort_values(\n",
        "        by=sorter, ascending=False\n",
        "    )\n",
        "    print(tab1)\n",
        "    print(\"-\" * 120)\n",
        "    tab = pd.crosstab(data[predictor], data[target], normalize=\"index\").sort_values(\n",
        "        by=sorter, ascending=False\n",
        "    )\n",
        "    tab.plot(kind=\"bar\", stacked=True, figsize=(count + 5, 5))\n",
        "    plt.legend(\n",
        "        loc=\"lower left\", frameon=False,\n",
        "    )\n",
        "    plt.legend(loc=\"upper left\", bbox_to_anchor=(1, 1))\n",
        "    plt.show()"
      ]
    },
    {
      "cell_type": "code",
      "execution_count": null,
      "id": "supposed-hierarchy",
      "metadata": {
        "colab": {
          "base_uri": "https://localhost:8080/",
          "height": 467
        },
        "id": "supposed-hierarchy",
        "outputId": "9e92ee2b-bc32-498e-d9d5-7a95ee83fcd0"
      },
      "outputs": [
        {
          "output_type": "stream",
          "name": "stdout",
          "text": [
            "salary    <=50K   >50K    All\n",
            "sex                          \n",
            "All       24720   7841  32561\n",
            " Male     15128   6662  21790\n",
            " Female    9592   1179  10771\n",
            "------------------------------------------------------------------------------------------------------------------------\n"
          ]
        },
        {
          "output_type": "display_data",
          "data": {
            "text/plain": [
              "<Figure size 504x360 with 1 Axes>"
            ],
            "image/png": "[encoded data removed]"
          },
          "metadata": {
            "needs_background": "light"
          }
        }
      ],
      "source": [
        "stacked_barplot(data, \"sex\", \"salary\")"
      ]
    },
    {
      "cell_type": "markdown",
      "id": "suffering-valley",
      "metadata": {
        "id": "suffering-valley"
      },
      "source": [
        "* ~25% of the males have salary >50K whereas only ~15% of the females have salary >50K.\n",
        "* This shows the pay gap that exists in society and the government should investigate further on it to formulate policy to ensure equal pay."
      ]
    },
    {
      "cell_type": "markdown",
      "id": "continuous-reset",
      "metadata": {
        "id": "continuous-reset"
      },
      "source": [
        "### salary vs education"
      ]
    },
    {
      "cell_type": "code",
      "execution_count": null,
      "id": "featured-equation",
      "metadata": {
        "colab": {
          "base_uri": "https://localhost:8080/"
        },
        "id": "featured-equation",
        "outputId": "89ddb55a-0282-4acb-a98e-cbe87a23dfcb"
      },
      "outputs": [
        {
          "output_type": "stream",
          "name": "stdout",
          "text": [
            "salary          <=50K   >50K    All\n",
            "education                          \n",
            "All             24720   7841  32561\n",
            " Bachelors       3134   2221   5355\n",
            " HS-grad         8826   1675  10501\n",
            " Some-college    5904   1387   7291\n",
            " Masters          764    959   1723\n",
            " Prof-school      153    423    576\n",
            " Assoc-voc       1021    361   1382\n",
            " Doctorate        107    306    413\n",
            " Assoc-acdm       802    265   1067\n",
            " 10th             871     62    933\n",
            " 11th            1115     60   1175\n",
            " 7th-8th          606     40    646\n",
            " 12th             400     33    433\n",
            " 9th              487     27    514\n",
            " 5th-6th          317     16    333\n",
            " 1st-4th          162      6    168\n",
            " Preschool         51      0     51\n",
            "------------------------------------------------------------------------------------------------------------------------\n"
          ]
        },
        {
          "output_type": "display_data",
          "data": {
            "text/plain": [
              "<Figure size 1512x360 with 1 Axes>"
            ],
            "image/png": "[encoded data removed]"
          },
          "metadata": {
            "needs_background": "light"
          }
        }
      ],
      "source": [
        "stacked_barplot(data, \"education\", \"salary\")"
      ]
    },
    {
      "cell_type": "markdown",
      "id": "boxed-diesel",
      "metadata": {
        "id": "boxed-diesel"
      },
      "source": [
        "* ~70% of the people of are Doctorate, graduate from Professional school program (Prof-school) have a salary above $50K.\n",
        "* This clearly shows a positive relationship between education and salary, the higher the education higher is the salary."
      ]
    },
    {
      "cell_type": "markdown",
      "id": "great-worry",
      "metadata": {
        "id": "great-worry"
      },
      "source": [
        "### salary vs occupation"
      ]
    },
    {
      "cell_type": "code",
      "execution_count": null,
      "id": "modified-blink",
      "metadata": {
        "colab": {
          "base_uri": "https://localhost:8080/"
        },
        "id": "modified-blink",
        "outputId": "62d696cc-adfc-4e84-e57f-77c3934e6fcb"
      },
      "outputs": [
        {
          "output_type": "stream",
          "name": "stdout",
          "text": [
            "salary               <=50K   >50K    All\n",
            "occupation                              \n",
            "All                  24720   7841  32561\n",
            " Exec-managerial      2098   1968   4066\n",
            " Prof-specialty       2281   1859   4140\n",
            " Sales                2667    983   3650\n",
            " Craft-repair         3170    929   4099\n",
            " Adm-clerical         3263    507   3770\n",
            " Transport-moving     1277    320   1597\n",
            " Tech-support          645    283    928\n",
            " Machine-op-inspct    1752    250   2002\n",
            " Protective-serv       438    211    649\n",
            "Unknown               1652    191   1843\n",
            " Other-service        3158    137   3295\n",
            " Farming-fishing       879    115    994\n",
            " Handlers-cleaners    1284     86   1370\n",
            " Armed-Forces            8      1      9\n",
            " Priv-house-serv       148      1    149\n",
            "------------------------------------------------------------------------------------------------------------------------\n"
          ]
        },
        {
          "output_type": "display_data",
          "data": {
            "text/plain": [
              "<Figure size 1440x360 with 1 Axes>"
            ],
            "image/png": "[encoded data removed]"
          },
          "metadata": {
            "needs_background": "light"
          }
        }
      ],
      "source": [
        "stacked_barplot(data, \"occupation\", \"salary\")"
      ]
    },
    {
      "cell_type": "markdown",
      "id": "affiliated-recipient",
      "metadata": {
        "id": "affiliated-recipient"
      },
      "source": [
        "- ~50% of the people whose occupation is of Executive Manager, Professor-speciality have a salary above $50,000\n",
        "- People with occupations like Private house service,handlers-cleaners, farming-fishing have a higher likelihood of having below 50K salary."
      ]
    },
    {
      "cell_type": "markdown",
      "id": "prepared-tuesday",
      "metadata": {
        "id": "prepared-tuesday"
      },
      "source": [
        "### salary vs race"
      ]
    },
    {
      "cell_type": "code",
      "execution_count": null,
      "id": "alpine-voluntary",
      "metadata": {
        "colab": {
          "base_uri": "https://localhost:8080/"
        },
        "id": "alpine-voluntary",
        "outputId": "abb7cc97-231b-4bdc-e8bc-b14f4ca97881"
      },
      "outputs": [
        {
          "output_type": "stream",
          "name": "stdout",
          "text": [
            "salary                <=50K   >50K    All\n",
            "race                                     \n",
            "All                   24720   7841  32561\n",
            " White                20699   7117  27816\n",
            " Black                 2737    387   3124\n",
            " Asian-Pac-Islander     763    276   1039\n",
            " Amer-Indian-Eskimo     275     36    311\n",
            " Other                  246     25    271\n",
            "------------------------------------------------------------------------------------------------------------------------\n"
          ]
        },
        {
          "output_type": "display_data",
          "data": {
            "text/plain": [
              "<Figure size 720x360 with 1 Axes>"
            ],
            "image/png": "[encoded data removed]"
          },
          "metadata": {
            "needs_background": "light"
          }
        }
      ],
      "source": [
        "stacked_barplot(data, \"race\", \"salary\")"
      ]
    },
    {
      "cell_type": "markdown",
      "id": "medium-zoning",
      "metadata": {
        "id": "medium-zoning"
      },
      "source": [
        "* 25% of the White and Asia-Pacific people have a salary more than 50K salary as compared to people from other race."
      ]
    },
    {
      "cell_type": "markdown",
      "id": "optical-samuel",
      "metadata": {
        "id": "optical-samuel"
      },
      "source": [
        "### salary vs workclass"
      ]
    },
    {
      "cell_type": "code",
      "execution_count": null,
      "id": "induced-bargain",
      "metadata": {
        "colab": {
          "base_uri": "https://localhost:8080/"
        },
        "id": "induced-bargain",
        "outputId": "72e18949-4b7b-488c-960f-ca94212b0aba"
      },
      "outputs": [
        {
          "output_type": "stream",
          "name": "stdout",
          "text": [
            "salary              <=50K   >50K    All\n",
            "workclass                              \n",
            "All                 24720   7841  32561\n",
            " Private            17733   4963  22696\n",
            " Self-emp-not-inc    1817    724   2541\n",
            " Self-emp-inc         494    622   1116\n",
            " Local-gov           1476    617   2093\n",
            " Federal-gov          589    371    960\n",
            " State-gov            945    353   1298\n",
            "Unknown              1645    191   1836\n",
            " Never-worked           7      0      7\n",
            " Without-pay           14      0     14\n",
            "------------------------------------------------------------------------------------------------------------------------\n"
          ]
        },
        {
          "output_type": "display_data",
          "data": {
            "text/plain": [
              "<Figure size 1008x360 with 1 Axes>"
            ],
            "image/png": "[encoded data removed]"
          },
          "metadata": {
            "needs_background": "light"
          }
        }
      ],
      "source": [
        "stacked_barplot(data, \"workclass\", \"salary\")"
      ]
    },
    {
      "cell_type": "markdown",
      "id": "laden-touch",
      "metadata": {
        "id": "laden-touch"
      },
      "source": [
        "* ~50% of the self-employed people have a salary above 50K followed by ~40% of the federal govt employee who has salary more than 50K.\n",
        "* ~20% of the people working in the private sector earn more than 50K."
      ]
    },
    {
      "cell_type": "markdown",
      "id": "welcome-afternoon",
      "metadata": {
        "id": "welcome-afternoon"
      },
      "source": [
        "### salary vs marital_status"
      ]
    },
    {
      "cell_type": "code",
      "execution_count": null,
      "id": "objective-client",
      "metadata": {
        "colab": {
          "base_uri": "https://localhost:8080/"
        },
        "id": "objective-client",
        "outputId": "d7453dd6-cf0b-42ea-d9a6-0a1a8cf287e8"
      },
      "outputs": [
        {
          "output_type": "stream",
          "name": "stdout",
          "text": [
            "salary           <=50K   >50K    All\n",
            "marital_status                      \n",
            "All              24720   7841  32561\n",
            "married           8297   6702  14999\n",
            "not_married       6231    648   6879\n",
            "Never-married    10192    491  10683\n",
            "------------------------------------------------------------------------------------------------------------------------\n"
          ]
        },
        {
          "output_type": "display_data",
          "data": {
            "text/plain": [
              "<Figure size 576x360 with 1 Axes>"
            ],
            "image/png": "[encoded data removed]"
          },
          "metadata": {
            "needs_background": "light"
          }
        }
      ],
      "source": [
        "stacked_barplot(data, \"marital_status\", \"salary\")"
      ]
    },
    {
      "cell_type": "markdown",
      "id": "built-escape",
      "metadata": {
        "id": "built-escape"
      },
      "source": [
        "* Married people have a higher likelihood of getting a salary above 50K compared to Never Married and Not married people."
      ]
    },
    {
      "cell_type": "code",
      "execution_count": null,
      "id": "clean-harvey",
      "metadata": {
        "id": "clean-harvey"
      },
      "outputs": [],
      "source": [
        "### function to plot distributions wrt target\n",
        "\n",
        "\n",
        "def distribution_plot_wrt_target(data, predictor, target):\n",
        "\n",
        "    fig, axs = plt.subplots(2, 2, figsize=(12, 10))\n",
        "\n",
        "    target_uniq = data[target].unique()\n",
        "\n",
        "    axs[0, 0].set_title(\"Distribution of target for target=\" + str(target_uniq[0]))\n",
        "    sns.histplot(\n",
        "        data=data[data[target] == target_uniq[0]],\n",
        "        x=predictor,\n",
        "        kde=True,\n",
        "        ax=axs[0, 0],\n",
        "        color=\"teal\",\n",
        "        stat=\"density\",\n",
        "    )\n",
        "\n",
        "    axs[0, 1].set_title(\"Distribution of target for target=\" + str(target_uniq[1]))\n",
        "    sns.histplot(\n",
        "        data=data[data[target] == target_uniq[1]],\n",
        "        x=predictor,\n",
        "        kde=True,\n",
        "        ax=axs[0, 1],\n",
        "        color=\"orange\",\n",
        "        stat=\"density\",\n",
        "    )\n",
        "\n",
        "    axs[1, 0].set_title(\"Boxplot w.r.t target\")\n",
        "    sns.boxplot(data=data, x=target, y=predictor, ax=axs[1, 0], palette=\"gist_rainbow\")\n",
        "\n",
        "    axs[1, 1].set_title(\"Boxplot (without outliers) w.r.t target\")\n",
        "    sns.boxplot(\n",
        "        data=data,\n",
        "        x=target,\n",
        "        y=predictor,\n",
        "        ax=axs[1, 1],\n",
        "        showfliers=False,\n",
        "        palette=\"gist_rainbow\",\n",
        "    )\n",
        "\n",
        "    plt.tight_layout()\n",
        "    plt.show()"
      ]
    },
    {
      "cell_type": "markdown",
      "id": "verbal-elder",
      "metadata": {
        "id": "verbal-elder"
      },
      "source": [
        "### salary vs age"
      ]
    },
    {
      "cell_type": "code",
      "execution_count": null,
      "id": "cardiovascular-twenty",
      "metadata": {
        "scrolled": false,
        "colab": {
          "base_uri": "https://localhost:8080/"
        },
        "id": "cardiovascular-twenty",
        "outputId": "6c9cb967-20f8-4970-86ae-a71bcee1c496"
      },
      "outputs": [
        {
          "output_type": "display_data",
          "data": {
            "text/plain": [
              "<Figure size 864x720 with 4 Axes>"
            ],
            "image/png": "[encoded data removed]"
          },
          "metadata": {
            "needs_background": "light"
          }
        }
      ],
      "source": [
        "distribution_plot_wrt_target(data, \"age\", \"salary\")"
      ]
    },
    {
      "cell_type": "markdown",
      "id": "thorough-limit",
      "metadata": {
        "id": "thorough-limit"
      },
      "source": [
        "* People who more than 50K salary are generally older having an average age of around 48 years.\n",
        "* People who have less than 50K salary have an average age of around 36."
      ]
    },
    {
      "cell_type": "markdown",
      "id": "empirical-density",
      "metadata": {
        "id": "empirical-density"
      },
      "source": [
        "### salary vs working_hours_per_week"
      ]
    },
    {
      "cell_type": "code",
      "execution_count": null,
      "id": "latest-matrix",
      "metadata": {
        "colab": {
          "base_uri": "https://localhost:8080/"
        },
        "id": "latest-matrix",
        "outputId": "dd01acbb-b496-488d-b8a0-036d1f9f159d"
      },
      "outputs": [
        {
          "output_type": "display_data",
          "data": {
            "text/plain": [
              "<Figure size 864x720 with 4 Axes>"
            ],
            "image/png": "[encoded data removed]"
          },
          "metadata": {
            "needs_background": "light"
          }
        }
      ],
      "source": [
        "distribution_plot_wrt_target(data, \"working_hours_per_week\", \"salary\")"
      ]
    },
    {
      "cell_type": "markdown",
      "id": "binary-sensitivity",
      "metadata": {
        "id": "binary-sensitivity"
      },
      "source": [
        "* Majority of people having above 50K salary work around 40 hours per week.\n",
        "* Those having >50K salary have a higher range of working hours as compared to the ones with <=50K, but there are outliers present."
      ]
    },
    {
      "cell_type": "code",
      "execution_count": null,
      "id": "vietnamese-depression",
      "metadata": {
        "colab": {
          "base_uri": "https://localhost:8080/"
        },
        "id": "vietnamese-depression",
        "outputId": "9bf347f3-23df-4a1b-dd41-702875319556"
      },
      "outputs": [
        {
          "output_type": "display_data",
          "data": {
            "text/plain": [
              "<Figure size 1080x864 with 1 Axes>"
            ],
            "image/png": "[encoded data removed]"
          },
          "metadata": {
            "needs_background": "light"
          }
        }
      ],
      "source": [
        "# lets see how working hours per week vary across different occupation\n",
        "plt.figure(figsize=(15, 12))\n",
        "sns.boxplot(\n",
        "    y=\"workclass\", x=\"working_hours_per_week\", data=data, hue=\"salary\", showfliers=False\n",
        ")\n",
        "plt.show()"
      ]
    },
    {
      "cell_type": "markdown",
      "id": "formed-auction",
      "metadata": {
        "id": "formed-auction"
      },
      "source": [
        "* Private sector employees work for more hours to get a salary above 50K.\n",
        "* There's large variability in the working hours of self-employed people which makes sense as they might be working at their ease.\n",
        "* Without pay and never worked will have no income or less than 50K income.\n",
        "* The number of working hours for many government employees is concentrated at 40 hrs a week, which makes sense as government employees generally have fixed working hours."
      ]
    },
    {
      "cell_type": "markdown",
      "id": "dominant-maple",
      "metadata": {
        "id": "dominant-maple"
      },
      "source": [
        "### <a id='link1'>Summary of EDA</a>\n",
        "**Data Description:**\n",
        "\n",
        "* Dependent variable is the salary which is of categorical data type.\n",
        "* age, capital gain, and capital loss are of integer type while other variables are of categorical type\n",
        "* There are no missing values in the dataset.\n",
        "\n",
        "**Data Cleaning:**\n",
        "\n",
        "* We observed that all the observations where workclass = ? the values in the occupation are ? \n",
        "* The strong pattern between workclass and occupation makes sense as both of these variables capture similar information.\n",
        "* There is no strong correlation of ? observations in occupation and workclass with native_country.\n",
        "* For now we will replaced these ?'s with the 'unknown' category.\n",
        "* There are 42 distinct countries in the data set, which were reduced to their respective continents to reduce the dimension of data and we now have only 5 distinct values in the data.\n",
        "* We reduced the distinct groups of marital_status to three categories: Married, Not-Married and Never-Married.\n",
        "\n",
        "**Observations from EDA:**\n",
        "\n",
        "* `age`: Average age of people in the dataset is 38 years, age has a wide range from 17 to 90 years.\n",
        "* `education_no_of_years`: The average education in years is 10 years. There's a large difference between the minimum value and 25th percentile which indicates that there might be outliers present in this variable.\n",
        "* `capital_gain`: There's a huge difference in the 75th percentile and maximum value of capital_gain indicating the presence of outliers. Also, 75% of the observations are 0.\n",
        "* `capital_loss`: Same as capital gain there's a huge difference in the 75th percentile and maximum value indicating the presence of outliers. Also, 75% of the observations are 0.\n",
        "* `working_hours_per_week`: On average people work for 40 hours a week. A vast difference in minimum value and 25th percentile, as well as 75th percentile and the maximum value, indicates that there might be outliers present in the variable.\n",
        "* `fnlwght`: fnlwght is right-skewed. It has lots of outliers on the right side which we can cap.\n",
        "* `working_hours_per_week`: Most of the data is concentrated around 40 working hours this gives a sense that most of the observations in data might be salaried employees working 8hrs 5 days a week. Some of the observations are clear outliers like working  1 hour a week which needs to be treated.\n",
        "* `workclass`: ~70% of the observations are from the Private sector working class.\n",
        "* `marita_status`: 47.3% of the observations in the dataset are married followed by 32.8% of the people who never married.\n",
        "* `race`: * 94% of the people are native to north_america followed by 2.1% Asians.\n",
        "* `salary vs sex`: ~25% of the males have salary >50K whereas only ~15% of the females have salary >50K.\n",
        "* `salary vs occupation`: - ~50% of the people whose occupation is of Executive Manager, Professor-speciality have a salary above 50,000 dollars. People with occupations like Private house service,handlers-cleaners, farming-fishing have a higher likelihood of having below 50K salary.\n",
        "* `salary vs education`: ~70% of the people of are Doctorate, graduate from Professional school program (Prof-school) have a salary above 50K dollars\n",
        "* `salary vs workclass`: ~50% of the self-employed people have a salary above 50K followed by ~40% of the federal govt employee who has salary more than 50K. ~20% of the people working in the private sector earn more than 50K.\n",
        "* `salary vs working_hours_per_week`: Majority of people having above 50K salary work around 40 hours per week.\n",
        "* Private sector employees work for more hours to get a salary above 50K.\n",
        "* There's large variability in the working hours of self-employed people which makes sense as they might be working at their ease."
      ]
    },
    {
      "cell_type": "markdown",
      "id": "f8671315",
      "metadata": {
        "id": "f8671315"
      },
      "source": [
        "### Actions for data pre-processing:\n",
        "\n",
        "* Many variables have outliers that need to be treated.\n",
        "* We can drop capital_gain and capital_loss as most of the observations are 0 in these variables, and if the government already knows a person's capital gain or loss it will be easier for them to classify a person into a salary group."
      ]
    },
    {
      "cell_type": "markdown",
      "id": "strong-spain",
      "metadata": {
        "id": "strong-spain"
      },
      "source": [
        "### Data Pre-Processing"
      ]
    },
    {
      "cell_type": "markdown",
      "id": "german-assessment",
      "metadata": {
        "id": "german-assessment"
      },
      "source": [
        "* Dropping capital_gain and capital_loss\n",
        "* There are many outliers in the data which we will treat (perform capping of outliers).\n",
        "* All the values smaller than the lower whisker will be assigned the value of the lower whisker, and all the values above the upper whisker will be assigned the value of the upper whisker."
      ]
    },
    {
      "cell_type": "markdown",
      "id": "fifty-lottery",
      "metadata": {
        "id": "fifty-lottery"
      },
      "source": [
        "**Dropping capital_gain and capital_loss**"
      ]
    },
    {
      "cell_type": "code",
      "execution_count": null,
      "id": "identified-class",
      "metadata": {
        "id": "identified-class"
      },
      "outputs": [],
      "source": [
        "data.drop([\"capital_gain\", \"capital_loss\"], axis=1, inplace=True)"
      ]
    },
    {
      "cell_type": "markdown",
      "id": "seasonal-catalyst",
      "metadata": {
        "id": "seasonal-catalyst"
      },
      "source": [
        "**Outliers detection using boxplot**"
      ]
    },
    {
      "cell_type": "code",
      "execution_count": null,
      "id": "national-transsexual",
      "metadata": {
        "colab": {
          "base_uri": "https://localhost:8080/"
        },
        "id": "national-transsexual",
        "outputId": "56cd2cc6-bdb5-4fc2-f887-656144550b3b"
      },
      "outputs": [
        {
          "output_type": "display_data",
          "data": {
            "text/plain": [
              "<Figure size 1440x2160 with 4 Axes>"
            ],
            "image/png": "[encoded data removed]"
          },
          "metadata": {
            "needs_background": "light"
          }
        }
      ],
      "source": [
        "numerical_col = data.select_dtypes(include=np.number).columns.tolist()\n",
        "plt.figure(figsize=(20, 30))\n",
        "\n",
        "for i, variable in enumerate(numerical_col):\n",
        "    plt.subplot(5, 4, i + 1)\n",
        "    plt.boxplot(data[variable], whis=1.5)\n",
        "    plt.tight_layout()\n",
        "    plt.title(variable)\n",
        "\n",
        "plt.show()"
      ]
    },
    {
      "cell_type": "markdown",
      "id": "annual-penalty",
      "metadata": {
        "id": "annual-penalty"
      },
      "source": [
        "* Age and fnlwgt have upper outliers. \n",
        "* education_no_years has lower outliers. \n",
        "* working_hours_per_week has both upper and lower outliers."
      ]
    },
    {
      "cell_type": "markdown",
      "id": "matched-field",
      "metadata": {
        "id": "matched-field"
      },
      "source": [
        "### Treating Outliers"
      ]
    },
    {
      "cell_type": "code",
      "execution_count": null,
      "id": "tested-status",
      "metadata": {
        "id": "tested-status"
      },
      "outputs": [],
      "source": [
        "# functions to treat outliers by flooring and capping\n",
        "\n",
        "\n",
        "def treat_outliers(df, col):\n",
        "    \"\"\"\n",
        "    Treats outliers in a variable\n",
        "\n",
        "    df: dataframe\n",
        "    col: dataframe column\n",
        "    \"\"\"\n",
        "    Q1 = df[col].quantile(0.25)  # 25th quantile\n",
        "    Q3 = df[col].quantile(0.75)  # 75th quantile\n",
        "    IQR = Q3 - Q1\n",
        "    Lower_Whisker = Q1 - 1.5 * IQR\n",
        "    Upper_Whisker = Q3 + 1.5 * IQR\n",
        "\n",
        "    # all the values smaller than Lower_Whisker will be assigned the value of Lower_Whisker\n",
        "    # all the values greater than Upper_Whisker will be assigned the value of Upper_Whisker\n",
        "    df[col] = np.clip(df[col], Lower_Whisker, Upper_Whisker)\n",
        "\n",
        "    return df\n",
        "\n",
        "\n",
        "def treat_outliers_all(df, col_list):\n",
        "    \"\"\"\n",
        "    Treat outliers in a list of variables\n",
        "\n",
        "    df: dataframe\n",
        "    col_list: list of dataframe columns\n",
        "    \"\"\"\n",
        "    for c in col_list:\n",
        "        df = treat_outliers(df, c)\n",
        "\n",
        "    return df"
      ]
    },
    {
      "cell_type": "code",
      "execution_count": null,
      "id": "ordinary-recruitment",
      "metadata": {
        "id": "ordinary-recruitment"
      },
      "outputs": [],
      "source": [
        "numerical_col = data.select_dtypes(include=np.number).columns.tolist()\n",
        "data = treat_outliers_all(data, numerical_col)"
      ]
    },
    {
      "cell_type": "code",
      "execution_count": null,
      "id": "rocky-limitation",
      "metadata": {
        "colab": {
          "base_uri": "https://localhost:8080/"
        },
        "id": "rocky-limitation",
        "outputId": "5f1f9816-b9de-430d-fccb-49830a0d3217"
      },
      "outputs": [
        {
          "output_type": "display_data",
          "data": {
            "text/plain": [
              "<Figure size 1440x2160 with 4 Axes>"
            ],
            "image/png": "[encoded data removed]"
          },
          "metadata": {
            "needs_background": "light"
          }
        }
      ],
      "source": [
        "# let's look at box plot to see if outliers have been treated or not\n",
        "plt.figure(figsize=(20, 30))\n",
        "\n",
        "for i, variable in enumerate(numerical_col):\n",
        "    plt.subplot(5, 4, i + 1)\n",
        "    plt.boxplot(data[variable], whis=1.5)\n",
        "    plt.tight_layout()\n",
        "    plt.title(variable)\n",
        "\n",
        "plt.show()"
      ]
    },
    {
      "cell_type": "markdown",
      "id": "prescribed-focus",
      "metadata": {
        "id": "prescribed-focus"
      },
      "source": [
        "### Data Preparation"
      ]
    },
    {
      "cell_type": "markdown",
      "id": "cellular-david",
      "metadata": {
        "id": "cellular-david"
      },
      "source": [
        "**Encoding >50K as 0 and <=50K as 1 as government wants to find underprivileged section of society.**"
      ]
    },
    {
      "cell_type": "code",
      "execution_count": null,
      "id": "purple-annotation",
      "metadata": {
        "id": "purple-annotation"
      },
      "outputs": [],
      "source": [
        "data[\"salary\"] = data[\"salary\"].apply(lambda x: 1 if x == \" <=50K\" else 0)"
      ]
    },
    {
      "cell_type": "markdown",
      "id": "lesbian-soldier",
      "metadata": {
        "id": "lesbian-soldier"
      },
      "source": [
        "**Creating training and test sets.**"
      ]
    },
    {
      "cell_type": "code",
      "execution_count": null,
      "id": "metallic-latex",
      "metadata": {
        "id": "metallic-latex"
      },
      "outputs": [],
      "source": [
        "X = data.drop([\"salary\"], axis=1)\n",
        "Y = data[\"salary\"]\n",
        "\n",
        "X = pd.get_dummies(X, drop_first=True)\n",
        "\n",
        "# Splitting data in train and test sets\n",
        "X_train, X_test, y_train, y_test = train_test_split(\n",
        "    X, Y, test_size=0.30, random_state=1\n",
        ")"
      ]
    },
    {
      "cell_type": "code",
      "execution_count": null,
      "id": "organized-worth",
      "metadata": {
        "colab": {
          "base_uri": "https://localhost:8080/"
        },
        "id": "organized-worth",
        "outputId": "b6945925-ec7d-4ab4-8b05-44275e703aee"
      },
      "outputs": [
        {
          "output_type": "stream",
          "name": "stdout",
          "text": [
            "Shape of Training set :  (22792, 52)\n",
            "Shape of test set :  (9769, 52)\n",
            "Percentage of classes in training set:\n",
            "1    0.753335\n",
            "0    0.246665\n",
            "Name: salary, dtype: float64\n",
            "Percentage of classes in test set:\n",
            "1    0.772853\n",
            "0    0.227147\n",
            "Name: salary, dtype: float64\n"
          ]
        }
      ],
      "source": [
        "print(\"Shape of Training set : \", X_train.shape)\n",
        "print(\"Shape of test set : \", X_test.shape)\n",
        "print(\"Percentage of classes in training set:\")\n",
        "print(y_train.value_counts(normalize=True))\n",
        "print(\"Percentage of classes in test set:\")\n",
        "print(y_test.value_counts(normalize=True))"
      ]
    },
    {
      "cell_type": "markdown",
      "id": "developing-survival",
      "metadata": {
        "id": "developing-survival"
      },
      "source": [
        "### Building the model"
      ]
    },
    {
      "cell_type": "markdown",
      "id": "elect-domain",
      "metadata": {
        "id": "elect-domain"
      },
      "source": [
        "### Model evaluation criterion\n",
        "\n",
        "### Model can make wrong predictions as:\n",
        "1. Predicting a person has a salary <=50K but in reality the salary of the person is >50K.\n",
        "2. Predicting a person doesn't have a salary <=50K but in reality the salary of the person is <=50k.\n",
        "\n",
        "### Which case is more important? \n",
        "* Both the cases are important as:\n",
        "\n",
        "* If we predict a person has a salary <=50K but actually the salary is >50K then a wrong person will be getting the benefits of the scheme and government might lose resources.\n",
        "\n",
        "* If we predict a person doesn't have a salary <=50K but actually the salary is <=50K that person will not be able to avail the benefits of the scheme constituting to opportunity loss.\n",
        "\n",
        "\n",
        "### How to reduce this loss i.e need to reduce False Negatives?\n",
        "*  `f1_score` should be maximized, the greater the f1_score higher the chances of identifying both the classes correctly."
      ]
    },
    {
      "cell_type": "markdown",
      "id": "industrial-merchant",
      "metadata": {
        "id": "industrial-merchant"
      },
      "source": [
        "#### First, let's create functions to calculate different metrics and confusion matrix so that we don't have to use the same code repeatedly for each model.\n",
        "* The model_performance_classification_statsmodels function will be used to check the model performance of models. \n",
        "* The confusion_matrix_statsmodels function will be used to plot confusion matrix."
      ]
    },
    {
      "cell_type": "code",
      "execution_count": null,
      "id": "pregnant-madagascar",
      "metadata": {
        "id": "pregnant-madagascar"
      },
      "outputs": [],
      "source": [
        "# defining a function to compute different metrics to check performance of a classification model built using statsmodels\n",
        "def model_performance_classification_statsmodels(\n",
        "    model, predictors, target, threshold=0.5\n",
        "):\n",
        "    \"\"\"\n",
        "    Function to compute different metrics to check classification model performance\n",
        "\n",
        "    model: classifier\n",
        "    predictors: independent variables\n",
        "    target: dependent variable\n",
        "    threshold: threshold for classifying the observation as class 1\n",
        "    \"\"\"\n",
        "\n",
        "    # checking which probabilities are greater than threshold\n",
        "    pred_temp = model.predict(predictors) > threshold\n",
        "    # rounding off the above values to get classes\n",
        "    pred = np.round(pred_temp)\n",
        "\n",
        "    acc = accuracy_score(target, pred)  # to compute Accuracy\n",
        "    recall = recall_score(target, pred)  # to compute Recall\n",
        "    precision = precision_score(target, pred)  # to compute Precision\n",
        "    f1 = f1_score(target, pred)  # to compute F1-score\n",
        "\n",
        "    # creating a dataframe of metrics\n",
        "    df_perf = pd.DataFrame(\n",
        "        {\"Accuracy\": acc, \"Recall\": recall, \"Precision\": precision, \"F1\": f1,},\n",
        "        index=[0],\n",
        "    )\n",
        "\n",
        "    return df_perf"
      ]
    },
    {
      "cell_type": "code",
      "execution_count": null,
      "id": "adjacent-community",
      "metadata": {
        "id": "adjacent-community"
      },
      "outputs": [],
      "source": [
        "# defining a function to plot the confusion_matrix of a classification model\n",
        "\n",
        "\n",
        "def confusion_matrix_statsmodels(model, predictors, target, threshold=0.5):\n",
        "    \"\"\"\n",
        "    To plot the confusion_matrix with percentages\n",
        "\n",
        "    model: classifier\n",
        "    predictors: independent variables\n",
        "    target: dependent variable\n",
        "    threshold: threshold for classifying the observation as class 1\n",
        "    \"\"\"\n",
        "    y_pred = model.predict(predictors) > threshold\n",
        "    cm = confusion_matrix(target, y_pred)\n",
        "    labels = np.asarray(\n",
        "        [\n",
        "            [\"{0:0.0f}\".format(item) + \"\\n{0:.2%}\".format(item / cm.flatten().sum())]\n",
        "            for item in cm.flatten()\n",
        "        ]\n",
        "    ).reshape(2, 2)\n",
        "\n",
        "    plt.figure(figsize=(6, 4))\n",
        "    sns.heatmap(cm, annot=labels, fmt=\"\")\n",
        "    plt.ylabel(\"True label\")\n",
        "    plt.xlabel(\"Predicted label\")"
      ]
    },
    {
      "cell_type": "markdown",
      "id": "waiting-clinic",
      "metadata": {
        "id": "waiting-clinic"
      },
      "source": [
        "### Logistic Regression (with Sklearn library)"
      ]
    },
    {
      "cell_type": "code",
      "execution_count": null,
      "id": "judicial-acrylic",
      "metadata": {
        "id": "judicial-acrylic"
      },
      "outputs": [],
      "source": [
        "# There are different solvers available in Sklearn logistic regression\n",
        "# The newton-cg solver is faster for high-dimensional data\n",
        "\n",
        "lg = LogisticRegression(solver=\"newton-cg\", random_state=1)\n",
        "model = lg.fit(X_train, y_train)"
      ]
    },
    {
      "cell_type": "markdown",
      "id": "economic-degree",
      "metadata": {
        "id": "economic-degree"
      },
      "source": [
        "#### Checking model performance on training set"
      ]
    },
    {
      "cell_type": "code",
      "execution_count": null,
      "id": "healthy-catalog",
      "metadata": {
        "id": "healthy-catalog"
      },
      "outputs": [],
      "source": [
        "# predicting on training set\n",
        "y_pred_train = lg.predict(X_train)"
      ]
    },
    {
      "cell_type": "code",
      "execution_count": null,
      "id": "appropriate-rabbit",
      "metadata": {
        "colab": {
          "base_uri": "https://localhost:8080/"
        },
        "id": "appropriate-rabbit",
        "outputId": "395c41cf-36a1-4ab0-bf0d-5aff6401938d"
      },
      "outputs": [
        {
          "output_type": "stream",
          "name": "stdout",
          "text": [
            "Training set performance:\n",
            "Accuracy: 0.8331432081432082\n",
            "Precision: 0.8649991808202719\n",
            "Recall: 0.9224810716365754\n",
            "F1: 0.892815873284293\n"
          ]
        }
      ],
      "source": [
        "print(\"Training set performance:\")\n",
        "print(\"Accuracy:\", accuracy_score(y_train, y_pred_train))\n",
        "print(\"Precision:\", precision_score(y_train, y_pred_train))\n",
        "print(\"Recall:\", recall_score(y_train, y_pred_train))\n",
        "print(\"F1:\", f1_score(y_train, y_pred_train))"
      ]
    },
    {
      "cell_type": "markdown",
      "id": "classical-ladder",
      "metadata": {
        "id": "classical-ladder"
      },
      "source": [
        "#### Checking performance on test set"
      ]
    },
    {
      "cell_type": "code",
      "execution_count": null,
      "id": "prescription-basic",
      "metadata": {
        "id": "prescription-basic"
      },
      "outputs": [],
      "source": [
        "# predicting on the test set\n",
        "y_pred_test = lg.predict(X_test)"
      ]
    },
    {
      "cell_type": "code",
      "execution_count": null,
      "id": "smoking-kruger",
      "metadata": {
        "colab": {
          "base_uri": "https://localhost:8080/"
        },
        "id": "smoking-kruger",
        "outputId": "391bad85-5a33-4c3d-b5e3-3216bd44ad1b"
      },
      "outputs": [
        {
          "output_type": "stream",
          "name": "stdout",
          "text": [
            "Test set performance:\n",
            "Accuracy: 0.8380591667519706\n",
            "Precision: 0.8783920872432158\n",
            "Recall: 0.9174834437086092\n",
            "F1: 0.897512308888313\n"
          ]
        }
      ],
      "source": [
        "print(\"Test set performance:\")\n",
        "print(\"Accuracy:\", accuracy_score(y_test, y_pred_test))\n",
        "print(\"Precision:\", precision_score(y_test, y_pred_test))\n",
        "print(\"Recall:\", recall_score(y_test, y_pred_test))\n",
        "print(\"F1:\", f1_score(y_test, y_pred_test))"
      ]
    },
    {
      "cell_type": "markdown",
      "id": "early-neighborhood",
      "metadata": {
        "id": "early-neighborhood"
      },
      "source": [
        "**Observations**\n",
        "\n",
        "- The training and testing f1_scores are 0.89.\n",
        "\n",
        "- f1_score on the train and test sets are comparable.\n",
        "\n",
        "- This shows that the model is showing generalised results."
      ]
    },
    {
      "cell_type": "markdown",
      "id": "north-practice",
      "metadata": {
        "id": "north-practice"
      },
      "source": [
        "- We have build a logistic regression model which shows good performance on the train and test sets but to identify significant variables we will have to build a logistic regression model using the statsmodels library."
      ]
    },
    {
      "cell_type": "markdown",
      "id": "million-currency",
      "metadata": {
        "id": "million-currency"
      },
      "source": [
        "- We will now perform logistic regression using statsmodels, a Python module that provides functions for the estimation of many statistical models, as well as for conducting statistical tests, and statistical data exploration.\n",
        "\n",
        "- Using statsmodels, we will be able to check the statistical validity of our model - identify the significant predictors from p-values that we get for each predictor variable."
      ]
    },
    {
      "cell_type": "markdown",
      "id": "copyrighted-toronto",
      "metadata": {
        "id": "copyrighted-toronto"
      },
      "source": [
        "### Logistic Regression (with statsmodels library)"
      ]
    },
    {
      "cell_type": "code",
      "execution_count": null,
      "id": "jewish-sheriff",
      "metadata": {
        "id": "jewish-sheriff"
      },
      "outputs": [],
      "source": [
        "X = data.drop([\"salary\"], axis=1)\n",
        "Y = data[\"salary\"]\n",
        "\n",
        "X = pd.get_dummies(X, drop_first=True)\n",
        "\n",
        "# adding constant\n",
        "X = sm.add_constant(X)\n",
        "\n",
        "# Splitting data in train and test sets\n",
        "X_train, X_test, y_train, y_test = train_test_split(\n",
        "    X, Y, test_size=0.30, random_state=1\n",
        ")"
      ]
    },
    {
      "cell_type": "code",
      "execution_count": null,
      "id": "automated-grenada",
      "metadata": {
        "colab": {
          "base_uri": "https://localhost:8080/"
        },
        "id": "automated-grenada",
        "outputId": "b3c806ce-04ce-49fb-fd7f-f250782d9807"
      },
      "outputs": [
        {
          "output_type": "stream",
          "name": "stdout",
          "text": [
            "                           Logit Regression Results                           \n",
            "==============================================================================\n",
            "Dep. Variable:                 salary   No. Observations:                22792\n",
            "Model:                          Logit   Df Residuals:                    22741\n",
            "Method:                           MLE   Df Model:                           50\n",
            "Date:                Tue, 12 Jul 2022   Pseudo R-squ.:                  0.3631\n",
            "Time:                        16:19:58   Log-Likelihood:                -8109.9\n",
            "converged:                      False   LL-Null:                       -12733.\n",
            "Covariance Type:            nonrobust   LLR p-value:                     0.000\n",
            "=================================================================================================\n",
            "                                    coef    std err          z      P>|z|      [0.025      0.975]\n",
            "-------------------------------------------------------------------------------------------------\n",
            "const                             9.8403   1.88e+06   5.23e-06      1.000   -3.69e+06    3.69e+06\n",
            "age                              -0.0296      0.002    -16.233      0.000      -0.033      -0.026\n",
            "fnlwgt                        -8.962e-07   2.11e-07     -4.244      0.000   -1.31e-06   -4.82e-07\n",
            "education_no_of_years            -0.1993   3.14e+05  -6.36e-07      1.000   -6.14e+05    6.14e+05\n",
            "working_hours_per_week           -0.0676      0.003    -19.417      0.000      -0.074      -0.061\n",
            "workclass_ Local-gov              0.7003      0.127      5.529      0.000       0.452       0.949\n",
            "workclass_ Never-worked          12.8690   8.39e+06   1.53e-06      1.000   -1.64e+07    1.64e+07\n",
            "workclass_ Private                0.4649      0.105      4.424      0.000       0.259       0.671\n",
            "workclass_ Self-emp-inc           0.1071      0.138      0.776      0.438      -0.163       0.377\n",
            "workclass_ Self-emp-not-inc       0.9197      0.123      7.485      0.000       0.679       1.160\n",
            "workclass_ State-gov              0.6757      0.140      4.843      0.000       0.402       0.949\n",
            "workclass_ Without-pay           19.8800   9834.638      0.002      0.998   -1.93e+04    1.93e+04\n",
            "workclass_Unknown                -5.8390   8.39e+06  -6.96e-07      1.000   -1.64e+07    1.64e+07\n",
            "education_ 11th                   0.1602   3.14e+05   5.11e-07      1.000   -6.14e+05    6.14e+05\n",
            "education_ 12th                  -0.1161   6.27e+05  -1.85e-07      1.000   -1.23e+06    1.23e+06\n",
            "education_ 1st-4th                0.4957    4.7e+05   1.05e-06      1.000   -9.22e+05    9.22e+05\n",
            "education_ 5th-6th                0.1761    4.7e+05   3.75e-07      1.000   -9.22e+05    9.22e+05\n",
            "education_ 7th-8th                0.2590    4.7e+05   5.51e-07      1.000   -9.22e+05    9.22e+05\n",
            "education_ 9th                    0.2793   3.14e+05   8.91e-07      1.000   -6.14e+05    6.14e+05\n",
            "education_ Assoc-acdm            -0.1817   1.88e+06  -9.66e-08      1.000   -3.69e+06    3.69e+06\n",
            "education_ Assoc-voc             -0.4214   1.57e+06  -2.69e-07      1.000   -3.07e+06    3.07e+06\n",
            "education_ Bachelors             -0.6339   2.19e+06  -2.89e-07      1.000    -4.3e+06     4.3e+06\n",
            "education_ Doctorate             -0.9419   3.14e+06     -3e-07      1.000   -6.14e+06    6.14e+06\n",
            "education_ HS-grad               -0.2731   9.41e+05   -2.9e-07      1.000   -1.84e+06    1.84e+06\n",
            "education_ Masters               -0.8273   2.51e+06   -3.3e-07      1.000   -4.92e+06    4.92e+06\n",
            "education_ Preschool             13.2213    4.7e+05   2.81e-05      1.000   -9.22e+05    9.22e+05\n",
            "education_ Prof-school           -1.2857   2.82e+06  -4.56e-07      1.000   -5.53e+06    5.53e+06\n",
            "education_ Some-college          -0.3997   1.25e+06  -3.19e-07      1.000   -2.46e+06    2.46e+06\n",
            "marital_status_married           -2.5557      0.069    -37.298      0.000      -2.690      -2.421\n",
            "marital_status_not_married       -0.4237      0.083     -5.104      0.000      -0.586      -0.261\n",
            "occupation_ Armed-Forces          0.9057      1.334      0.679      0.497      -1.708       3.520\n",
            "occupation_ Craft-repair         -0.0982      0.089     -1.109      0.267      -0.272       0.075\n",
            "occupation_ Exec-managerial      -0.7609      0.085     -8.939      0.000      -0.928      -0.594\n",
            "occupation_ Farming-fishing       0.9681      0.155      6.234      0.000       0.664       1.272\n",
            "occupation_ Handlers-cleaners     0.7093      0.158      4.476      0.000       0.399       1.020\n",
            "occupation_ Machine-op-inspct     0.3001      0.114      2.636      0.008       0.077       0.523\n",
            "occupation_ Other-service         0.9223      0.132      6.992      0.000       0.664       1.181\n",
            "occupation_ Priv-house-serv       2.2452      1.086      2.068      0.039       0.117       4.373\n",
            "occupation_ Prof-specialty       -0.4799      0.090     -5.333      0.000      -0.656      -0.304\n",
            "occupation_ Protective-serv      -0.5111      0.141     -3.632      0.000      -0.787      -0.235\n",
            "occupation_ Sales                -0.1993      0.091     -2.189      0.029      -0.378      -0.021\n",
            "occupation_ Tech-support         -0.5768      0.124     -4.638      0.000      -0.821      -0.333\n",
            "occupation_ Transport-moving      0.1702      0.112      1.524      0.128      -0.049       0.389\n",
            "occupation_Unknown                7.0299   8.39e+06   8.38e-07      1.000   -1.64e+07    1.64e+07\n",
            "race_ Asian-Pac-Islander         -0.4247      0.282     -1.506      0.132      -0.977       0.128\n",
            "race_ Black                      -0.3083      0.248     -1.244      0.214      -0.794       0.177\n",
            "race_ Other                      -0.0396      0.371     -0.107      0.915      -0.766       0.687\n",
            "race_ White                      -0.4326      0.235     -1.839      0.066      -0.894       0.029\n",
            "sex_ Male                        -0.0502      0.058     -0.871      0.384      -0.163       0.063\n",
            "native_country_europe            -0.3432      0.236     -1.454      0.146      -0.806       0.119\n",
            "native_country_north_america     -0.2124      0.188     -1.127      0.260      -0.582       0.157\n",
            "native_country_other              0.1241      0.212      0.585      0.559      -0.292       0.540\n",
            "native_country_south_america      1.8671      0.690      2.706      0.007       0.515       3.219\n",
            "=================================================================================================\n"
          ]
        }
      ],
      "source": [
        "# fitting logistic regression model\n",
        "logit = sm.Logit(y_train, X_train.astype(float))\n",
        "lg = logit.fit(disp=False)\n",
        "\n",
        "print(lg.summary())"
      ]
    },
    {
      "cell_type": "code",
      "execution_count": null,
      "id": "harmful-fisher",
      "metadata": {
        "colab": {
          "base_uri": "https://localhost:8080/"
        },
        "id": "harmful-fisher",
        "outputId": "3a8ad559-ee27-49da-eb1e-b94682d358a1"
      },
      "outputs": [
        {
          "output_type": "stream",
          "name": "stdout",
          "text": [
            "Training performance:\n"
          ]
        },
        {
          "output_type": "execute_result",
          "data": {
            "text/plain": [
              "   Accuracy    Recall  Precision       F1\n",
              "0   0.83345  0.922365    0.86541  0.89298"
            ],
            "text/html": [
              "\n",
              "  <div id=\"df-2cccd9f3-e2d6-4f09-a180-c50e68d5b6b2\">\n",
              "    <div class=\"colab-df-container\">\n",
              "      <div>\n",
              "<style scoped>\n",
              "    .dataframe tbody tr th:only-of-type {\n",
              "        vertical-align: middle;\n",
              "    }\n",
              "\n",
              "    .dataframe tbody tr th {\n",
              "        vertical-align: top;\n",
              "    }\n",
              "\n",
              "    .dataframe thead th {\n",
              "        text-align: right;\n",
              "    }\n",
              "</style>\n",
              "<table border=\"1\" class=\"dataframe\">\n",
              "  <thead>\n",
              "    <tr style=\"text-align: right;\">\n",
              "      <th></th>\n",
              "      <th>Accuracy</th>\n",
              "      <th>Recall</th>\n",
              "      <th>Precision</th>\n",
              "      <th>F1</th>\n",
              "    </tr>\n",
              "  </thead>\n",
              "  <tbody>\n",
              "    <tr>\n",
              "      <th>0</th>\n",
              "      <td>0.83345</td>\n",
              "      <td>0.922365</td>\n",
              "      <td>0.86541</td>\n",
              "      <td>0.89298</td>\n",
              "    </tr>\n",
              "  </tbody>\n",
              "</table>\n",
              "</div>\n",
              "      <button class=\"colab-df-convert\" onclick=\"convertToInteractive('df-2cccd9f3-e2d6-4f09-a180-c50e68d5b6b2')\"\n",
              "              title=\"Convert this dataframe to an interactive table.\"\n",
              "              style=\"display:none;\">\n",
              "        \n",
              "  <svg xmlns=\"http://www.w3.org/2000/svg\" height=\"24px\"viewBox=\"0 0 24 24\"\n",
              "       width=\"24px\">\n",
              "    <path d=\"M0 0h24v24H0V0z\" fill=\"none\"/>\n",
              "    <path d=\"M18.56 5.44l.94 2.06.94-2.06 2.06-.94-2.06-.94-.94-2.06-.94 2.06-2.06.94zm-11 1L8.5 8.5l.94-2.06 2.06-.94-2.06-.94L8.5 2.5l-.94 2.06-2.06.94zm10 10l.94 2.06.94-2.06 2.06-.94-2.06-.94-.94-2.06-.94 2.06-2.06.94z\"/><path d=\"M17.41 7.96l-1.37-1.37c-.4-.4-.92-.59-1.43-.59-.52 0-1.04.2-1.43.59L10.3 9.45l-7.72 7.72c-.78.78-.78 2.05 0 2.83L4 21.41c.39.39.9.59 1.41.59.51 0 1.02-.2 1.41-.59l7.78-7.78 2.81-2.81c.8-.78.8-2.07 0-2.86zM5.41 20L4 18.59l7.72-7.72 1.47 1.35L5.41 20z\"/>\n",
              "  </svg>\n",
              "      </button>\n",
              "      \n",
              "  <style>\n",
              "    .colab-df-container {\n",
              "      display:flex;\n",
              "      flex-wrap:wrap;\n",
              "      gap: 12px;\n",
              "    }\n",
              "\n",
              "    .colab-df-convert {\n",
              "      background-color: #E8F0FE;\n",
              "      border: none;\n",
              "      border-radius: 50%;\n",
              "      cursor: pointer;\n",
              "      display: none;\n",
              "      fill: #1967D2;\n",
              "      height: 32px;\n",
              "      padding: 0 0 0 0;\n",
              "      width: 32px;\n",
              "    }\n",
              "\n",
              "    .colab-df-convert:hover {\n",
              "      background-color: #E2EBFA;\n",
              "      box-shadow: 0px 1px 2px rgba(60, 64, 67, 0.3), 0px 1px 3px 1px rgba(60, 64, 67, 0.15);\n",
              "      fill: #174EA6;\n",
              "    }\n",
              "\n",
              "    [theme=dark] .colab-df-convert {\n",
              "      background-color: #3B4455;\n",
              "      fill: #D2E3FC;\n",
              "    }\n",
              "\n",
              "    [theme=dark] .colab-df-convert:hover {\n",
              "      background-color: #434B5C;\n",
              "      box-shadow: 0px 1px 3px 1px rgba(0, 0, 0, 0.15);\n",
              "      filter: drop-shadow(0px 1px 2px rgba(0, 0, 0, 0.3));\n",
              "      fill: #FFFFFF;\n",
              "    }\n",
              "  </style>\n",
              "\n",
              "      <script>\n",
              "        const buttonEl =\n",
              "          document.querySelector('#df-2cccd9f3-e2d6-4f09-a180-c50e68d5b6b2 button.colab-df-convert');\n",
              "        buttonEl.style.display =\n",
              "          google.colab.kernel.accessAllowed ? 'block' : 'none';\n",
              "\n",
              "        async function convertToInteractive(key) {\n",
              "          const element = document.querySelector('#df-2cccd9f3-e2d6-4f09-a180-c50e68d5b6b2');\n",
              "          const dataTable =\n",
              "            await google.colab.kernel.invokeFunction('convertToInteractive',\n",
              "                                                     [key], {});\n",
              "          if (!dataTable) return;\n",
              "\n",
              "          const docLinkHtml = 'Like what you see? Visit the ' +\n",
              "            '<a target=\"_blank\" href=https://colab.research.google.com/notebooks/data_table.ipynb>data table notebook</a>'\n",
              "            + ' to learn more about interactive tables.';\n",
              "          element.innerHTML = '';\n",
              "          dataTable['output_type'] = 'display_data';\n",
              "          await google.colab.output.renderOutput(dataTable, element);\n",
              "          const docLink = document.createElement('div');\n",
              "          docLink.innerHTML = docLinkHtml;\n",
              "          element.appendChild(docLink);\n",
              "        }\n",
              "      </script>\n",
              "    </div>\n",
              "  </div>\n",
              "  "
            ]
          },
          "metadata": {},
          "execution_count": 121
        }
      ],
      "source": [
        "print(\"Training performance:\")\n",
        "model_performance_classification_statsmodels(lg, X_train, y_train)"
      ]
    },
    {
      "cell_type": "markdown",
      "id": "secret-language",
      "metadata": {
        "id": "secret-language"
      },
      "source": [
        "**Observations**\n",
        "\n",
        "- Negative values of the coefficient shows that probability of customer being a defaulter decreases with the increase of corresponding attribute value.\n",
        "\n",
        "- Positive values of the coefficient show that that probability of customer being a defaulter increases with the increase of corresponding attribute value.\n",
        "\n",
        "- p-value of a variable indicates if the variable is significant or not. If we consider the significance level to be 0.05 (5%), then any variable with a p-value less than 0.05 would be considered significant.\n",
        "\n",
        "- But these variables might contain multicollinearity, which will affect the p-values.\n",
        "\n",
        "* We will have to remove multicollinearity from the data to get reliable coefficients and p-values.\n",
        "\n",
        "* There are different ways of detecting (or testing) multi-collinearity, one such way is the Variation Inflation Factor."
      ]
    },
    {
      "cell_type": "markdown",
      "id": "imposed-procedure",
      "metadata": {
        "id": "imposed-procedure"
      },
      "source": [
        "### Additional Information on VIF\n",
        "\n",
        "* **Variance  Inflation  factor**:  Variance  inflation  factors  measure  the  inflation  in  the variances of the regression coefficients estimates due to collinearities that exist among the  predictors.  It  is  a  measure  of  how  much  the  variance  of  the  estimated  regression coefficient βk is “inflated”by  the  existence  of  correlation  among  the  predictor variables in the model. \n",
        "\n",
        "* General Rule of thumb: If VIF is 1 then there is no correlation among the kth predictor and the remaining predictor variables, and  hence  the variance of β̂k is not inflated at all. Whereas if VIF exceeds 5, we say there is moderate VIF and if it is 10 or exceeding 10, it shows signs of high multi-collinearity. But the purpose of the analysis should dictate which threshold to use. "
      ]
    },
    {
      "cell_type": "markdown",
      "id": "alike-powder",
      "metadata": {
        "id": "alike-powder"
      },
      "source": [
        "### Multicollinearity"
      ]
    },
    {
      "cell_type": "code",
      "execution_count": null,
      "id": "average-portal",
      "metadata": {
        "colab": {
          "base_uri": "https://localhost:8080/"
        },
        "id": "average-portal",
        "outputId": "7e1f3ef2-c592-40de-937e-ca4507a86a22"
      },
      "outputs": [
        {
          "output_type": "stream",
          "name": "stdout",
          "text": [
            "Series before feature selection: \n",
            "\n",
            "const                             0.000000\n",
            "age                               1.543408\n",
            "fnlwgt                            1.037670\n",
            "education_no_of_years                  inf\n",
            "working_hours_per_week            1.230480\n",
            "workclass_ Local-gov              3.157727\n",
            "workclass_ Never-worked                inf\n",
            "workclass_ Private                7.932842\n",
            "workclass_ Self-emp-inc           2.238230\n",
            "workclass_ Self-emp-not-inc       3.614046\n",
            "workclass_ State-gov              2.343798\n",
            "workclass_ Without-pay            1.017431\n",
            "workclass_Unknown                      inf\n",
            "education_ 11th                        inf\n",
            "education_ 12th                        inf\n",
            "education_ 1st-4th                     inf\n",
            "education_ 5th-6th                     inf\n",
            "education_ 7th-8th                     inf\n",
            "education_ 9th                         inf\n",
            "education_ Assoc-acdm                  inf\n",
            "education_ Assoc-voc                   inf\n",
            "education_ Bachelors                   inf\n",
            "education_ Doctorate                   inf\n",
            "education_ HS-grad                     inf\n",
            "education_ Masters                     inf\n",
            "education_ Preschool                   inf\n",
            "education_ Prof-school                 inf\n",
            "education_ Some-college                inf\n",
            "marital_status_married            1.984803\n",
            "marital_status_not_married        1.727480\n",
            "occupation_ Armed-Forces          1.012501\n",
            "occupation_ Craft-repair          2.189802\n",
            "occupation_ Exec-managerial       2.096769\n",
            "occupation_ Farming-fishing       1.388777\n",
            "occupation_ Handlers-cleaners     1.445563\n",
            "occupation_ Machine-op-inspct     1.590302\n",
            "occupation_ Other-service         1.798841\n",
            "occupation_ Priv-house-serv       1.059072\n",
            "occupation_ Prof-specialty        2.366622\n",
            "occupation_ Protective-serv       1.272686\n",
            "occupation_ Sales                 1.923069\n",
            "occupation_ Tech-support          1.242822\n",
            "occupation_ Transport-moving      1.526982\n",
            "occupation_Unknown                     inf\n",
            "race_ Asian-Pac-Islander          5.279284\n",
            "race_ Black                       9.974292\n",
            "race_ Other                       1.881308\n",
            "race_ White                      13.203171\n",
            "sex_ Male                         1.517932\n",
            "native_country_europe             2.471834\n",
            "native_country_north_america      5.454332\n",
            "native_country_other              2.430084\n",
            "native_country_south_america      1.322060\n",
            "dtype: float64\n",
            "\n"
          ]
        }
      ],
      "source": [
        "vif_series = pd.Series(\n",
        "    [variance_inflation_factor(X_train.values, i) for i in range(X_train.shape[1])],\n",
        "    index=X_train.columns,\n",
        "    dtype=float,\n",
        ")\n",
        "print(\"Series before feature selection: \\n\\n{}\\n\".format(vif_series))"
      ]
    },
    {
      "cell_type": "markdown",
      "id": "optical-michael",
      "metadata": {
        "id": "optical-michael"
      },
      "source": [
        "* As we saw in our earlier analysis that wherever workclass has ? or unknown values occupation is also ? or unknown.\n",
        "* The high correlation between these variables has been highlighted in the VIF values as well.\n",
        "* We will drop occupation_Unknown as we get the same information from workclass_Unknown.\n",
        "* education_no_of_years, education, and some categorical levels of Occupation, Workclass, relationship, native_country, and race also exhibit high multicollinearity."
      ]
    },
    {
      "cell_type": "markdown",
      "id": "julian-territory",
      "metadata": {
        "id": "julian-territory"
      },
      "source": [
        "#### Removing occupation_Unknown"
      ]
    },
    {
      "cell_type": "code",
      "execution_count": null,
      "id": "reverse-parker",
      "metadata": {
        "colab": {
          "base_uri": "https://localhost:8080/"
        },
        "id": "reverse-parker",
        "outputId": "ab41ede0-6eea-45e8-ef6a-8ac9a1086d2d"
      },
      "outputs": [
        {
          "output_type": "stream",
          "name": "stdout",
          "text": [
            "Series before feature selection: \n",
            "\n",
            "const                             0.000000\n",
            "age                               1.543408\n",
            "fnlwgt                            1.037670\n",
            "education_no_of_years                  inf\n",
            "working_hours_per_week            1.230480\n",
            "workclass_ Local-gov              3.157727\n",
            "workclass_ Never-worked           1.010896\n",
            "workclass_ Private                7.932842\n",
            "workclass_ Self-emp-inc           2.238230\n",
            "workclass_ Self-emp-not-inc       3.614046\n",
            "workclass_ State-gov              2.343798\n",
            "workclass_ Without-pay            1.017431\n",
            "workclass_Unknown                 3.105519\n",
            "education_ 11th                        inf\n",
            "education_ 12th                        inf\n",
            "education_ 1st-4th                     inf\n",
            "education_ 5th-6th                     inf\n",
            "education_ 7th-8th                     inf\n",
            "education_ 9th                         inf\n",
            "education_ Assoc-acdm                  inf\n",
            "education_ Assoc-voc                   inf\n",
            "education_ Bachelors                   inf\n",
            "education_ Doctorate                   inf\n",
            "education_ HS-grad                     inf\n",
            "education_ Masters                     inf\n",
            "education_ Preschool                   inf\n",
            "education_ Prof-school                 inf\n",
            "education_ Some-college                inf\n",
            "marital_status_married            1.984803\n",
            "marital_status_not_married        1.727480\n",
            "occupation_ Armed-Forces          1.012501\n",
            "occupation_ Craft-repair          2.189802\n",
            "occupation_ Exec-managerial       2.096769\n",
            "occupation_ Farming-fishing       1.388777\n",
            "occupation_ Handlers-cleaners     1.445563\n",
            "occupation_ Machine-op-inspct     1.590302\n",
            "occupation_ Other-service         1.798841\n",
            "occupation_ Priv-house-serv       1.059072\n",
            "occupation_ Prof-specialty        2.366622\n",
            "occupation_ Protective-serv       1.272686\n",
            "occupation_ Sales                 1.923069\n",
            "occupation_ Tech-support          1.242822\n",
            "occupation_ Transport-moving      1.526982\n",
            "race_ Asian-Pac-Islander          5.279284\n",
            "race_ Black                       9.974292\n",
            "race_ Other                       1.881308\n",
            "race_ White                      13.203171\n",
            "sex_ Male                         1.517932\n",
            "native_country_europe             2.471834\n",
            "native_country_north_america      5.454332\n",
            "native_country_other              2.430084\n",
            "native_country_south_america      1.322060\n",
            "dtype: float64\n",
            "\n"
          ]
        }
      ],
      "source": [
        "X_train1 = X_train.drop(\"occupation_Unknown\", axis=1)\n",
        "vif_series2 = pd.Series(\n",
        "    [variance_inflation_factor(X_train1.values, i) for i in range(X_train1.shape[1])],\n",
        "    index=X_train1.columns,\n",
        ")\n",
        "print(\"Series before feature selection: \\n\\n{}\\n\".format(vif_series2))"
      ]
    },
    {
      "cell_type": "markdown",
      "id": "regulated-fleet",
      "metadata": {
        "id": "regulated-fleet"
      },
      "source": [
        "* Removal of occupation_Unknown has fixed multicollinearity in workclass column.\n",
        "* education_no_of_years and education also capture similar information and hence it is understandable that they have high VIF values.\n",
        "* Now dropping education_no_of_years, and education to see which variable has a significant impact on the model's performance."
      ]
    },
    {
      "cell_type": "markdown",
      "id": "civic-democracy",
      "metadata": {
        "id": "civic-democracy"
      },
      "source": [
        "#### Dropping education_no_of_years"
      ]
    },
    {
      "cell_type": "code",
      "execution_count": null,
      "id": "speaking-sunglasses",
      "metadata": {
        "colab": {
          "base_uri": "https://localhost:8080/"
        },
        "id": "speaking-sunglasses",
        "outputId": "44ce0c31-d755-4fb9-bfa7-4bd4e3f6c850"
      },
      "outputs": [
        {
          "output_type": "stream",
          "name": "stdout",
          "text": [
            "Series before feature selection: \n",
            "\n",
            "const                            327.504107\n",
            "age                                1.543408\n",
            "fnlwgt                             1.037670\n",
            "working_hours_per_week             1.230480\n",
            "workclass_ Local-gov               3.157727\n",
            "workclass_ Never-worked            1.010896\n",
            "workclass_ Private                 7.932842\n",
            "workclass_ Self-emp-inc            2.238230\n",
            "workclass_ Self-emp-not-inc        3.614046\n",
            "workclass_ State-gov               2.343798\n",
            "workclass_ Without-pay             1.017431\n",
            "workclass_Unknown                  3.105519\n",
            "education_ 11th                    2.207699\n",
            "education_ 12th                    1.423685\n",
            "education_ 1st-4th                 1.178784\n",
            "education_ 5th-6th                 1.346636\n",
            "education_ 7th-8th                 1.662528\n",
            "education_ 9th                     1.548277\n",
            "education_ Assoc-acdm              2.134350\n",
            "education_ Assoc-voc               2.456743\n",
            "education_ Bachelors               6.123671\n",
            "education_ Doctorate               1.584916\n",
            "education_ HS-grad                 8.371239\n",
            "education_ Masters                 3.065246\n",
            "education_ Preschool               1.064171\n",
            "education_ Prof-school             1.833853\n",
            "education_ Some-college            6.990001\n",
            "marital_status_married             1.984803\n",
            "marital_status_not_married         1.727480\n",
            "occupation_ Armed-Forces           1.012501\n",
            "occupation_ Craft-repair           2.189802\n",
            "occupation_ Exec-managerial        2.096769\n",
            "occupation_ Farming-fishing        1.388777\n",
            "occupation_ Handlers-cleaners      1.445563\n",
            "occupation_ Machine-op-inspct      1.590302\n",
            "occupation_ Other-service          1.798841\n",
            "occupation_ Priv-house-serv        1.059072\n",
            "occupation_ Prof-specialty         2.366622\n",
            "occupation_ Protective-serv        1.272686\n",
            "occupation_ Sales                  1.923069\n",
            "occupation_ Tech-support           1.242822\n",
            "occupation_ Transport-moving       1.526982\n",
            "race_ Asian-Pac-Islander           5.279284\n",
            "race_ Black                        9.974292\n",
            "race_ Other                        1.881308\n",
            "race_ White                       13.203171\n",
            "sex_ Male                          1.517932\n",
            "native_country_europe              2.471834\n",
            "native_country_north_america       5.454332\n",
            "native_country_other               2.430084\n",
            "native_country_south_america       1.322060\n",
            "dtype: float64\n",
            "\n"
          ]
        }
      ],
      "source": [
        "X_train2 = X_train1.drop(\"education_no_of_years\", axis=1)\n",
        "vif_series3 = pd.Series(\n",
        "    [variance_inflation_factor(X_train2.values, i) for i in range(X_train2.shape[1])],\n",
        "    index=X_train2.columns,\n",
        ")\n",
        "print(\"Series before feature selection: \\n\\n{}\\n\".format(vif_series3))"
      ]
    },
    {
      "cell_type": "markdown",
      "id": "legal-demonstration",
      "metadata": {
        "id": "legal-demonstration"
      },
      "source": [
        "* Dropping education_no_of_years fixes the multicollinearity in education column."
      ]
    },
    {
      "cell_type": "code",
      "execution_count": null,
      "id": "available-entity",
      "metadata": {
        "colab": {
          "base_uri": "https://localhost:8080/"
        },
        "id": "available-entity",
        "outputId": "4a5f1f6d-554f-4f8c-8388-53527eeb83ef"
      },
      "outputs": [
        {
          "output_type": "stream",
          "name": "stdout",
          "text": [
            "Warning: Maximum number of iterations has been exceeded.\n",
            "         Current function value: 0.355823\n",
            "         Iterations: 35\n",
            "Training performance:\n"
          ]
        },
        {
          "output_type": "execute_result",
          "data": {
            "text/plain": [
              "   Accuracy    Recall  Precision       F1\n",
              "0   0.83345  0.922365    0.86541  0.89298"
            ],
            "text/html": [
              "\n",
              "  <div id=\"df-eb100d2c-7cd9-488d-9e57-9b6ba02f3af3\">\n",
              "    <div class=\"colab-df-container\">\n",
              "      <div>\n",
              "<style scoped>\n",
              "    .dataframe tbody tr th:only-of-type {\n",
              "        vertical-align: middle;\n",
              "    }\n",
              "\n",
              "    .dataframe tbody tr th {\n",
              "        vertical-align: top;\n",
              "    }\n",
              "\n",
              "    .dataframe thead th {\n",
              "        text-align: right;\n",
              "    }\n",
              "</style>\n",
              "<table border=\"1\" class=\"dataframe\">\n",
              "  <thead>\n",
              "    <tr style=\"text-align: right;\">\n",
              "      <th></th>\n",
              "      <th>Accuracy</th>\n",
              "      <th>Recall</th>\n",
              "      <th>Precision</th>\n",
              "      <th>F1</th>\n",
              "    </tr>\n",
              "  </thead>\n",
              "  <tbody>\n",
              "    <tr>\n",
              "      <th>0</th>\n",
              "      <td>0.83345</td>\n",
              "      <td>0.922365</td>\n",
              "      <td>0.86541</td>\n",
              "      <td>0.89298</td>\n",
              "    </tr>\n",
              "  </tbody>\n",
              "</table>\n",
              "</div>\n",
              "      <button class=\"colab-df-convert\" onclick=\"convertToInteractive('df-eb100d2c-7cd9-488d-9e57-9b6ba02f3af3')\"\n",
              "              title=\"Convert this dataframe to an interactive table.\"\n",
              "              style=\"display:none;\">\n",
              "        \n",
              "  <svg xmlns=\"http://www.w3.org/2000/svg\" height=\"24px\"viewBox=\"0 0 24 24\"\n",
              "       width=\"24px\">\n",
              "    <path d=\"M0 0h24v24H0V0z\" fill=\"none\"/>\n",
              "    <path d=\"M18.56 5.44l.94 2.06.94-2.06 2.06-.94-2.06-.94-.94-2.06-.94 2.06-2.06.94zm-11 1L8.5 8.5l.94-2.06 2.06-.94-2.06-.94L8.5 2.5l-.94 2.06-2.06.94zm10 10l.94 2.06.94-2.06 2.06-.94-2.06-.94-.94-2.06-.94 2.06-2.06.94z\"/><path d=\"M17.41 7.96l-1.37-1.37c-.4-.4-.92-.59-1.43-.59-.52 0-1.04.2-1.43.59L10.3 9.45l-7.72 7.72c-.78.78-.78 2.05 0 2.83L4 21.41c.39.39.9.59 1.41.59.51 0 1.02-.2 1.41-.59l7.78-7.78 2.81-2.81c.8-.78.8-2.07 0-2.86zM5.41 20L4 18.59l7.72-7.72 1.47 1.35L5.41 20z\"/>\n",
              "  </svg>\n",
              "      </button>\n",
              "      \n",
              "  <style>\n",
              "    .colab-df-container {\n",
              "      display:flex;\n",
              "      flex-wrap:wrap;\n",
              "      gap: 12px;\n",
              "    }\n",
              "\n",
              "    .colab-df-convert {\n",
              "      background-color: #E8F0FE;\n",
              "      border: none;\n",
              "      border-radius: 50%;\n",
              "      cursor: pointer;\n",
              "      display: none;\n",
              "      fill: #1967D2;\n",
              "      height: 32px;\n",
              "      padding: 0 0 0 0;\n",
              "      width: 32px;\n",
              "    }\n",
              "\n",
              "    .colab-df-convert:hover {\n",
              "      background-color: #E2EBFA;\n",
              "      box-shadow: 0px 1px 2px rgba(60, 64, 67, 0.3), 0px 1px 3px 1px rgba(60, 64, 67, 0.15);\n",
              "      fill: #174EA6;\n",
              "    }\n",
              "\n",
              "    [theme=dark] .colab-df-convert {\n",
              "      background-color: #3B4455;\n",
              "      fill: #D2E3FC;\n",
              "    }\n",
              "\n",
              "    [theme=dark] .colab-df-convert:hover {\n",
              "      background-color: #434B5C;\n",
              "      box-shadow: 0px 1px 3px 1px rgba(0, 0, 0, 0.15);\n",
              "      filter: drop-shadow(0px 1px 2px rgba(0, 0, 0, 0.3));\n",
              "      fill: #FFFFFF;\n",
              "    }\n",
              "  </style>\n",
              "\n",
              "      <script>\n",
              "        const buttonEl =\n",
              "          document.querySelector('#df-eb100d2c-7cd9-488d-9e57-9b6ba02f3af3 button.colab-df-convert');\n",
              "        buttonEl.style.display =\n",
              "          google.colab.kernel.accessAllowed ? 'block' : 'none';\n",
              "\n",
              "        async function convertToInteractive(key) {\n",
              "          const element = document.querySelector('#df-eb100d2c-7cd9-488d-9e57-9b6ba02f3af3');\n",
              "          const dataTable =\n",
              "            await google.colab.kernel.invokeFunction('convertToInteractive',\n",
              "                                                     [key], {});\n",
              "          if (!dataTable) return;\n",
              "\n",
              "          const docLinkHtml = 'Like what you see? Visit the ' +\n",
              "            '<a target=\"_blank\" href=https://colab.research.google.com/notebooks/data_table.ipynb>data table notebook</a>'\n",
              "            + ' to learn more about interactive tables.';\n",
              "          element.innerHTML = '';\n",
              "          dataTable['output_type'] = 'display_data';\n",
              "          await google.colab.output.renderOutput(dataTable, element);\n",
              "          const docLink = document.createElement('div');\n",
              "          docLink.innerHTML = docLinkHtml;\n",
              "          element.appendChild(docLink);\n",
              "        }\n",
              "      </script>\n",
              "    </div>\n",
              "  </div>\n",
              "  "
            ]
          },
          "metadata": {},
          "execution_count": 125
        }
      ],
      "source": [
        "logit2 = sm.Logit(y_train, X_train2.astype(float))\n",
        "lg2 = logit2.fit()\n",
        "\n",
        "print(\"Training performance:\")\n",
        "model_performance_classification_statsmodels(lg2, X_train2, y_train)"
      ]
    },
    {
      "cell_type": "markdown",
      "id": "measured-validity",
      "metadata": {
        "id": "measured-validity"
      },
      "source": [
        "* No significant change in the model performance."
      ]
    },
    {
      "cell_type": "markdown",
      "id": "stylish-ethernet",
      "metadata": {
        "id": "stylish-ethernet"
      },
      "source": [
        "#### Dropping education"
      ]
    },
    {
      "cell_type": "code",
      "execution_count": null,
      "id": "moving-blade",
      "metadata": {
        "colab": {
          "base_uri": "https://localhost:8080/"
        },
        "id": "moving-blade",
        "outputId": "ba351dc9-a2d8-4a12-e74f-d41d05ee002a"
      },
      "outputs": [
        {
          "output_type": "stream",
          "name": "stdout",
          "text": [
            "Series before feature selection: \n",
            "\n",
            "const                            314.852442\n",
            "age                                1.489234\n",
            "fnlwgt                             1.033255\n",
            "education_no_of_years              1.533282\n",
            "working_hours_per_week             1.223754\n",
            "workclass_ Local-gov               3.147016\n",
            "workclass_ Never-worked            1.009753\n",
            "workclass_ Private                 7.925086\n",
            "workclass_ Self-emp-inc            2.229977\n",
            "workclass_ Self-emp-not-inc        3.602889\n",
            "workclass_ State-gov               2.333573\n",
            "workclass_ Without-pay             1.016985\n",
            "workclass_Unknown                  3.090059\n",
            "marital_status_married             1.977821\n",
            "marital_status_not_married         1.719371\n",
            "occupation_ Armed-Forces           1.011604\n",
            "occupation_ Craft-repair           2.178469\n",
            "occupation_ Exec-managerial        2.051804\n",
            "occupation_ Farming-fishing        1.381175\n",
            "occupation_ Handlers-cleaners      1.436503\n",
            "occupation_ Machine-op-inspct      1.576180\n",
            "occupation_ Other-service          1.785909\n",
            "occupation_ Priv-house-serv        1.049459\n",
            "occupation_ Prof-specialty         2.162833\n",
            "occupation_ Protective-serv        1.271458\n",
            "occupation_ Sales                  1.908218\n",
            "occupation_ Tech-support           1.233212\n",
            "occupation_ Transport-moving       1.517587\n",
            "race_ Asian-Pac-Islander           5.272383\n",
            "race_ Black                        9.963851\n",
            "race_ Other                        1.877076\n",
            "race_ White                       13.191494\n",
            "sex_ Male                          1.513342\n",
            "native_country_europe              2.464396\n",
            "native_country_north_america       5.428132\n",
            "native_country_other               2.423269\n",
            "native_country_south_america       1.319961\n",
            "dtype: float64\n",
            "\n"
          ]
        }
      ],
      "source": [
        "X_train3 = X_train1.drop(\n",
        "    [\n",
        "        \"education_ 11th\",\n",
        "        \"education_ 12th\",\n",
        "        \"education_ 1st-4th\",\n",
        "        \"education_ 5th-6th\",\n",
        "        \"education_ 7th-8th\",\n",
        "        \"education_ 9th\",\n",
        "        \"education_ Assoc-acdm\",\n",
        "        \"education_ Assoc-voc\",\n",
        "        \"education_ Bachelors\",\n",
        "        \"education_ Doctorate\",\n",
        "        \"education_ HS-grad\",\n",
        "        \"education_ Masters\",\n",
        "        \"education_ Preschool\",\n",
        "        \"education_ Prof-school\",\n",
        "        \"education_ Some-college\",\n",
        "    ],\n",
        "    axis=1,\n",
        ")\n",
        "vif_series4 = pd.Series(\n",
        "    [variance_inflation_factor(X_train3.values, i) for i in range(X_train3.shape[1])],\n",
        "    index=X_train3.columns,\n",
        ")\n",
        "print(\"Series before feature selection: \\n\\n{}\\n\".format(vif_series4))"
      ]
    },
    {
      "cell_type": "code",
      "execution_count": null,
      "id": "related-subcommittee",
      "metadata": {
        "colab": {
          "base_uri": "https://localhost:8080/"
        },
        "id": "related-subcommittee",
        "outputId": "246c705e-71ab-49ef-9d27-d16bccf01379"
      },
      "outputs": [
        {
          "output_type": "stream",
          "name": "stdout",
          "text": [
            "Warning: Maximum number of iterations has been exceeded.\n",
            "         Current function value: 0.356502\n",
            "         Iterations: 35\n",
            "Training performance:\n"
          ]
        },
        {
          "output_type": "execute_result",
          "data": {
            "text/plain": [
              "   Accuracy    Recall  Precision        F1\n",
              "0  0.832792  0.921549   0.865259  0.892518"
            ],
            "text/html": [
              "\n",
              "  <div id=\"df-7748d4a2-4255-4d67-be6d-9548f9d95959\">\n",
              "    <div class=\"colab-df-container\">\n",
              "      <div>\n",
              "<style scoped>\n",
              "    .dataframe tbody tr th:only-of-type {\n",
              "        vertical-align: middle;\n",
              "    }\n",
              "\n",
              "    .dataframe tbody tr th {\n",
              "        vertical-align: top;\n",
              "    }\n",
              "\n",
              "    .dataframe thead th {\n",
              "        text-align: right;\n",
              "    }\n",
              "</style>\n",
              "<table border=\"1\" class=\"dataframe\">\n",
              "  <thead>\n",
              "    <tr style=\"text-align: right;\">\n",
              "      <th></th>\n",
              "      <th>Accuracy</th>\n",
              "      <th>Recall</th>\n",
              "      <th>Precision</th>\n",
              "      <th>F1</th>\n",
              "    </tr>\n",
              "  </thead>\n",
              "  <tbody>\n",
              "    <tr>\n",
              "      <th>0</th>\n",
              "      <td>0.832792</td>\n",
              "      <td>0.921549</td>\n",
              "      <td>0.865259</td>\n",
              "      <td>0.892518</td>\n",
              "    </tr>\n",
              "  </tbody>\n",
              "</table>\n",
              "</div>\n",
              "      <button class=\"colab-df-convert\" onclick=\"convertToInteractive('df-7748d4a2-4255-4d67-be6d-9548f9d95959')\"\n",
              "              title=\"Convert this dataframe to an interactive table.\"\n",
              "              style=\"display:none;\">\n",
              "        \n",
              "  <svg xmlns=\"http://www.w3.org/2000/svg\" height=\"24px\"viewBox=\"0 0 24 24\"\n",
              "       width=\"24px\">\n",
              "    <path d=\"M0 0h24v24H0V0z\" fill=\"none\"/>\n",
              "    <path d=\"M18.56 5.44l.94 2.06.94-2.06 2.06-.94-2.06-.94-.94-2.06-.94 2.06-2.06.94zm-11 1L8.5 8.5l.94-2.06 2.06-.94-2.06-.94L8.5 2.5l-.94 2.06-2.06.94zm10 10l.94 2.06.94-2.06 2.06-.94-2.06-.94-.94-2.06-.94 2.06-2.06.94z\"/><path d=\"M17.41 7.96l-1.37-1.37c-.4-.4-.92-.59-1.43-.59-.52 0-1.04.2-1.43.59L10.3 9.45l-7.72 7.72c-.78.78-.78 2.05 0 2.83L4 21.41c.39.39.9.59 1.41.59.51 0 1.02-.2 1.41-.59l7.78-7.78 2.81-2.81c.8-.78.8-2.07 0-2.86zM5.41 20L4 18.59l7.72-7.72 1.47 1.35L5.41 20z\"/>\n",
              "  </svg>\n",
              "      </button>\n",
              "      \n",
              "  <style>\n",
              "    .colab-df-container {\n",
              "      display:flex;\n",
              "      flex-wrap:wrap;\n",
              "      gap: 12px;\n",
              "    }\n",
              "\n",
              "    .colab-df-convert {\n",
              "      background-color: #E8F0FE;\n",
              "      border: none;\n",
              "      border-radius: 50%;\n",
              "      cursor: pointer;\n",
              "      display: none;\n",
              "      fill: #1967D2;\n",
              "      height: 32px;\n",
              "      padding: 0 0 0 0;\n",
              "      width: 32px;\n",
              "    }\n",
              "\n",
              "    .colab-df-convert:hover {\n",
              "      background-color: #E2EBFA;\n",
              "      box-shadow: 0px 1px 2px rgba(60, 64, 67, 0.3), 0px 1px 3px 1px rgba(60, 64, 67, 0.15);\n",
              "      fill: #174EA6;\n",
              "    }\n",
              "\n",
              "    [theme=dark] .colab-df-convert {\n",
              "      background-color: #3B4455;\n",
              "      fill: #D2E3FC;\n",
              "    }\n",
              "\n",
              "    [theme=dark] .colab-df-convert:hover {\n",
              "      background-color: #434B5C;\n",
              "      box-shadow: 0px 1px 3px 1px rgba(0, 0, 0, 0.15);\n",
              "      filter: drop-shadow(0px 1px 2px rgba(0, 0, 0, 0.3));\n",
              "      fill: #FFFFFF;\n",
              "    }\n",
              "  </style>\n",
              "\n",
              "      <script>\n",
              "        const buttonEl =\n",
              "          document.querySelector('#df-7748d4a2-4255-4d67-be6d-9548f9d95959 button.colab-df-convert');\n",
              "        buttonEl.style.display =\n",
              "          google.colab.kernel.accessAllowed ? 'block' : 'none';\n",
              "\n",
              "        async function convertToInteractive(key) {\n",
              "          const element = document.querySelector('#df-7748d4a2-4255-4d67-be6d-9548f9d95959');\n",
              "          const dataTable =\n",
              "            await google.colab.kernel.invokeFunction('convertToInteractive',\n",
              "                                                     [key], {});\n",
              "          if (!dataTable) return;\n",
              "\n",
              "          const docLinkHtml = 'Like what you see? Visit the ' +\n",
              "            '<a target=\"_blank\" href=https://colab.research.google.com/notebooks/data_table.ipynb>data table notebook</a>'\n",
              "            + ' to learn more about interactive tables.';\n",
              "          element.innerHTML = '';\n",
              "          dataTable['output_type'] = 'display_data';\n",
              "          await google.colab.output.renderOutput(dataTable, element);\n",
              "          const docLink = document.createElement('div');\n",
              "          docLink.innerHTML = docLinkHtml;\n",
              "          element.appendChild(docLink);\n",
              "        }\n",
              "      </script>\n",
              "    </div>\n",
              "  </div>\n",
              "  "
            ]
          },
          "metadata": {},
          "execution_count": 127
        }
      ],
      "source": [
        "logit3 = sm.Logit(y_train, X_train3.astype(float))\n",
        "lg3 = logit3.fit()\n",
        "\n",
        "print(\"Training performance:\")\n",
        "model_performance_classification_statsmodels(lg3, X_train3, y_train)"
      ]
    },
    {
      "cell_type": "markdown",
      "id": "painful-property",
      "metadata": {
        "id": "painful-property"
      },
      "source": [
        "* No significant change in the model performance."
      ]
    },
    {
      "cell_type": "markdown",
      "id": "terminal-helen",
      "metadata": {
        "id": "terminal-helen"
      },
      "source": [
        "**Observations:**\n",
        "1. Dropping education_no_of_years and education doesn't have a significant impact on the model performance.\n",
        "2. We can choose any model to proceed to the next steps.\n",
        "3. Here, we will go with the lg2 model - where we dropped education_no_of_years as the education column captures more specific information.\n",
        "4. Some of the categorical levels of a variable have VIF>5 which can simply be ignored."
      ]
    },
    {
      "cell_type": "markdown",
      "id": "satisfied-unknown",
      "metadata": {
        "id": "satisfied-unknown"
      },
      "source": [
        "#### Summary of the model without education_no_of_years"
      ]
    },
    {
      "cell_type": "code",
      "execution_count": null,
      "id": "bridal-genetics",
      "metadata": {
        "colab": {
          "base_uri": "https://localhost:8080/"
        },
        "id": "bridal-genetics",
        "outputId": "1957818d-e99a-47d1-90ab-7ba239873108"
      },
      "outputs": [
        {
          "output_type": "stream",
          "name": "stdout",
          "text": [
            "                           Logit Regression Results                           \n",
            "==============================================================================\n",
            "Dep. Variable:                 salary   No. Observations:                22792\n",
            "Model:                          Logit   Df Residuals:                    22741\n",
            "Method:                           MLE   Df Model:                           50\n",
            "Date:                Tue, 12 Jul 2022   Pseudo R-squ.:                  0.3631\n",
            "Time:                        16:20:19   Log-Likelihood:                -8109.9\n",
            "converged:                      False   LL-Null:                       -12733.\n",
            "Covariance Type:            nonrobust   LLR p-value:                     0.000\n",
            "=================================================================================================\n",
            "                                    coef    std err          z      P>|z|      [0.025      0.975]\n",
            "-------------------------------------------------------------------------------------------------\n",
            "const                             8.6446      0.404     21.422      0.000       7.854       9.436\n",
            "age                              -0.0296      0.002    -16.233      0.000      -0.033      -0.026\n",
            "fnlwgt                        -8.962e-07   2.11e-07     -4.244      0.000   -1.31e-06   -4.82e-07\n",
            "working_hours_per_week           -0.0676      0.003    -19.417      0.000      -0.074      -0.061\n",
            "workclass_ Local-gov              0.7003      0.127      5.529      0.000       0.452       0.949\n",
            "workclass_ Never-worked          15.2366   3027.024      0.005      0.996   -5917.621    5948.094\n",
            "workclass_ Private                0.4649      0.105      4.424      0.000       0.259       0.671\n",
            "workclass_ Self-emp-inc           0.1071      0.138      0.776      0.438      -0.163       0.377\n",
            "workclass_ Self-emp-not-inc       0.9197      0.123      7.485      0.000       0.679       1.160\n",
            "workclass_ State-gov              0.6757      0.140      4.843      0.000       0.402       0.949\n",
            "workclass_ Without-pay           19.9396   1.01e+04      0.002      0.998   -1.98e+04    1.99e+04\n",
            "workclass_Unknown                 1.1909      0.158      7.556      0.000       0.882       1.500\n",
            "education_ 11th                  -0.0390      0.243     -0.161      0.872      -0.515       0.437\n",
            "education_ 12th                  -0.5146      0.292     -1.762      0.078      -1.087       0.058\n",
            "education_ 1st-4th                0.7946      0.556      1.428      0.153      -0.296       1.885\n",
            "education_ 5th-6th                0.4751      0.353      1.345      0.179      -0.217       1.167\n",
            "education_ 7th-8th                0.5579      0.268      2.085      0.037       0.034       1.082\n",
            "education_ 9th                    0.4786      0.306      1.566      0.117      -0.120       1.078\n",
            "education_ Assoc-acdm            -1.3774      0.201     -6.856      0.000      -1.771      -0.984\n",
            "education_ Assoc-voc             -1.4178      0.192     -7.388      0.000      -1.794      -1.042\n",
            "education_ Bachelors             -2.0289      0.179    -11.325      0.000      -2.380      -1.678\n",
            "education_ Doctorate             -2.9347      0.240    -12.243      0.000      -3.405      -2.465\n",
            "education_ HS-grad               -0.8710      0.175     -4.988      0.000      -1.213      -0.529\n",
            "education_ Masters               -2.4216      0.191    -12.707      0.000      -2.795      -2.048\n",
            "education_ Preschool             14.7471   1084.422      0.014      0.989   -2110.680    2140.174\n",
            "education_ Prof-school           -3.0793      0.224    -13.758      0.000      -3.518      -2.641\n",
            "education_ Some-college          -1.1969      0.177     -6.755      0.000      -1.544      -0.850\n",
            "marital_status_married           -2.5557      0.069    -37.298      0.000      -2.690      -2.421\n",
            "marital_status_not_married       -0.4237      0.083     -5.104      0.000      -0.586      -0.261\n",
            "occupation_ Armed-Forces          0.9057      1.334      0.679      0.497      -1.708       3.520\n",
            "occupation_ Craft-repair         -0.0982      0.089     -1.109      0.267      -0.272       0.075\n",
            "occupation_ Exec-managerial      -0.7609      0.085     -8.939      0.000      -0.928      -0.594\n",
            "occupation_ Farming-fishing       0.9681      0.155      6.234      0.000       0.664       1.272\n",
            "occupation_ Handlers-cleaners     0.7093      0.158      4.476      0.000       0.399       1.020\n",
            "occupation_ Machine-op-inspct     0.3001      0.114      2.636      0.008       0.077       0.523\n",
            "occupation_ Other-service         0.9223      0.132      6.992      0.000       0.664       1.181\n",
            "occupation_ Priv-house-serv       2.2452      1.086      2.068      0.039       0.117       4.373\n",
            "occupation_ Prof-specialty       -0.4799      0.090     -5.333      0.000      -0.656      -0.304\n",
            "occupation_ Protective-serv      -0.5111      0.141     -3.632      0.000      -0.787      -0.235\n",
            "occupation_ Sales                -0.1993      0.091     -2.189      0.029      -0.378      -0.021\n",
            "occupation_ Tech-support         -0.5768      0.124     -4.638      0.000      -0.821      -0.333\n",
            "occupation_ Transport-moving      0.1702      0.112      1.524      0.128      -0.049       0.389\n",
            "race_ Asian-Pac-Islander         -0.4247      0.282     -1.506      0.132      -0.977       0.128\n",
            "race_ Black                      -0.3083      0.248     -1.244      0.214      -0.794       0.177\n",
            "race_ Other                      -0.0396      0.371     -0.107      0.915      -0.766       0.687\n",
            "race_ White                      -0.4326      0.235     -1.839      0.066      -0.894       0.029\n",
            "sex_ Male                        -0.0502      0.058     -0.871      0.384      -0.163       0.063\n",
            "native_country_europe            -0.3432      0.236     -1.454      0.146      -0.806       0.119\n",
            "native_country_north_america     -0.2124      0.188     -1.127      0.260      -0.582       0.157\n",
            "native_country_other              0.1241      0.212      0.585      0.559      -0.292       0.540\n",
            "native_country_south_america      1.8671      0.690      2.706      0.007       0.515       3.219\n",
            "=================================================================================================\n"
          ]
        }
      ],
      "source": [
        "print(lg2.summary())"
      ]
    },
    {
      "cell_type": "markdown",
      "id": "mobile-parts",
      "metadata": {
        "id": "mobile-parts"
      },
      "source": [
        "* In the case of 'race' all the attributes have a high p-value which means it is not significant therefore we can drop the complete variable.\n",
        "* For other attributes present in the data, the p-values are high only for few dummy variables and since only one (or some) of the categorical levels have a high p-value we will drop them iteratively as sometimes p-values change after dropping a variable. So, we'll not drop all variables at once.\n",
        "\n",
        "* Instead, we will do the following repeatedly using a loop:\n",
        "  - Build a model, check the p-values of the variables, and drop the column with the highest p-value.\n",
        "  - Create a new model without the dropped feature, check the p-values of the variables, and drop the column with the highest p-value.\n",
        "  - Repeat the above two steps till there are no columns with p-value > 0.05.\n",
        "\n",
        "\n",
        "Note: The above process can also be done manually by picking one variable at a time that has a high p-value, dropping it, and building a model again. But that might be a little tedious and using a loop will be more efficient."
      ]
    },
    {
      "cell_type": "markdown",
      "id": "compatible-myrtle",
      "metadata": {
        "id": "compatible-myrtle"
      },
      "source": [
        "**Dropping Race**"
      ]
    },
    {
      "cell_type": "code",
      "execution_count": null,
      "id": "blocked-white",
      "metadata": {
        "colab": {
          "base_uri": "https://localhost:8080/"
        },
        "id": "blocked-white",
        "outputId": "705220bd-7bee-47c2-ec8c-e1aaace36428"
      },
      "outputs": [
        {
          "output_type": "stream",
          "name": "stdout",
          "text": [
            "Warning: Maximum number of iterations has been exceeded.\n",
            "         Current function value: 0.355988\n",
            "         Iterations: 35\n",
            "                           Logit Regression Results                           \n",
            "==============================================================================\n",
            "Dep. Variable:                 salary   No. Observations:                22792\n",
            "Model:                          Logit   Df Residuals:                    22745\n",
            "Method:                           MLE   Df Model:                           46\n",
            "Date:                Tue, 12 Jul 2022   Pseudo R-squ.:                  0.3628\n",
            "Time:                        16:20:20   Log-Likelihood:                -8113.7\n",
            "converged:                      False   LL-Null:                       -12733.\n",
            "Covariance Type:            nonrobust   LLR p-value:                     0.000\n",
            "=================================================================================================\n",
            "                                    coef    std err          z      P>|z|      [0.025      0.975]\n",
            "-------------------------------------------------------------------------------------------------\n",
            "const                             8.2711      0.303     27.327      0.000       7.678       8.864\n",
            "age                              -0.0297      0.002    -16.335      0.000      -0.033      -0.026\n",
            "fnlwgt                        -8.797e-07   2.09e-07     -4.200      0.000   -1.29e-06   -4.69e-07\n",
            "working_hours_per_week           -0.0679      0.003    -19.515      0.000      -0.075      -0.061\n",
            "workclass_ Local-gov              0.6915      0.126      5.470      0.000       0.444       0.939\n",
            "workclass_ Never-worked          14.7856   2318.091      0.006      0.995   -4528.589    4558.160\n",
            "workclass_ Private                0.4490      0.105      4.291      0.000       0.244       0.654\n",
            "workclass_ Self-emp-inc           0.0873      0.138      0.634      0.526      -0.182       0.357\n",
            "workclass_ Self-emp-not-inc       0.9032      0.122      7.375      0.000       0.663       1.143\n",
            "workclass_ State-gov              0.6635      0.139      4.763      0.000       0.391       0.937\n",
            "workclass_ Without-pay           17.5751   3144.055      0.006      0.996   -6144.660    6179.810\n",
            "workclass_Unknown                 1.1790      0.157      7.499      0.000       0.871       1.487\n",
            "education_ 11th                  -0.0461      0.243     -0.190      0.850      -0.522       0.430\n",
            "education_ 12th                  -0.5041      0.292     -1.728      0.084      -1.076       0.068\n",
            "education_ 1st-4th                0.8112      0.556      1.458      0.145      -0.279       1.902\n",
            "education_ 5th-6th                0.4764      0.353      1.349      0.177      -0.216       1.168\n",
            "education_ 7th-8th                0.5607      0.267      2.097      0.036       0.037       1.085\n",
            "education_ 9th                    0.4786      0.305      1.566      0.117      -0.120       1.077\n",
            "education_ Assoc-acdm            -1.3819      0.201     -6.884      0.000      -1.775      -0.988\n",
            "education_ Assoc-voc             -1.4236      0.192     -7.424      0.000      -1.799      -1.048\n",
            "education_ Bachelors             -2.0372      0.179    -11.382      0.000      -2.388      -1.686\n",
            "education_ Doctorate             -2.9427      0.239    -12.288      0.000      -3.412      -2.473\n",
            "education_ HS-grad               -0.8749      0.174     -5.015      0.000      -1.217      -0.533\n",
            "education_ Masters               -2.4326      0.190    -12.775      0.000      -2.806      -2.059\n",
            "education_ Preschool             16.0380   2007.441      0.008      0.994   -3918.474    3950.550\n",
            "education_ Prof-school           -3.0871      0.224    -13.800      0.000      -3.526      -2.649\n",
            "education_ Some-college          -1.1994      0.177     -6.774      0.000      -1.546      -0.852\n",
            "marital_status_married           -2.5582      0.068    -37.374      0.000      -2.692      -2.424\n",
            "marital_status_not_married       -0.4206      0.083     -5.071      0.000      -0.583      -0.258\n",
            "occupation_ Armed-Forces          0.9899      1.313      0.754      0.451      -1.584       3.563\n",
            "occupation_ Craft-repair         -0.1004      0.089     -1.135      0.256      -0.274       0.073\n",
            "occupation_ Exec-managerial      -0.7616      0.085     -8.952      0.000      -0.928      -0.595\n",
            "occupation_ Farming-fishing       0.9670      0.155      6.231      0.000       0.663       1.271\n",
            "occupation_ Handlers-cleaners     0.7155      0.158      4.518      0.000       0.405       1.026\n",
            "occupation_ Machine-op-inspct     0.3057      0.114      2.687      0.007       0.083       0.529\n",
            "occupation_ Other-service         0.9323      0.132      7.075      0.000       0.674       1.191\n",
            "occupation_ Priv-house-serv       2.2477      1.086      2.070      0.038       0.120       4.376\n",
            "occupation_ Prof-specialty       -0.4806      0.090     -5.348      0.000      -0.657      -0.304\n",
            "occupation_ Protective-serv      -0.5057      0.141     -3.597      0.000      -0.781      -0.230\n",
            "occupation_ Sales                -0.2008      0.091     -2.206      0.027      -0.379      -0.022\n",
            "occupation_ Tech-support         -0.5819      0.124     -4.681      0.000      -0.825      -0.338\n",
            "occupation_ Transport-moving      0.1794      0.112      1.608      0.108      -0.039       0.398\n",
            "sex_ Male                        -0.0561      0.058     -0.974      0.330      -0.169       0.057\n",
            "native_country_europe            -0.3574      0.196     -1.819      0.069      -0.742       0.028\n",
            "native_country_north_america     -0.2169      0.135     -1.607      0.108      -0.481       0.048\n",
            "native_country_other              0.1357      0.193      0.704      0.481      -0.242       0.514\n",
            "native_country_south_america      1.8882      0.674      2.803      0.005       0.568       3.209\n",
            "=================================================================================================\n"
          ]
        }
      ],
      "source": [
        "X_train4 = X_train2.drop(\n",
        "    [\"race_ Asian-Pac-Islander\", \"race_ Black\", \"race_ Other\", \"race_ White\"], axis=1\n",
        ")\n",
        "\n",
        "logit4 = sm.Logit(y_train, X_train4.astype(float))\n",
        "lg4 = logit4.fit()\n",
        "\n",
        "print(lg4.summary())"
      ]
    },
    {
      "cell_type": "code",
      "execution_count": null,
      "id": "alpha-living",
      "metadata": {
        "colab": {
          "base_uri": "https://localhost:8080/"
        },
        "id": "alpha-living",
        "outputId": "84a2eed1-96ce-49d1-8e32-d4bff8f7972b"
      },
      "outputs": [
        {
          "output_type": "stream",
          "name": "stdout",
          "text": [
            "['const', 'age', 'fnlwgt', 'working_hours_per_week', 'workclass_ Local-gov', 'workclass_ Private', 'workclass_ Self-emp-not-inc', 'workclass_ State-gov', 'workclass_Unknown', 'education_ 12th', 'education_ Assoc-acdm', 'education_ Assoc-voc', 'education_ Bachelors', 'education_ Doctorate', 'education_ HS-grad', 'education_ Masters', 'education_ Prof-school', 'education_ Some-college', 'marital_status_married', 'marital_status_not_married', 'occupation_ Exec-managerial', 'occupation_ Farming-fishing', 'occupation_ Handlers-cleaners', 'occupation_ Machine-op-inspct', 'occupation_ Other-service', 'occupation_ Priv-house-serv', 'occupation_ Prof-specialty', 'occupation_ Protective-serv', 'occupation_ Tech-support', 'occupation_ Transport-moving', 'native_country_europe', 'native_country_north_america', 'native_country_south_america']\n"
          ]
        }
      ],
      "source": [
        "# running a loop to drop variables with high p-value\n",
        "\n",
        "# initial list of columns\n",
        "cols = X_train4.columns.tolist()\n",
        "\n",
        "# setting an initial max p-value\n",
        "max_p_value = 1\n",
        "\n",
        "while len(cols) > 0:\n",
        "    # defining the train set\n",
        "    X_train_aux = X_train4[cols]\n",
        "\n",
        "    # fitting the model\n",
        "    model = sm.Logit(y_train, X_train_aux).fit(disp=False)\n",
        "\n",
        "    # getting the p-values and the maximum p-value\n",
        "    p_values = model.pvalues\n",
        "    max_p_value = max(p_values)\n",
        "\n",
        "    # name of the variable with maximum p-value\n",
        "    feature_with_p_max = p_values.idxmax()\n",
        "\n",
        "    if max_p_value > 0.05:\n",
        "        cols.remove(feature_with_p_max)\n",
        "    else:\n",
        "        break\n",
        "\n",
        "selected_features = cols\n",
        "print(selected_features)"
      ]
    },
    {
      "cell_type": "code",
      "execution_count": null,
      "id": "retired-grant",
      "metadata": {
        "id": "retired-grant"
      },
      "outputs": [],
      "source": [
        "X_train5 = X_train4[selected_features]"
      ]
    },
    {
      "cell_type": "code",
      "execution_count": null,
      "id": "complete-amsterdam",
      "metadata": {
        "colab": {
          "base_uri": "https://localhost:8080/"
        },
        "id": "complete-amsterdam",
        "outputId": "cc39a951-9086-45f5-ea75-b256dfa87a1c"
      },
      "outputs": [
        {
          "output_type": "stream",
          "name": "stdout",
          "text": [
            "                           Logit Regression Results                           \n",
            "==============================================================================\n",
            "Dep. Variable:                 salary   No. Observations:                22792\n",
            "Model:                          Logit   Df Residuals:                    22759\n",
            "Method:                           MLE   Df Model:                           32\n",
            "Date:                Tue, 12 Jul 2022   Pseudo R-squ.:                  0.3617\n",
            "Time:                        16:20:24   Log-Likelihood:                -8127.6\n",
            "converged:                       True   LL-Null:                       -12733.\n",
            "Covariance Type:            nonrobust   LLR p-value:                     0.000\n",
            "=================================================================================================\n",
            "                                    coef    std err          z      P>|z|      [0.025      0.975]\n",
            "-------------------------------------------------------------------------------------------------\n",
            "const                             8.5825      0.243     35.354      0.000       8.107       9.058\n",
            "age                              -0.0296      0.002    -16.393      0.000      -0.033      -0.026\n",
            "fnlwgt                        -8.683e-07   2.09e-07     -4.154      0.000   -1.28e-06   -4.59e-07\n",
            "working_hours_per_week           -0.0692      0.003    -20.417      0.000      -0.076      -0.063\n",
            "workclass_ Local-gov              0.6452      0.102      6.309      0.000       0.445       0.846\n",
            "workclass_ Private                0.3858      0.072      5.381      0.000       0.245       0.526\n",
            "workclass_ Self-emp-not-inc       0.8238      0.093      8.867      0.000       0.642       1.006\n",
            "workclass_ State-gov              0.6150      0.118      5.213      0.000       0.384       0.846\n",
            "workclass_Unknown                 1.2324      0.132      9.361      0.000       0.974       1.490\n",
            "education_ 12th                  -0.7431      0.253     -2.931      0.003      -1.240      -0.246\n",
            "education_ Assoc-acdm            -1.6358      0.139    -11.777      0.000      -1.908      -1.364\n",
            "education_ Assoc-voc             -1.6824      0.126    -13.333      0.000      -1.930      -1.435\n",
            "education_ Bachelors             -2.3098      0.105    -22.052      0.000      -2.515      -2.104\n",
            "education_ Doctorate             -3.2188      0.190    -16.914      0.000      -3.592      -2.846\n",
            "education_ HS-grad               -1.1324      0.098    -11.546      0.000      -1.325      -0.940\n",
            "education_ Masters               -2.7062      0.123    -21.948      0.000      -2.948      -2.465\n",
            "education_ Prof-school           -3.3590      0.170    -19.748      0.000      -3.692      -3.026\n",
            "education_ Some-college          -1.4587      0.102    -14.263      0.000      -1.659      -1.258\n",
            "marital_status_married           -2.5813      0.066    -38.845      0.000      -2.712      -2.451\n",
            "marital_status_not_married       -0.4148      0.082     -5.038      0.000      -0.576      -0.253\n",
            "occupation_ Exec-managerial      -0.6458      0.059    -10.987      0.000      -0.761      -0.531\n",
            "occupation_ Farming-fishing       1.1126      0.139      8.006      0.000       0.840       1.385\n",
            "occupation_ Handlers-cleaners     0.8184      0.145      5.661      0.000       0.535       1.102\n",
            "occupation_ Machine-op-inspct     0.4184      0.094      4.460      0.000       0.235       0.602\n",
            "occupation_ Other-service         1.0542      0.117      8.993      0.000       0.824       1.284\n",
            "occupation_ Priv-house-serv       2.3978      1.082      2.217      0.027       0.278       4.518\n",
            "occupation_ Prof-specialty       -0.3629      0.068     -5.326      0.000      -0.496      -0.229\n",
            "occupation_ Protective-serv      -0.4111      0.126     -3.252      0.001      -0.659      -0.163\n",
            "occupation_ Tech-support         -0.4772      0.109     -4.366      0.000      -0.692      -0.263\n",
            "occupation_ Transport-moving      0.2802      0.090      3.109      0.002       0.104       0.457\n",
            "native_country_europe            -0.4221      0.173     -2.436      0.015      -0.762      -0.083\n",
            "native_country_north_america     -0.2946      0.099     -2.977      0.003      -0.488      -0.101\n",
            "native_country_south_america      1.8115      0.665      2.723      0.006       0.508       3.115\n",
            "=================================================================================================\n"
          ]
        }
      ],
      "source": [
        "logit5 = sm.Logit(y_train, X_train5.astype(float))\n",
        "lg5 = logit5.fit(disp=False)\n",
        "\n",
        "print(lg5.summary())"
      ]
    },
    {
      "cell_type": "markdown",
      "id": "capable-mystery",
      "metadata": {
        "id": "capable-mystery"
      },
      "source": [
        "**Now no feature has p-value greater than 0.05, so we'll consider the features in *X_train5* as the final ones and *lg5* as final model.**"
      ]
    },
    {
      "cell_type": "markdown",
      "id": "minus-above",
      "metadata": {
        "id": "minus-above"
      },
      "source": [
        "### Coefficient interpretations\n",
        "\n",
        "* Coefficient of some levels of education, workclass, and native country are positive an increase in these will lead to increase in chances of a person having <=50K salary. \n",
        "\n",
        "* Coefficient of age,fnlwgt,marital_status, working_hours_per_week,some levels of education, workclass, and native country are negative increase in these will lead to decrease in chances of a person having <=50K salary."
      ]
    },
    {
      "cell_type": "markdown",
      "id": "impressed-arrangement",
      "metadata": {
        "id": "impressed-arrangement"
      },
      "source": [
        "###  Converting coefficients to odds\n",
        "* The coefficients of the logistic regression model are in terms of log(odd), to find the odds we have to take the exponential of the coefficients. \n",
        "* Therefore, **odds =  exp(b)**\n",
        "* The percentage change in odds is given as **odds = (exp(b) - 1) * 100**"
      ]
    },
    {
      "cell_type": "code",
      "execution_count": null,
      "id": "intermediate-empire",
      "metadata": {
        "colab": {
          "base_uri": "https://localhost:8080/"
        },
        "id": "intermediate-empire",
        "outputId": "f25c5719-7874-45e0-a8a5-5f4428124aaa"
      },
      "outputs": [
        {
          "output_type": "execute_result",
          "data": {
            "text/plain": [
              "                     const       age    fnlwgt  working_hours_per_week  \\\n",
              "Odds           5337.458512  0.970816  0.999999                0.933132   \n",
              "Change_odd%  533645.851184 -2.918407 -0.000087               -6.686808   \n",
              "\n",
              "             workclass_ Local-gov  workclass_ Private  \\\n",
              "Odds                     1.906395            1.470755   \n",
              "Change_odd%             90.639546           47.075489   \n",
              "\n",
              "             workclass_ Self-emp-not-inc  workclass_ State-gov  \\\n",
              "Odds                            2.279060              1.849613   \n",
              "Change_odd%                   127.906015             84.961261   \n",
              "\n",
              "             workclass_Unknown  education_ 12th  education_ Assoc-acdm  \\\n",
              "Odds                  3.429522         0.475635               0.194804   \n",
              "Change_odd%         242.952153       -52.436468             -80.519564   \n",
              "\n",
              "             education_ Assoc-voc  education_ Bachelors  education_ Doctorate  \\\n",
              "Odds                     0.185925              0.099282              0.040001   \n",
              "Change_odd%            -81.407494            -90.071803            -95.999872   \n",
              "\n",
              "             education_ HS-grad  education_ Masters  education_ Prof-school  \\\n",
              "Odds                   0.322252            0.066789                0.034771   \n",
              "Change_odd%          -67.774832          -93.321128              -96.522869   \n",
              "\n",
              "             education_ Some-college  marital_status_married  \\\n",
              "Odds                        0.232543                0.075674   \n",
              "Change_odd%               -76.745716              -92.432620   \n",
              "\n",
              "             marital_status_not_married  occupation_ Exec-managerial  \\\n",
              "Odds                           0.660499                     0.524248   \n",
              "Change_odd%                  -33.950051                   -47.575196   \n",
              "\n",
              "             occupation_ Farming-fishing  occupation_ Handlers-cleaners  \\\n",
              "Odds                            3.042246                       2.266815   \n",
              "Change_odd%                   204.224628                     126.681457   \n",
              "\n",
              "             occupation_ Machine-op-inspct  occupation_ Other-service  \\\n",
              "Odds                              1.519514                   2.869626   \n",
              "Change_odd%                      51.951420                 186.962623   \n",
              "\n",
              "             occupation_ Priv-house-serv  occupation_ Prof-specialty  \\\n",
              "Odds                           10.998738                    0.695646   \n",
              "Change_odd%                   999.873832                  -30.435353   \n",
              "\n",
              "             occupation_ Protective-serv  occupation_ Tech-support  \\\n",
              "Odds                            0.662946                  0.620488   \n",
              "Change_odd%                   -33.705438                -37.951197   \n",
              "\n",
              "             occupation_ Transport-moving  native_country_europe  \\\n",
              "Odds                             1.323382               0.655683   \n",
              "Change_odd%                     32.338159             -34.431721   \n",
              "\n",
              "             native_country_north_america  native_country_south_america  \n",
              "Odds                             0.744855                      6.119854  \n",
              "Change_odd%                    -25.514453                    511.985373  "
            ],
            "text/html": [
              "\n",
              "  <div id=\"df-86edd0b0-47c1-418a-b8ca-8e8fc0447837\">\n",
              "    <div class=\"colab-df-container\">\n",
              "      <div>\n",
              "<style scoped>\n",
              "    .dataframe tbody tr th:only-of-type {\n",
              "        vertical-align: middle;\n",
              "    }\n",
              "\n",
              "    .dataframe tbody tr th {\n",
              "        vertical-align: top;\n",
              "    }\n",
              "\n",
              "    .dataframe thead th {\n",
              "        text-align: right;\n",
              "    }\n",
              "</style>\n",
              "<table border=\"1\" class=\"dataframe\">\n",
              "  <thead>\n",
              "    <tr style=\"text-align: right;\">\n",
              "      <th></th>\n",
              "      <th>const</th>\n",
              "      <th>age</th>\n",
              "      <th>fnlwgt</th>\n",
              "      <th>working_hours_per_week</th>\n",
              "      <th>workclass_ Local-gov</th>\n",
              "      <th>workclass_ Private</th>\n",
              "      <th>workclass_ Self-emp-not-inc</th>\n",
              "      <th>workclass_ State-gov</th>\n",
              "      <th>workclass_Unknown</th>\n",
              "      <th>education_ 12th</th>\n",
              "      <th>education_ Assoc-acdm</th>\n",
              "      <th>education_ Assoc-voc</th>\n",
              "      <th>education_ Bachelors</th>\n",
              "      <th>education_ Doctorate</th>\n",
              "      <th>education_ HS-grad</th>\n",
              "      <th>education_ Masters</th>\n",
              "      <th>education_ Prof-school</th>\n",
              "      <th>education_ Some-college</th>\n",
              "      <th>marital_status_married</th>\n",
              "      <th>marital_status_not_married</th>\n",
              "      <th>occupation_ Exec-managerial</th>\n",
              "      <th>occupation_ Farming-fishing</th>\n",
              "      <th>occupation_ Handlers-cleaners</th>\n",
              "      <th>occupation_ Machine-op-inspct</th>\n",
              "      <th>occupation_ Other-service</th>\n",
              "      <th>occupation_ Priv-house-serv</th>\n",
              "      <th>occupation_ Prof-specialty</th>\n",
              "      <th>occupation_ Protective-serv</th>\n",
              "      <th>occupation_ Tech-support</th>\n",
              "      <th>occupation_ Transport-moving</th>\n",
              "      <th>native_country_europe</th>\n",
              "      <th>native_country_north_america</th>\n",
              "      <th>native_country_south_america</th>\n",
              "    </tr>\n",
              "  </thead>\n",
              "  <tbody>\n",
              "    <tr>\n",
              "      <th>Odds</th>\n",
              "      <td>5337.458512</td>\n",
              "      <td>0.970816</td>\n",
              "      <td>0.999999</td>\n",
              "      <td>0.933132</td>\n",
              "      <td>1.906395</td>\n",
              "      <td>1.470755</td>\n",
              "      <td>2.279060</td>\n",
              "      <td>1.849613</td>\n",
              "      <td>3.429522</td>\n",
              "      <td>0.475635</td>\n",
              "      <td>0.194804</td>\n",
              "      <td>0.185925</td>\n",
              "      <td>0.099282</td>\n",
              "      <td>0.040001</td>\n",
              "      <td>0.322252</td>\n",
              "      <td>0.066789</td>\n",
              "      <td>0.034771</td>\n",
              "      <td>0.232543</td>\n",
              "      <td>0.075674</td>\n",
              "      <td>0.660499</td>\n",
              "      <td>0.524248</td>\n",
              "      <td>3.042246</td>\n",
              "      <td>2.266815</td>\n",
              "      <td>1.519514</td>\n",
              "      <td>2.869626</td>\n",
              "      <td>10.998738</td>\n",
              "      <td>0.695646</td>\n",
              "      <td>0.662946</td>\n",
              "      <td>0.620488</td>\n",
              "      <td>1.323382</td>\n",
              "      <td>0.655683</td>\n",
              "      <td>0.744855</td>\n",
              "      <td>6.119854</td>\n",
              "    </tr>\n",
              "    <tr>\n",
              "      <th>Change_odd%</th>\n",
              "      <td>533645.851184</td>\n",
              "      <td>-2.918407</td>\n",
              "      <td>-0.000087</td>\n",
              "      <td>-6.686808</td>\n",
              "      <td>90.639546</td>\n",
              "      <td>47.075489</td>\n",
              "      <td>127.906015</td>\n",
              "      <td>84.961261</td>\n",
              "      <td>242.952153</td>\n",
              "      <td>-52.436468</td>\n",
              "      <td>-80.519564</td>\n",
              "      <td>-81.407494</td>\n",
              "      <td>-90.071803</td>\n",
              "      <td>-95.999872</td>\n",
              "      <td>-67.774832</td>\n",
              "      <td>-93.321128</td>\n",
              "      <td>-96.522869</td>\n",
              "      <td>-76.745716</td>\n",
              "      <td>-92.432620</td>\n",
              "      <td>-33.950051</td>\n",
              "      <td>-47.575196</td>\n",
              "      <td>204.224628</td>\n",
              "      <td>126.681457</td>\n",
              "      <td>51.951420</td>\n",
              "      <td>186.962623</td>\n",
              "      <td>999.873832</td>\n",
              "      <td>-30.435353</td>\n",
              "      <td>-33.705438</td>\n",
              "      <td>-37.951197</td>\n",
              "      <td>32.338159</td>\n",
              "      <td>-34.431721</td>\n",
              "      <td>-25.514453</td>\n",
              "      <td>511.985373</td>\n",
              "    </tr>\n",
              "  </tbody>\n",
              "</table>\n",
              "</div>\n",
              "      <button class=\"colab-df-convert\" onclick=\"convertToInteractive('df-86edd0b0-47c1-418a-b8ca-8e8fc0447837')\"\n",
              "              title=\"Convert this dataframe to an interactive table.\"\n",
              "              style=\"display:none;\">\n",
              "        \n",
              "  <svg xmlns=\"http://www.w3.org/2000/svg\" height=\"24px\"viewBox=\"0 0 24 24\"\n",
              "       width=\"24px\">\n",
              "    <path d=\"M0 0h24v24H0V0z\" fill=\"none\"/>\n",
              "    <path d=\"M18.56 5.44l.94 2.06.94-2.06 2.06-.94-2.06-.94-.94-2.06-.94 2.06-2.06.94zm-11 1L8.5 8.5l.94-2.06 2.06-.94-2.06-.94L8.5 2.5l-.94 2.06-2.06.94zm10 10l.94 2.06.94-2.06 2.06-.94-2.06-.94-.94-2.06-.94 2.06-2.06.94z\"/><path d=\"M17.41 7.96l-1.37-1.37c-.4-.4-.92-.59-1.43-.59-.52 0-1.04.2-1.43.59L10.3 9.45l-7.72 7.72c-.78.78-.78 2.05 0 2.83L4 21.41c.39.39.9.59 1.41.59.51 0 1.02-.2 1.41-.59l7.78-7.78 2.81-2.81c.8-.78.8-2.07 0-2.86zM5.41 20L4 18.59l7.72-7.72 1.47 1.35L5.41 20z\"/>\n",
              "  </svg>\n",
              "      </button>\n",
              "      \n",
              "  <style>\n",
              "    .colab-df-container {\n",
              "      display:flex;\n",
              "      flex-wrap:wrap;\n",
              "      gap: 12px;\n",
              "    }\n",
              "\n",
              "    .colab-df-convert {\n",
              "      background-color: #E8F0FE;\n",
              "      border: none;\n",
              "      border-radius: 50%;\n",
              "      cursor: pointer;\n",
              "      display: none;\n",
              "      fill: #1967D2;\n",
              "      height: 32px;\n",
              "      padding: 0 0 0 0;\n",
              "      width: 32px;\n",
              "    }\n",
              "\n",
              "    .colab-df-convert:hover {\n",
              "      background-color: #E2EBFA;\n",
              "      box-shadow: 0px 1px 2px rgba(60, 64, 67, 0.3), 0px 1px 3px 1px rgba(60, 64, 67, 0.15);\n",
              "      fill: #174EA6;\n",
              "    }\n",
              "\n",
              "    [theme=dark] .colab-df-convert {\n",
              "      background-color: #3B4455;\n",
              "      fill: #D2E3FC;\n",
              "    }\n",
              "\n",
              "    [theme=dark] .colab-df-convert:hover {\n",
              "      background-color: #434B5C;\n",
              "      box-shadow: 0px 1px 3px 1px rgba(0, 0, 0, 0.15);\n",
              "      filter: drop-shadow(0px 1px 2px rgba(0, 0, 0, 0.3));\n",
              "      fill: #FFFFFF;\n",
              "    }\n",
              "  </style>\n",
              "\n",
              "      <script>\n",
              "        const buttonEl =\n",
              "          document.querySelector('#df-86edd0b0-47c1-418a-b8ca-8e8fc0447837 button.colab-df-convert');\n",
              "        buttonEl.style.display =\n",
              "          google.colab.kernel.accessAllowed ? 'block' : 'none';\n",
              "\n",
              "        async function convertToInteractive(key) {\n",
              "          const element = document.querySelector('#df-86edd0b0-47c1-418a-b8ca-8e8fc0447837');\n",
              "          const dataTable =\n",
              "            await google.colab.kernel.invokeFunction('convertToInteractive',\n",
              "                                                     [key], {});\n",
              "          if (!dataTable) return;\n",
              "\n",
              "          const docLinkHtml = 'Like what you see? Visit the ' +\n",
              "            '<a target=\"_blank\" href=https://colab.research.google.com/notebooks/data_table.ipynb>data table notebook</a>'\n",
              "            + ' to learn more about interactive tables.';\n",
              "          element.innerHTML = '';\n",
              "          dataTable['output_type'] = 'display_data';\n",
              "          await google.colab.output.renderOutput(dataTable, element);\n",
              "          const docLink = document.createElement('div');\n",
              "          docLink.innerHTML = docLinkHtml;\n",
              "          element.appendChild(docLink);\n",
              "        }\n",
              "      </script>\n",
              "    </div>\n",
              "  </div>\n",
              "  "
            ]
          },
          "metadata": {},
          "execution_count": 133
        }
      ],
      "source": [
        "# converting coefficients to odds\n",
        "odds = np.exp(lg5.params)\n",
        "\n",
        "# finding the percentage change\n",
        "perc_change_odds = (np.exp(lg5.params) - 1) * 100\n",
        "\n",
        "# removing limit from number of columns to display\n",
        "pd.set_option(\"display.max_columns\", None)\n",
        "\n",
        "# adding the odds to a dataframe\n",
        "pd.DataFrame({\"Odds\": odds, \"Change_odd%\": perc_change_odds}, index=X_train5.columns).T"
      ]
    },
    {
      "cell_type": "markdown",
      "id": "oriented-afternoon",
      "metadata": {
        "id": "oriented-afternoon"
      },
      "source": [
        "### Coefficient interpretations\n",
        "\n",
        "* `age`: Holding all other features constant a 1 unit change in Age will decrease the odds of a person having salary <=50k by 0.97 times or a 2.90% decrease in odds of having salary <=50K.\n",
        "* `working_hours_per_week`: Holding all other features constant a 1 unit change in the working_hours_per_week will decrease the odds of a person having salary <=50k by 0.93 times or a decrease of 6.6% decrease in odds of having salary <=50K.\n",
        "* The odds of a person whose marital status is married having a salary <=50K is 0.075 less than the person who was never married or 92.2% fewer odds of having salary <=50K. Similarly, The odds of a person whose marital status is not_married having a salary <=50K is 0.65 times less than the person who was never married or 34.04% less odds of having a salary <=50K than the person who was never married. [keeping Never_married category as a reference].\n",
        "* The odds of a person having salary <=50K is 0.47 times less than the person who has done education 1st-9th, 11th or Preschool or 52.67% fewer odds of having salary <=50K. Similarly, The odds of a person who has a Doctorate having a salary <=50K is 0.04 times less than the person who has done education 1st-9th or Preschool or 95.94% less odds of having a salary <=50K. [keeping  education_ 1st-4th,education_ 5th-6th, education_ 7th-8th, education_ 9th, education_ 11th, education_ Preschool category as a reference].\n",
        "\n",
        "`Interpretation for other attributes can be done similarly.`"
      ]
    },
    {
      "cell_type": "markdown",
      "id": "incorporated-southeast",
      "metadata": {
        "id": "incorporated-southeast"
      },
      "source": [
        "#### Checking model performance on the training set"
      ]
    },
    {
      "cell_type": "code",
      "execution_count": null,
      "id": "circular-bracelet",
      "metadata": {
        "colab": {
          "base_uri": "https://localhost:8080/"
        },
        "id": "circular-bracelet",
        "outputId": "22e8b0bf-adef-448f-d9d7-72ffc1a162f0"
      },
      "outputs": [
        {
          "output_type": "display_data",
          "data": {
            "text/plain": [
              "<Figure size 432x288 with 2 Axes>"
            ],
            "image/png": "[encoded data removed]"
          },
          "metadata": {
            "needs_background": "light"
          }
        }
      ],
      "source": [
        "# creating confusion matrix\n",
        "confusion_matrix_statsmodels(lg5, X_train5, y_train)"
      ]
    },
    {
      "cell_type": "code",
      "execution_count": null,
      "id": "coastal-sheffield",
      "metadata": {
        "colab": {
          "base_uri": "https://localhost:8080/"
        },
        "id": "coastal-sheffield",
        "outputId": "af0fa504-c94a-4b21-d0dc-f065e9dde21c"
      },
      "outputs": [
        {
          "output_type": "stream",
          "name": "stdout",
          "text": [
            "Training performance:\n"
          ]
        },
        {
          "output_type": "execute_result",
          "data": {
            "text/plain": [
              "   Accuracy    Recall  Precision        F1\n",
              "0  0.833406  0.922656   0.865163  0.892985"
            ],
            "text/html": [
              "\n",
              "  <div id=\"df-64422864-d30b-42a7-a8dc-a5e92ac549ba\">\n",
              "    <div class=\"colab-df-container\">\n",
              "      <div>\n",
              "<style scoped>\n",
              "    .dataframe tbody tr th:only-of-type {\n",
              "        vertical-align: middle;\n",
              "    }\n",
              "\n",
              "    .dataframe tbody tr th {\n",
              "        vertical-align: top;\n",
              "    }\n",
              "\n",
              "    .dataframe thead th {\n",
              "        text-align: right;\n",
              "    }\n",
              "</style>\n",
              "<table border=\"1\" class=\"dataframe\">\n",
              "  <thead>\n",
              "    <tr style=\"text-align: right;\">\n",
              "      <th></th>\n",
              "      <th>Accuracy</th>\n",
              "      <th>Recall</th>\n",
              "      <th>Precision</th>\n",
              "      <th>F1</th>\n",
              "    </tr>\n",
              "  </thead>\n",
              "  <tbody>\n",
              "    <tr>\n",
              "      <th>0</th>\n",
              "      <td>0.833406</td>\n",
              "      <td>0.922656</td>\n",
              "      <td>0.865163</td>\n",
              "      <td>0.892985</td>\n",
              "    </tr>\n",
              "  </tbody>\n",
              "</table>\n",
              "</div>\n",
              "      <button class=\"colab-df-convert\" onclick=\"convertToInteractive('df-64422864-d30b-42a7-a8dc-a5e92ac549ba')\"\n",
              "              title=\"Convert this dataframe to an interactive table.\"\n",
              "              style=\"display:none;\">\n",
              "        \n",
              "  <svg xmlns=\"http://www.w3.org/2000/svg\" height=\"24px\"viewBox=\"0 0 24 24\"\n",
              "       width=\"24px\">\n",
              "    <path d=\"M0 0h24v24H0V0z\" fill=\"none\"/>\n",
              "    <path d=\"M18.56 5.44l.94 2.06.94-2.06 2.06-.94-2.06-.94-.94-2.06-.94 2.06-2.06.94zm-11 1L8.5 8.5l.94-2.06 2.06-.94-2.06-.94L8.5 2.5l-.94 2.06-2.06.94zm10 10l.94 2.06.94-2.06 2.06-.94-2.06-.94-.94-2.06-.94 2.06-2.06.94z\"/><path d=\"M17.41 7.96l-1.37-1.37c-.4-.4-.92-.59-1.43-.59-.52 0-1.04.2-1.43.59L10.3 9.45l-7.72 7.72c-.78.78-.78 2.05 0 2.83L4 21.41c.39.39.9.59 1.41.59.51 0 1.02-.2 1.41-.59l7.78-7.78 2.81-2.81c.8-.78.8-2.07 0-2.86zM5.41 20L4 18.59l7.72-7.72 1.47 1.35L5.41 20z\"/>\n",
              "  </svg>\n",
              "      </button>\n",
              "      \n",
              "  <style>\n",
              "    .colab-df-container {\n",
              "      display:flex;\n",
              "      flex-wrap:wrap;\n",
              "      gap: 12px;\n",
              "    }\n",
              "\n",
              "    .colab-df-convert {\n",
              "      background-color: #E8F0FE;\n",
              "      border: none;\n",
              "      border-radius: 50%;\n",
              "      cursor: pointer;\n",
              "      display: none;\n",
              "      fill: #1967D2;\n",
              "      height: 32px;\n",
              "      padding: 0 0 0 0;\n",
              "      width: 32px;\n",
              "    }\n",
              "\n",
              "    .colab-df-convert:hover {\n",
              "      background-color: #E2EBFA;\n",
              "      box-shadow: 0px 1px 2px rgba(60, 64, 67, 0.3), 0px 1px 3px 1px rgba(60, 64, 67, 0.15);\n",
              "      fill: #174EA6;\n",
              "    }\n",
              "\n",
              "    [theme=dark] .colab-df-convert {\n",
              "      background-color: #3B4455;\n",
              "      fill: #D2E3FC;\n",
              "    }\n",
              "\n",
              "    [theme=dark] .colab-df-convert:hover {\n",
              "      background-color: #434B5C;\n",
              "      box-shadow: 0px 1px 3px 1px rgba(0, 0, 0, 0.15);\n",
              "      filter: drop-shadow(0px 1px 2px rgba(0, 0, 0, 0.3));\n",
              "      fill: #FFFFFF;\n",
              "    }\n",
              "  </style>\n",
              "\n",
              "      <script>\n",
              "        const buttonEl =\n",
              "          document.querySelector('#df-64422864-d30b-42a7-a8dc-a5e92ac549ba button.colab-df-convert');\n",
              "        buttonEl.style.display =\n",
              "          google.colab.kernel.accessAllowed ? 'block' : 'none';\n",
              "\n",
              "        async function convertToInteractive(key) {\n",
              "          const element = document.querySelector('#df-64422864-d30b-42a7-a8dc-a5e92ac549ba');\n",
              "          const dataTable =\n",
              "            await google.colab.kernel.invokeFunction('convertToInteractive',\n",
              "                                                     [key], {});\n",
              "          if (!dataTable) return;\n",
              "\n",
              "          const docLinkHtml = 'Like what you see? Visit the ' +\n",
              "            '<a target=\"_blank\" href=https://colab.research.google.com/notebooks/data_table.ipynb>data table notebook</a>'\n",
              "            + ' to learn more about interactive tables.';\n",
              "          element.innerHTML = '';\n",
              "          dataTable['output_type'] = 'display_data';\n",
              "          await google.colab.output.renderOutput(dataTable, element);\n",
              "          const docLink = document.createElement('div');\n",
              "          docLink.innerHTML = docLinkHtml;\n",
              "          element.appendChild(docLink);\n",
              "        }\n",
              "      </script>\n",
              "    </div>\n",
              "  </div>\n",
              "  "
            ]
          },
          "metadata": {},
          "execution_count": 135
        }
      ],
      "source": [
        "log_reg_model_train_perf = model_performance_classification_statsmodels(\n",
        "    lg5, X_train5, y_train\n",
        ")\n",
        "\n",
        "print(\"Training performance:\")\n",
        "log_reg_model_train_perf"
      ]
    },
    {
      "cell_type": "markdown",
      "id": "alone-relay",
      "metadata": {
        "id": "alone-relay"
      },
      "source": [
        "#### ROC-AUC"
      ]
    },
    {
      "cell_type": "markdown",
      "id": "furnished-dragon",
      "metadata": {
        "id": "furnished-dragon"
      },
      "source": [
        "* ROC-AUC on training set"
      ]
    },
    {
      "cell_type": "code",
      "execution_count": null,
      "id": "welcome-flood",
      "metadata": {
        "colab": {
          "base_uri": "https://localhost:8080/"
        },
        "id": "welcome-flood",
        "outputId": "b7524a69-22cd-4c22-e8a5-b678edbc7e6b"
      },
      "outputs": [
        {
          "output_type": "display_data",
          "data": {
            "text/plain": [
              "<Figure size 504x360 with 1 Axes>"
            ],
            "image/png": "[encoded data removed]"
          },
          "metadata": {
            "needs_background": "light"
          }
        }
      ],
      "source": [
        "logit_roc_auc_train = roc_auc_score(y_train, lg5.predict(X_train5))\n",
        "fpr, tpr, thresholds = roc_curve(y_train, lg5.predict(X_train5))\n",
        "plt.figure(figsize=(7, 5))\n",
        "plt.plot(fpr, tpr, label=\"Logistic Regression (area = %0.2f)\" % logit_roc_auc_train)\n",
        "plt.plot([0, 1], [0, 1], \"r--\")\n",
        "plt.xlim([0.0, 1.0])\n",
        "plt.ylim([0.0, 1.05])\n",
        "plt.xlabel(\"False Positive Rate\")\n",
        "plt.ylabel(\"True Positive Rate\")\n",
        "plt.title(\"Receiver operating characteristic\")\n",
        "plt.legend(loc=\"lower right\")\n",
        "plt.show()"
      ]
    },
    {
      "cell_type": "markdown",
      "id": "fiscal-poetry",
      "metadata": {
        "id": "fiscal-poetry"
      },
      "source": [
        "* Logistic Regression model is giving a good performance on training set."
      ]
    },
    {
      "cell_type": "markdown",
      "id": "duplicate-chocolate",
      "metadata": {
        "id": "duplicate-chocolate"
      },
      "source": [
        "### Model Performance Improvement"
      ]
    },
    {
      "cell_type": "markdown",
      "id": "binary-withdrawal",
      "metadata": {
        "id": "binary-withdrawal"
      },
      "source": [
        "* Let's see if the f1 score can be improved further, by changing the model threshold using AUC-ROC Curve."
      ]
    },
    {
      "cell_type": "markdown",
      "id": "disturbed-dividend",
      "metadata": {
        "id": "disturbed-dividend"
      },
      "source": [
        "### Optimal threshold using AUC-ROC curve"
      ]
    },
    {
      "cell_type": "code",
      "execution_count": null,
      "id": "informal-retention",
      "metadata": {
        "colab": {
          "base_uri": "https://localhost:8080/"
        },
        "id": "informal-retention",
        "outputId": "46ff4965-c09d-4df5-af21-b4e161c6f5e7"
      },
      "outputs": [
        {
          "output_type": "stream",
          "name": "stdout",
          "text": [
            "0.7626517771565009\n"
          ]
        }
      ],
      "source": [
        "# Optimal threshold as per AUC-ROC curve\n",
        "# The optimal cut off would be where tpr is high and fpr is low\n",
        "fpr, tpr, thresholds = roc_curve(y_train, lg5.predict(X_train5))\n",
        "\n",
        "optimal_idx = np.argmax(tpr - fpr)\n",
        "optimal_threshold_auc_roc = thresholds[optimal_idx]\n",
        "print(optimal_threshold_auc_roc)"
      ]
    },
    {
      "cell_type": "markdown",
      "id": "urban-rwanda",
      "metadata": {
        "id": "urban-rwanda"
      },
      "source": [
        "#### Checking model performance on training set"
      ]
    },
    {
      "cell_type": "code",
      "execution_count": null,
      "id": "hawaiian-johns",
      "metadata": {
        "colab": {
          "base_uri": "https://localhost:8080/"
        },
        "id": "hawaiian-johns",
        "outputId": "1cd51ad0-7841-4275-ae57-4d3b67a3803f"
      },
      "outputs": [
        {
          "output_type": "display_data",
          "data": {
            "text/plain": [
              "<Figure size 432x288 with 2 Axes>"
            ],
            "image/png": "[encoded data removed]"
          },
          "metadata": {
            "needs_background": "light"
          }
        }
      ],
      "source": [
        "# creating confusion matrix\n",
        "confusion_matrix_statsmodels(\n",
        "    lg5, X_train5, y_train, threshold=optimal_threshold_auc_roc\n",
        ")"
      ]
    },
    {
      "cell_type": "code",
      "execution_count": null,
      "id": "unexpected-minister",
      "metadata": {
        "scrolled": false,
        "colab": {
          "base_uri": "https://localhost:8080/"
        },
        "id": "unexpected-minister",
        "outputId": "8d4950e0-3fc2-4c9f-b478-e46d3fe4345b"
      },
      "outputs": [
        {
          "output_type": "stream",
          "name": "stdout",
          "text": [
            "Training performance:\n"
          ]
        },
        {
          "output_type": "execute_result",
          "data": {
            "text/plain": [
              "   Accuracy    Recall  Precision        F1\n",
              "0  0.786153  0.767909   0.936834  0.844002"
            ],
            "text/html": [
              "\n",
              "  <div id=\"df-bde7496e-82df-4e58-96fc-5dc69ffdb927\">\n",
              "    <div class=\"colab-df-container\">\n",
              "      <div>\n",
              "<style scoped>\n",
              "    .dataframe tbody tr th:only-of-type {\n",
              "        vertical-align: middle;\n",
              "    }\n",
              "\n",
              "    .dataframe tbody tr th {\n",
              "        vertical-align: top;\n",
              "    }\n",
              "\n",
              "    .dataframe thead th {\n",
              "        text-align: right;\n",
              "    }\n",
              "</style>\n",
              "<table border=\"1\" class=\"dataframe\">\n",
              "  <thead>\n",
              "    <tr style=\"text-align: right;\">\n",
              "      <th></th>\n",
              "      <th>Accuracy</th>\n",
              "      <th>Recall</th>\n",
              "      <th>Precision</th>\n",
              "      <th>F1</th>\n",
              "    </tr>\n",
              "  </thead>\n",
              "  <tbody>\n",
              "    <tr>\n",
              "      <th>0</th>\n",
              "      <td>0.786153</td>\n",
              "      <td>0.767909</td>\n",
              "      <td>0.936834</td>\n",
              "      <td>0.844002</td>\n",
              "    </tr>\n",
              "  </tbody>\n",
              "</table>\n",
              "</div>\n",
              "      <button class=\"colab-df-convert\" onclick=\"convertToInteractive('df-bde7496e-82df-4e58-96fc-5dc69ffdb927')\"\n",
              "              title=\"Convert this dataframe to an interactive table.\"\n",
              "              style=\"display:none;\">\n",
              "        \n",
              "  <svg xmlns=\"http://www.w3.org/2000/svg\" height=\"24px\"viewBox=\"0 0 24 24\"\n",
              "       width=\"24px\">\n",
              "    <path d=\"M0 0h24v24H0V0z\" fill=\"none\"/>\n",
              "    <path d=\"M18.56 5.44l.94 2.06.94-2.06 2.06-.94-2.06-.94-.94-2.06-.94 2.06-2.06.94zm-11 1L8.5 8.5l.94-2.06 2.06-.94-2.06-.94L8.5 2.5l-.94 2.06-2.06.94zm10 10l.94 2.06.94-2.06 2.06-.94-2.06-.94-.94-2.06-.94 2.06-2.06.94z\"/><path d=\"M17.41 7.96l-1.37-1.37c-.4-.4-.92-.59-1.43-.59-.52 0-1.04.2-1.43.59L10.3 9.45l-7.72 7.72c-.78.78-.78 2.05 0 2.83L4 21.41c.39.39.9.59 1.41.59.51 0 1.02-.2 1.41-.59l7.78-7.78 2.81-2.81c.8-.78.8-2.07 0-2.86zM5.41 20L4 18.59l7.72-7.72 1.47 1.35L5.41 20z\"/>\n",
              "  </svg>\n",
              "      </button>\n",
              "      \n",
              "  <style>\n",
              "    .colab-df-container {\n",
              "      display:flex;\n",
              "      flex-wrap:wrap;\n",
              "      gap: 12px;\n",
              "    }\n",
              "\n",
              "    .colab-df-convert {\n",
              "      background-color: #E8F0FE;\n",
              "      border: none;\n",
              "      border-radius: 50%;\n",
              "      cursor: pointer;\n",
              "      display: none;\n",
              "      fill: #1967D2;\n",
              "      height: 32px;\n",
              "      padding: 0 0 0 0;\n",
              "      width: 32px;\n",
              "    }\n",
              "\n",
              "    .colab-df-convert:hover {\n",
              "      background-color: #E2EBFA;\n",
              "      box-shadow: 0px 1px 2px rgba(60, 64, 67, 0.3), 0px 1px 3px 1px rgba(60, 64, 67, 0.15);\n",
              "      fill: #174EA6;\n",
              "    }\n",
              "\n",
              "    [theme=dark] .colab-df-convert {\n",
              "      background-color: #3B4455;\n",
              "      fill: #D2E3FC;\n",
              "    }\n",
              "\n",
              "    [theme=dark] .colab-df-convert:hover {\n",
              "      background-color: #434B5C;\n",
              "      box-shadow: 0px 1px 3px 1px rgba(0, 0, 0, 0.15);\n",
              "      filter: drop-shadow(0px 1px 2px rgba(0, 0, 0, 0.3));\n",
              "      fill: #FFFFFF;\n",
              "    }\n",
              "  </style>\n",
              "\n",
              "      <script>\n",
              "        const buttonEl =\n",
              "          document.querySelector('#df-bde7496e-82df-4e58-96fc-5dc69ffdb927 button.colab-df-convert');\n",
              "        buttonEl.style.display =\n",
              "          google.colab.kernel.accessAllowed ? 'block' : 'none';\n",
              "\n",
              "        async function convertToInteractive(key) {\n",
              "          const element = document.querySelector('#df-bde7496e-82df-4e58-96fc-5dc69ffdb927');\n",
              "          const dataTable =\n",
              "            await google.colab.kernel.invokeFunction('convertToInteractive',\n",
              "                                                     [key], {});\n",
              "          if (!dataTable) return;\n",
              "\n",
              "          const docLinkHtml = 'Like what you see? Visit the ' +\n",
              "            '<a target=\"_blank\" href=https://colab.research.google.com/notebooks/data_table.ipynb>data table notebook</a>'\n",
              "            + ' to learn more about interactive tables.';\n",
              "          element.innerHTML = '';\n",
              "          dataTable['output_type'] = 'display_data';\n",
              "          await google.colab.output.renderOutput(dataTable, element);\n",
              "          const docLink = document.createElement('div');\n",
              "          docLink.innerHTML = docLinkHtml;\n",
              "          element.appendChild(docLink);\n",
              "        }\n",
              "      </script>\n",
              "    </div>\n",
              "  </div>\n",
              "  "
            ]
          },
          "metadata": {},
          "execution_count": 139
        }
      ],
      "source": [
        "# checking model performance for this model\n",
        "log_reg_model_train_perf_threshold_auc_roc = model_performance_classification_statsmodels(\n",
        "    lg5, X_train5, y_train, threshold=optimal_threshold_auc_roc\n",
        ")\n",
        "print(\"Training performance:\")\n",
        "log_reg_model_train_perf_threshold_auc_roc"
      ]
    },
    {
      "cell_type": "markdown",
      "id": "nonprofit-engineering",
      "metadata": {
        "id": "nonprofit-engineering"
      },
      "source": [
        "* Precision of model has increased but the other metrics have reduced.\n",
        "* The model is still giving a good performance."
      ]
    },
    {
      "cell_type": "markdown",
      "id": "documented-channels",
      "metadata": {
        "id": "documented-channels"
      },
      "source": [
        "#### Let's use Precision-Recall curve and see if we can find a better threshold"
      ]
    },
    {
      "cell_type": "code",
      "execution_count": null,
      "id": "scientific-plain",
      "metadata": {
        "colab": {
          "base_uri": "https://localhost:8080/"
        },
        "id": "scientific-plain",
        "outputId": "71b095da-7906-46f4-fd4a-83f3495e3396"
      },
      "outputs": [
        {
          "output_type": "display_data",
          "data": {
            "text/plain": [
              "<Figure size 720x504 with 1 Axes>"
            ],
            "image/png": "[encoded data removed]"
          },
          "metadata": {
            "needs_background": "light"
          }
        }
      ],
      "source": [
        "y_scores = lg5.predict(X_train5)\n",
        "prec, rec, tre = precision_recall_curve(y_train, y_scores,)\n",
        "\n",
        "\n",
        "def plot_prec_recall_vs_tresh(precisions, recalls, thresholds):\n",
        "    plt.plot(thresholds, precisions[:-1], \"b--\", label=\"precision\")\n",
        "    plt.plot(thresholds, recalls[:-1], \"g--\", label=\"recall\")\n",
        "    plt.xlabel(\"Threshold\")\n",
        "    plt.legend(loc=\"upper left\")\n",
        "    plt.ylim([0, 1])\n",
        "\n",
        "\n",
        "plt.figure(figsize=(10, 7))\n",
        "plot_prec_recall_vs_tresh(prec, rec, tre)\n",
        "plt.show()"
      ]
    },
    {
      "cell_type": "markdown",
      "id": "double-cholesterol",
      "metadata": {
        "id": "double-cholesterol"
      },
      "source": [
        "* At the threshold of 0.58, we get balanced recall and precision."
      ]
    },
    {
      "cell_type": "code",
      "execution_count": null,
      "id": "continuous-hostel",
      "metadata": {
        "id": "continuous-hostel"
      },
      "outputs": [],
      "source": [
        "# setting the threshold\n",
        "optimal_threshold_curve = 0.58"
      ]
    },
    {
      "cell_type": "markdown",
      "id": "sudden-jerusalem",
      "metadata": {
        "id": "sudden-jerusalem"
      },
      "source": [
        "#### Checking model performance on training set"
      ]
    },
    {
      "cell_type": "code",
      "execution_count": null,
      "id": "direct-scientist",
      "metadata": {
        "colab": {
          "base_uri": "https://localhost:8080/"
        },
        "id": "direct-scientist",
        "outputId": "6bec7b8f-79c2-49e8-9d68-f969bfa6973b"
      },
      "outputs": [
        {
          "output_type": "display_data",
          "data": {
            "text/plain": [
              "<Figure size 432x288 with 2 Axes>"
            ],
            "image/png": "[encoded data removed]"
          },
          "metadata": {
            "needs_background": "light"
          }
        }
      ],
      "source": [
        "# creating confusion matrix\n",
        "confusion_matrix_statsmodels(lg5, X_train5, y_train, threshold=optimal_threshold_curve)"
      ]
    },
    {
      "cell_type": "code",
      "execution_count": null,
      "id": "rough-double",
      "metadata": {
        "colab": {
          "base_uri": "https://localhost:8080/"
        },
        "id": "rough-double",
        "outputId": "23eb0485-102b-4a7b-ba7e-68211bc28a7d"
      },
      "outputs": [
        {
          "output_type": "stream",
          "name": "stdout",
          "text": [
            "Training performance:\n"
          ]
        },
        {
          "output_type": "execute_result",
          "data": {
            "text/plain": [
              "   Accuracy    Recall  Precision        F1\n",
              "0  0.831651  0.889983   0.886935  0.888456"
            ],
            "text/html": [
              "\n",
              "  <div id=\"df-24387433-9d53-447d-8adb-e560d073737f\">\n",
              "    <div class=\"colab-df-container\">\n",
              "      <div>\n",
              "<style scoped>\n",
              "    .dataframe tbody tr th:only-of-type {\n",
              "        vertical-align: middle;\n",
              "    }\n",
              "\n",
              "    .dataframe tbody tr th {\n",
              "        vertical-align: top;\n",
              "    }\n",
              "\n",
              "    .dataframe thead th {\n",
              "        text-align: right;\n",
              "    }\n",
              "</style>\n",
              "<table border=\"1\" class=\"dataframe\">\n",
              "  <thead>\n",
              "    <tr style=\"text-align: right;\">\n",
              "      <th></th>\n",
              "      <th>Accuracy</th>\n",
              "      <th>Recall</th>\n",
              "      <th>Precision</th>\n",
              "      <th>F1</th>\n",
              "    </tr>\n",
              "  </thead>\n",
              "  <tbody>\n",
              "    <tr>\n",
              "      <th>0</th>\n",
              "      <td>0.831651</td>\n",
              "      <td>0.889983</td>\n",
              "      <td>0.886935</td>\n",
              "      <td>0.888456</td>\n",
              "    </tr>\n",
              "  </tbody>\n",
              "</table>\n",
              "</div>\n",
              "      <button class=\"colab-df-convert\" onclick=\"convertToInteractive('df-24387433-9d53-447d-8adb-e560d073737f')\"\n",
              "              title=\"Convert this dataframe to an interactive table.\"\n",
              "              style=\"display:none;\">\n",
              "        \n",
              "  <svg xmlns=\"http://www.w3.org/2000/svg\" height=\"24px\"viewBox=\"0 0 24 24\"\n",
              "       width=\"24px\">\n",
              "    <path d=\"M0 0h24v24H0V0z\" fill=\"none\"/>\n",
              "    <path d=\"M18.56 5.44l.94 2.06.94-2.06 2.06-.94-2.06-.94-.94-2.06-.94 2.06-2.06.94zm-11 1L8.5 8.5l.94-2.06 2.06-.94-2.06-.94L8.5 2.5l-.94 2.06-2.06.94zm10 10l.94 2.06.94-2.06 2.06-.94-2.06-.94-.94-2.06-.94 2.06-2.06.94z\"/><path d=\"M17.41 7.96l-1.37-1.37c-.4-.4-.92-.59-1.43-.59-.52 0-1.04.2-1.43.59L10.3 9.45l-7.72 7.72c-.78.78-.78 2.05 0 2.83L4 21.41c.39.39.9.59 1.41.59.51 0 1.02-.2 1.41-.59l7.78-7.78 2.81-2.81c.8-.78.8-2.07 0-2.86zM5.41 20L4 18.59l7.72-7.72 1.47 1.35L5.41 20z\"/>\n",
              "  </svg>\n",
              "      </button>\n",
              "      \n",
              "  <style>\n",
              "    .colab-df-container {\n",
              "      display:flex;\n",
              "      flex-wrap:wrap;\n",
              "      gap: 12px;\n",
              "    }\n",
              "\n",
              "    .colab-df-convert {\n",
              "      background-color: #E8F0FE;\n",
              "      border: none;\n",
              "      border-radius: 50%;\n",
              "      cursor: pointer;\n",
              "      display: none;\n",
              "      fill: #1967D2;\n",
              "      height: 32px;\n",
              "      padding: 0 0 0 0;\n",
              "      width: 32px;\n",
              "    }\n",
              "\n",
              "    .colab-df-convert:hover {\n",
              "      background-color: #E2EBFA;\n",
              "      box-shadow: 0px 1px 2px rgba(60, 64, 67, 0.3), 0px 1px 3px 1px rgba(60, 64, 67, 0.15);\n",
              "      fill: #174EA6;\n",
              "    }\n",
              "\n",
              "    [theme=dark] .colab-df-convert {\n",
              "      background-color: #3B4455;\n",
              "      fill: #D2E3FC;\n",
              "    }\n",
              "\n",
              "    [theme=dark] .colab-df-convert:hover {\n",
              "      background-color: #434B5C;\n",
              "      box-shadow: 0px 1px 3px 1px rgba(0, 0, 0, 0.15);\n",
              "      filter: drop-shadow(0px 1px 2px rgba(0, 0, 0, 0.3));\n",
              "      fill: #FFFFFF;\n",
              "    }\n",
              "  </style>\n",
              "\n",
              "      <script>\n",
              "        const buttonEl =\n",
              "          document.querySelector('#df-24387433-9d53-447d-8adb-e560d073737f button.colab-df-convert');\n",
              "        buttonEl.style.display =\n",
              "          google.colab.kernel.accessAllowed ? 'block' : 'none';\n",
              "\n",
              "        async function convertToInteractive(key) {\n",
              "          const element = document.querySelector('#df-24387433-9d53-447d-8adb-e560d073737f');\n",
              "          const dataTable =\n",
              "            await google.colab.kernel.invokeFunction('convertToInteractive',\n",
              "                                                     [key], {});\n",
              "          if (!dataTable) return;\n",
              "\n",
              "          const docLinkHtml = 'Like what you see? Visit the ' +\n",
              "            '<a target=\"_blank\" href=https://colab.research.google.com/notebooks/data_table.ipynb>data table notebook</a>'\n",
              "            + ' to learn more about interactive tables.';\n",
              "          element.innerHTML = '';\n",
              "          dataTable['output_type'] = 'display_data';\n",
              "          await google.colab.output.renderOutput(dataTable, element);\n",
              "          const docLink = document.createElement('div');\n",
              "          docLink.innerHTML = docLinkHtml;\n",
              "          element.appendChild(docLink);\n",
              "        }\n",
              "      </script>\n",
              "    </div>\n",
              "  </div>\n",
              "  "
            ]
          },
          "metadata": {},
          "execution_count": 143
        }
      ],
      "source": [
        "log_reg_model_train_perf_threshold_curve = model_performance_classification_statsmodels(\n",
        "    lg5, X_train5, y_train, threshold=optimal_threshold_curve\n",
        ")\n",
        "print(\"Training performance:\")\n",
        "log_reg_model_train_perf_threshold_curve"
      ]
    },
    {
      "cell_type": "markdown",
      "id": "shared-calibration",
      "metadata": {
        "id": "shared-calibration"
      },
      "source": [
        "* Model is performing well on training set.\n",
        "* There's not much improvement in the model performance as the default threshold is 0.50 and here we get 0.58 as the optimal threshold."
      ]
    },
    {
      "cell_type": "markdown",
      "id": "statutory-gasoline",
      "metadata": {
        "id": "statutory-gasoline"
      },
      "source": [
        "### Model Performance Summary"
      ]
    },
    {
      "cell_type": "code",
      "execution_count": null,
      "id": "modular-husband",
      "metadata": {
        "colab": {
          "base_uri": "https://localhost:8080/"
        },
        "id": "modular-husband",
        "outputId": "33c71e68-29c6-46c0-e6b2-78d1b9e703c6"
      },
      "outputs": [
        {
          "output_type": "stream",
          "name": "stdout",
          "text": [
            "Training performance comparison:\n"
          ]
        },
        {
          "output_type": "execute_result",
          "data": {
            "text/plain": [
              "           Logistic Regression sklearn  Logistic Regression-0.76 Threshold  \\\n",
              "Accuracy                      0.833406                            0.786153   \n",
              "Recall                        0.922656                            0.767909   \n",
              "Precision                     0.865163                            0.936834   \n",
              "F1                            0.892985                            0.844002   \n",
              "\n",
              "           Logistic Regression-0.58 Threshold  \n",
              "Accuracy                             0.831651  \n",
              "Recall                               0.889983  \n",
              "Precision                            0.886935  \n",
              "F1                                   0.888456  "
            ],
            "text/html": [
              "\n",
              "  <div id=\"df-8c0ad430-3961-43e7-8547-d284ad5a5155\">\n",
              "    <div class=\"colab-df-container\">\n",
              "      <div>\n",
              "<style scoped>\n",
              "    .dataframe tbody tr th:only-of-type {\n",
              "        vertical-align: middle;\n",
              "    }\n",
              "\n",
              "    .dataframe tbody tr th {\n",
              "        vertical-align: top;\n",
              "    }\n",
              "\n",
              "    .dataframe thead th {\n",
              "        text-align: right;\n",
              "    }\n",
              "</style>\n",
              "<table border=\"1\" class=\"dataframe\">\n",
              "  <thead>\n",
              "    <tr style=\"text-align: right;\">\n",
              "      <th></th>\n",
              "      <th>Logistic Regression sklearn</th>\n",
              "      <th>Logistic Regression-0.76 Threshold</th>\n",
              "      <th>Logistic Regression-0.58 Threshold</th>\n",
              "    </tr>\n",
              "  </thead>\n",
              "  <tbody>\n",
              "    <tr>\n",
              "      <th>Accuracy</th>\n",
              "      <td>0.833406</td>\n",
              "      <td>0.786153</td>\n",
              "      <td>0.831651</td>\n",
              "    </tr>\n",
              "    <tr>\n",
              "      <th>Recall</th>\n",
              "      <td>0.922656</td>\n",
              "      <td>0.767909</td>\n",
              "      <td>0.889983</td>\n",
              "    </tr>\n",
              "    <tr>\n",
              "      <th>Precision</th>\n",
              "      <td>0.865163</td>\n",
              "      <td>0.936834</td>\n",
              "      <td>0.886935</td>\n",
              "    </tr>\n",
              "    <tr>\n",
              "      <th>F1</th>\n",
              "      <td>0.892985</td>\n",
              "      <td>0.844002</td>\n",
              "      <td>0.888456</td>\n",
              "    </tr>\n",
              "  </tbody>\n",
              "</table>\n",
              "</div>\n",
              "      <button class=\"colab-df-convert\" onclick=\"convertToInteractive('df-8c0ad430-3961-43e7-8547-d284ad5a5155')\"\n",
              "              title=\"Convert this dataframe to an interactive table.\"\n",
              "              style=\"display:none;\">\n",
              "        \n",
              "  <svg xmlns=\"http://www.w3.org/2000/svg\" height=\"24px\"viewBox=\"0 0 24 24\"\n",
              "       width=\"24px\">\n",
              "    <path d=\"M0 0h24v24H0V0z\" fill=\"none\"/>\n",
              "    <path d=\"M18.56 5.44l.94 2.06.94-2.06 2.06-.94-2.06-.94-.94-2.06-.94 2.06-2.06.94zm-11 1L8.5 8.5l.94-2.06 2.06-.94-2.06-.94L8.5 2.5l-.94 2.06-2.06.94zm10 10l.94 2.06.94-2.06 2.06-.94-2.06-.94-.94-2.06-.94 2.06-2.06.94z\"/><path d=\"M17.41 7.96l-1.37-1.37c-.4-.4-.92-.59-1.43-.59-.52 0-1.04.2-1.43.59L10.3 9.45l-7.72 7.72c-.78.78-.78 2.05 0 2.83L4 21.41c.39.39.9.59 1.41.59.51 0 1.02-.2 1.41-.59l7.78-7.78 2.81-2.81c.8-.78.8-2.07 0-2.86zM5.41 20L4 18.59l7.72-7.72 1.47 1.35L5.41 20z\"/>\n",
              "  </svg>\n",
              "      </button>\n",
              "      \n",
              "  <style>\n",
              "    .colab-df-container {\n",
              "      display:flex;\n",
              "      flex-wrap:wrap;\n",
              "      gap: 12px;\n",
              "    }\n",
              "\n",
              "    .colab-df-convert {\n",
              "      background-color: #E8F0FE;\n",
              "      border: none;\n",
              "      border-radius: 50%;\n",
              "      cursor: pointer;\n",
              "      display: none;\n",
              "      fill: #1967D2;\n",
              "      height: 32px;\n",
              "      padding: 0 0 0 0;\n",
              "      width: 32px;\n",
              "    }\n",
              "\n",
              "    .colab-df-convert:hover {\n",
              "      background-color: #E2EBFA;\n",
              "      box-shadow: 0px 1px 2px rgba(60, 64, 67, 0.3), 0px 1px 3px 1px rgba(60, 64, 67, 0.15);\n",
              "      fill: #174EA6;\n",
              "    }\n",
              "\n",
              "    [theme=dark] .colab-df-convert {\n",
              "      background-color: #3B4455;\n",
              "      fill: #D2E3FC;\n",
              "    }\n",
              "\n",
              "    [theme=dark] .colab-df-convert:hover {\n",
              "      background-color: #434B5C;\n",
              "      box-shadow: 0px 1px 3px 1px rgba(0, 0, 0, 0.15);\n",
              "      filter: drop-shadow(0px 1px 2px rgba(0, 0, 0, 0.3));\n",
              "      fill: #FFFFFF;\n",
              "    }\n",
              "  </style>\n",
              "\n",
              "      <script>\n",
              "        const buttonEl =\n",
              "          document.querySelector('#df-8c0ad430-3961-43e7-8547-d284ad5a5155 button.colab-df-convert');\n",
              "        buttonEl.style.display =\n",
              "          google.colab.kernel.accessAllowed ? 'block' : 'none';\n",
              "\n",
              "        async function convertToInteractive(key) {\n",
              "          const element = document.querySelector('#df-8c0ad430-3961-43e7-8547-d284ad5a5155');\n",
              "          const dataTable =\n",
              "            await google.colab.kernel.invokeFunction('convertToInteractive',\n",
              "                                                     [key], {});\n",
              "          if (!dataTable) return;\n",
              "\n",
              "          const docLinkHtml = 'Like what you see? Visit the ' +\n",
              "            '<a target=\"_blank\" href=https://colab.research.google.com/notebooks/data_table.ipynb>data table notebook</a>'\n",
              "            + ' to learn more about interactive tables.';\n",
              "          element.innerHTML = '';\n",
              "          dataTable['output_type'] = 'display_data';\n",
              "          await google.colab.output.renderOutput(dataTable, element);\n",
              "          const docLink = document.createElement('div');\n",
              "          docLink.innerHTML = docLinkHtml;\n",
              "          element.appendChild(docLink);\n",
              "        }\n",
              "      </script>\n",
              "    </div>\n",
              "  </div>\n",
              "  "
            ]
          },
          "metadata": {},
          "execution_count": 144
        }
      ],
      "source": [
        "# training performance comparison\n",
        "\n",
        "models_train_comp_df = pd.concat(\n",
        "    [\n",
        "        log_reg_model_train_perf.T,\n",
        "        log_reg_model_train_perf_threshold_auc_roc.T,\n",
        "        log_reg_model_train_perf_threshold_curve.T,\n",
        "    ],\n",
        "    axis=1,\n",
        ")\n",
        "models_train_comp_df.columns = [\n",
        "    \"Logistic Regression sklearn\",\n",
        "    \"Logistic Regression-0.76 Threshold\",\n",
        "    \"Logistic Regression-0.58 Threshold\",\n",
        "]\n",
        "\n",
        "print(\"Training performance comparison:\")\n",
        "models_train_comp_df"
      ]
    },
    {
      "cell_type": "markdown",
      "id": "incredible-lloyd",
      "metadata": {
        "id": "incredible-lloyd"
      },
      "source": [
        "### Let's check the performance on the test set"
      ]
    },
    {
      "cell_type": "markdown",
      "id": "dynamic-fossil",
      "metadata": {
        "id": "dynamic-fossil"
      },
      "source": [
        "**Dropping the columns from the test set that were dropped from the training set**"
      ]
    },
    {
      "cell_type": "code",
      "execution_count": null,
      "id": "incorporated-suffering",
      "metadata": {
        "id": "incorporated-suffering"
      },
      "outputs": [],
      "source": [
        "X_test5 = X_test[list(X_train5.columns)]"
      ]
    },
    {
      "cell_type": "markdown",
      "id": "light-embassy",
      "metadata": {
        "id": "light-embassy"
      },
      "source": [
        "**Using model with default threshold**"
      ]
    },
    {
      "cell_type": "code",
      "execution_count": null,
      "id": "covered-forest",
      "metadata": {
        "colab": {
          "base_uri": "https://localhost:8080/"
        },
        "id": "covered-forest",
        "outputId": "9a9f695d-14c7-4b79-fad7-ea61af0b46e0"
      },
      "outputs": [
        {
          "output_type": "display_data",
          "data": {
            "text/plain": [
              "<Figure size 432x288 with 2 Axes>"
            ],
            "image/png": "[encoded data removed]"
          },
          "metadata": {
            "needs_background": "light"
          }
        }
      ],
      "source": [
        "# creating confusion matrix\n",
        "confusion_matrix_statsmodels(lg5, X_test5, y_test)"
      ]
    },
    {
      "cell_type": "code",
      "execution_count": null,
      "id": "descending-snowboard",
      "metadata": {
        "colab": {
          "base_uri": "https://localhost:8080/"
        },
        "id": "descending-snowboard",
        "outputId": "52760e61-833b-4f4b-cc98-0b4db389b342"
      },
      "outputs": [
        {
          "output_type": "stream",
          "name": "stdout",
          "text": [
            "Test performance:\n"
          ]
        },
        {
          "output_type": "execute_result",
          "data": {
            "text/plain": [
              "   Accuracy    Recall  Precision        F1\n",
              "0  0.836933  0.917219    0.87736  0.896846"
            ],
            "text/html": [
              "\n",
              "  <div id=\"df-5fa4c6a4-91e4-4988-a9b3-0ce7119cc6ad\">\n",
              "    <div class=\"colab-df-container\">\n",
              "      <div>\n",
              "<style scoped>\n",
              "    .dataframe tbody tr th:only-of-type {\n",
              "        vertical-align: middle;\n",
              "    }\n",
              "\n",
              "    .dataframe tbody tr th {\n",
              "        vertical-align: top;\n",
              "    }\n",
              "\n",
              "    .dataframe thead th {\n",
              "        text-align: right;\n",
              "    }\n",
              "</style>\n",
              "<table border=\"1\" class=\"dataframe\">\n",
              "  <thead>\n",
              "    <tr style=\"text-align: right;\">\n",
              "      <th></th>\n",
              "      <th>Accuracy</th>\n",
              "      <th>Recall</th>\n",
              "      <th>Precision</th>\n",
              "      <th>F1</th>\n",
              "    </tr>\n",
              "  </thead>\n",
              "  <tbody>\n",
              "    <tr>\n",
              "      <th>0</th>\n",
              "      <td>0.836933</td>\n",
              "      <td>0.917219</td>\n",
              "      <td>0.87736</td>\n",
              "      <td>0.896846</td>\n",
              "    </tr>\n",
              "  </tbody>\n",
              "</table>\n",
              "</div>\n",
              "      <button class=\"colab-df-convert\" onclick=\"convertToInteractive('df-5fa4c6a4-91e4-4988-a9b3-0ce7119cc6ad')\"\n",
              "              title=\"Convert this dataframe to an interactive table.\"\n",
              "              style=\"display:none;\">\n",
              "        \n",
              "  <svg xmlns=\"http://www.w3.org/2000/svg\" height=\"24px\"viewBox=\"0 0 24 24\"\n",
              "       width=\"24px\">\n",
              "    <path d=\"M0 0h24v24H0V0z\" fill=\"none\"/>\n",
              "    <path d=\"M18.56 5.44l.94 2.06.94-2.06 2.06-.94-2.06-.94-.94-2.06-.94 2.06-2.06.94zm-11 1L8.5 8.5l.94-2.06 2.06-.94-2.06-.94L8.5 2.5l-.94 2.06-2.06.94zm10 10l.94 2.06.94-2.06 2.06-.94-2.06-.94-.94-2.06-.94 2.06-2.06.94z\"/><path d=\"M17.41 7.96l-1.37-1.37c-.4-.4-.92-.59-1.43-.59-.52 0-1.04.2-1.43.59L10.3 9.45l-7.72 7.72c-.78.78-.78 2.05 0 2.83L4 21.41c.39.39.9.59 1.41.59.51 0 1.02-.2 1.41-.59l7.78-7.78 2.81-2.81c.8-.78.8-2.07 0-2.86zM5.41 20L4 18.59l7.72-7.72 1.47 1.35L5.41 20z\"/>\n",
              "  </svg>\n",
              "      </button>\n",
              "      \n",
              "  <style>\n",
              "    .colab-df-container {\n",
              "      display:flex;\n",
              "      flex-wrap:wrap;\n",
              "      gap: 12px;\n",
              "    }\n",
              "\n",
              "    .colab-df-convert {\n",
              "      background-color: #E8F0FE;\n",
              "      border: none;\n",
              "      border-radius: 50%;\n",
              "      cursor: pointer;\n",
              "      display: none;\n",
              "      fill: #1967D2;\n",
              "      height: 32px;\n",
              "      padding: 0 0 0 0;\n",
              "      width: 32px;\n",
              "    }\n",
              "\n",
              "    .colab-df-convert:hover {\n",
              "      background-color: #E2EBFA;\n",
              "      box-shadow: 0px 1px 2px rgba(60, 64, 67, 0.3), 0px 1px 3px 1px rgba(60, 64, 67, 0.15);\n",
              "      fill: #174EA6;\n",
              "    }\n",
              "\n",
              "    [theme=dark] .colab-df-convert {\n",
              "      background-color: #3B4455;\n",
              "      fill: #D2E3FC;\n",
              "    }\n",
              "\n",
              "    [theme=dark] .colab-df-convert:hover {\n",
              "      background-color: #434B5C;\n",
              "      box-shadow: 0px 1px 3px 1px rgba(0, 0, 0, 0.15);\n",
              "      filter: drop-shadow(0px 1px 2px rgba(0, 0, 0, 0.3));\n",
              "      fill: #FFFFFF;\n",
              "    }\n",
              "  </style>\n",
              "\n",
              "      <script>\n",
              "        const buttonEl =\n",
              "          document.querySelector('#df-5fa4c6a4-91e4-4988-a9b3-0ce7119cc6ad button.colab-df-convert');\n",
              "        buttonEl.style.display =\n",
              "          google.colab.kernel.accessAllowed ? 'block' : 'none';\n",
              "\n",
              "        async function convertToInteractive(key) {\n",
              "          const element = document.querySelector('#df-5fa4c6a4-91e4-4988-a9b3-0ce7119cc6ad');\n",
              "          const dataTable =\n",
              "            await google.colab.kernel.invokeFunction('convertToInteractive',\n",
              "                                                     [key], {});\n",
              "          if (!dataTable) return;\n",
              "\n",
              "          const docLinkHtml = 'Like what you see? Visit the ' +\n",
              "            '<a target=\"_blank\" href=https://colab.research.google.com/notebooks/data_table.ipynb>data table notebook</a>'\n",
              "            + ' to learn more about interactive tables.';\n",
              "          element.innerHTML = '';\n",
              "          dataTable['output_type'] = 'display_data';\n",
              "          await google.colab.output.renderOutput(dataTable, element);\n",
              "          const docLink = document.createElement('div');\n",
              "          docLink.innerHTML = docLinkHtml;\n",
              "          element.appendChild(docLink);\n",
              "        }\n",
              "      </script>\n",
              "    </div>\n",
              "  </div>\n",
              "  "
            ]
          },
          "metadata": {},
          "execution_count": 147
        }
      ],
      "source": [
        "log_reg_model_test_perf = model_performance_classification_statsmodels(\n",
        "    lg5, X_test5, y_test\n",
        ")\n",
        "\n",
        "print(\"Test performance:\")\n",
        "log_reg_model_test_perf"
      ]
    },
    {
      "cell_type": "markdown",
      "id": "colonial-imaging",
      "metadata": {
        "id": "colonial-imaging"
      },
      "source": [
        "* ROC curve on test set"
      ]
    },
    {
      "cell_type": "code",
      "execution_count": null,
      "id": "through-impact",
      "metadata": {
        "colab": {
          "base_uri": "https://localhost:8080/"
        },
        "id": "through-impact",
        "outputId": "1461ed36-bd03-42db-945b-ad1157e35b57"
      },
      "outputs": [
        {
          "output_type": "display_data",
          "data": {
            "text/plain": [
              "<Figure size 504x360 with 1 Axes>"
            ],
            "image/png": "[encoded data removed]"
          },
          "metadata": {
            "needs_background": "light"
          }
        }
      ],
      "source": [
        "logit_roc_auc_train = roc_auc_score(y_test, lg5.predict(X_test5))\n",
        "fpr, tpr, thresholds = roc_curve(y_test, lg5.predict(X_test5))\n",
        "plt.figure(figsize=(7, 5))\n",
        "plt.plot(fpr, tpr, label=\"Logistic Regression (area = %0.2f)\" % logit_roc_auc_train)\n",
        "plt.plot([0, 1], [0, 1], \"r--\")\n",
        "plt.xlim([0.0, 1.0])\n",
        "plt.ylim([0.0, 1.05])\n",
        "plt.xlabel(\"False Positive Rate\")\n",
        "plt.ylabel(\"True Positive Rate\")\n",
        "plt.title(\"Receiver operating characteristic\")\n",
        "plt.legend(loc=\"lower right\")\n",
        "plt.show()"
      ]
    },
    {
      "cell_type": "markdown",
      "id": "described-procedure",
      "metadata": {
        "id": "described-procedure"
      },
      "source": [
        "**Using model with threshold=0.76** "
      ]
    },
    {
      "cell_type": "code",
      "execution_count": null,
      "id": "adjustable-jonathan",
      "metadata": {
        "colab": {
          "base_uri": "https://localhost:8080/"
        },
        "id": "adjustable-jonathan",
        "outputId": "8c6349d6-c79f-43a1-f098-deabbc3b74b8"
      },
      "outputs": [
        {
          "output_type": "display_data",
          "data": {
            "text/plain": [
              "<Figure size 432x288 with 2 Axes>"
            ],
            "image/png": "[encoded data removed]"
          },
          "metadata": {
            "needs_background": "light"
          }
        }
      ],
      "source": [
        "# creating confusion matrix\n",
        "confusion_matrix_statsmodels(lg5, X_test5, y_test, threshold=optimal_threshold_auc_roc)"
      ]
    },
    {
      "cell_type": "code",
      "execution_count": null,
      "id": "lovely-dinner",
      "metadata": {
        "colab": {
          "base_uri": "https://localhost:8080/"
        },
        "id": "lovely-dinner",
        "outputId": "49f268c4-f25f-4a5f-ccca-59fe0d11686d"
      },
      "outputs": [
        {
          "output_type": "stream",
          "name": "stdout",
          "text": [
            "Test performance:\n"
          ]
        },
        {
          "output_type": "execute_result",
          "data": {
            "text/plain": [
              "   Accuracy    Recall  Precision        F1\n",
              "0  0.783704  0.765298   0.944272  0.845417"
            ],
            "text/html": [
              "\n",
              "  <div id=\"df-c8adcfe6-80b4-42a2-af7e-f0e0f23979bb\">\n",
              "    <div class=\"colab-df-container\">\n",
              "      <div>\n",
              "<style scoped>\n",
              "    .dataframe tbody tr th:only-of-type {\n",
              "        vertical-align: middle;\n",
              "    }\n",
              "\n",
              "    .dataframe tbody tr th {\n",
              "        vertical-align: top;\n",
              "    }\n",
              "\n",
              "    .dataframe thead th {\n",
              "        text-align: right;\n",
              "    }\n",
              "</style>\n",
              "<table border=\"1\" class=\"dataframe\">\n",
              "  <thead>\n",
              "    <tr style=\"text-align: right;\">\n",
              "      <th></th>\n",
              "      <th>Accuracy</th>\n",
              "      <th>Recall</th>\n",
              "      <th>Precision</th>\n",
              "      <th>F1</th>\n",
              "    </tr>\n",
              "  </thead>\n",
              "  <tbody>\n",
              "    <tr>\n",
              "      <th>0</th>\n",
              "      <td>0.783704</td>\n",
              "      <td>0.765298</td>\n",
              "      <td>0.944272</td>\n",
              "      <td>0.845417</td>\n",
              "    </tr>\n",
              "  </tbody>\n",
              "</table>\n",
              "</div>\n",
              "      <button class=\"colab-df-convert\" onclick=\"convertToInteractive('df-c8adcfe6-80b4-42a2-af7e-f0e0f23979bb')\"\n",
              "              title=\"Convert this dataframe to an interactive table.\"\n",
              "              style=\"display:none;\">\n",
              "        \n",
              "  <svg xmlns=\"http://www.w3.org/2000/svg\" height=\"24px\"viewBox=\"0 0 24 24\"\n",
              "       width=\"24px\">\n",
              "    <path d=\"M0 0h24v24H0V0z\" fill=\"none\"/>\n",
              "    <path d=\"M18.56 5.44l.94 2.06.94-2.06 2.06-.94-2.06-.94-.94-2.06-.94 2.06-2.06.94zm-11 1L8.5 8.5l.94-2.06 2.06-.94-2.06-.94L8.5 2.5l-.94 2.06-2.06.94zm10 10l.94 2.06.94-2.06 2.06-.94-2.06-.94-.94-2.06-.94 2.06-2.06.94z\"/><path d=\"M17.41 7.96l-1.37-1.37c-.4-.4-.92-.59-1.43-.59-.52 0-1.04.2-1.43.59L10.3 9.45l-7.72 7.72c-.78.78-.78 2.05 0 2.83L4 21.41c.39.39.9.59 1.41.59.51 0 1.02-.2 1.41-.59l7.78-7.78 2.81-2.81c.8-.78.8-2.07 0-2.86zM5.41 20L4 18.59l7.72-7.72 1.47 1.35L5.41 20z\"/>\n",
              "  </svg>\n",
              "      </button>\n",
              "      \n",
              "  <style>\n",
              "    .colab-df-container {\n",
              "      display:flex;\n",
              "      flex-wrap:wrap;\n",
              "      gap: 12px;\n",
              "    }\n",
              "\n",
              "    .colab-df-convert {\n",
              "      background-color: #E8F0FE;\n",
              "      border: none;\n",
              "      border-radius: 50%;\n",
              "      cursor: pointer;\n",
              "      display: none;\n",
              "      fill: #1967D2;\n",
              "      height: 32px;\n",
              "      padding: 0 0 0 0;\n",
              "      width: 32px;\n",
              "    }\n",
              "\n",
              "    .colab-df-convert:hover {\n",
              "      background-color: #E2EBFA;\n",
              "      box-shadow: 0px 1px 2px rgba(60, 64, 67, 0.3), 0px 1px 3px 1px rgba(60, 64, 67, 0.15);\n",
              "      fill: #174EA6;\n",
              "    }\n",
              "\n",
              "    [theme=dark] .colab-df-convert {\n",
              "      background-color: #3B4455;\n",
              "      fill: #D2E3FC;\n",
              "    }\n",
              "\n",
              "    [theme=dark] .colab-df-convert:hover {\n",
              "      background-color: #434B5C;\n",
              "      box-shadow: 0px 1px 3px 1px rgba(0, 0, 0, 0.15);\n",
              "      filter: drop-shadow(0px 1px 2px rgba(0, 0, 0, 0.3));\n",
              "      fill: #FFFFFF;\n",
              "    }\n",
              "  </style>\n",
              "\n",
              "      <script>\n",
              "        const buttonEl =\n",
              "          document.querySelector('#df-c8adcfe6-80b4-42a2-af7e-f0e0f23979bb button.colab-df-convert');\n",
              "        buttonEl.style.display =\n",
              "          google.colab.kernel.accessAllowed ? 'block' : 'none';\n",
              "\n",
              "        async function convertToInteractive(key) {\n",
              "          const element = document.querySelector('#df-c8adcfe6-80b4-42a2-af7e-f0e0f23979bb');\n",
              "          const dataTable =\n",
              "            await google.colab.kernel.invokeFunction('convertToInteractive',\n",
              "                                                     [key], {});\n",
              "          if (!dataTable) return;\n",
              "\n",
              "          const docLinkHtml = 'Like what you see? Visit the ' +\n",
              "            '<a target=\"_blank\" href=https://colab.research.google.com/notebooks/data_table.ipynb>data table notebook</a>'\n",
              "            + ' to learn more about interactive tables.';\n",
              "          element.innerHTML = '';\n",
              "          dataTable['output_type'] = 'display_data';\n",
              "          await google.colab.output.renderOutput(dataTable, element);\n",
              "          const docLink = document.createElement('div');\n",
              "          docLink.innerHTML = docLinkHtml;\n",
              "          element.appendChild(docLink);\n",
              "        }\n",
              "      </script>\n",
              "    </div>\n",
              "  </div>\n",
              "  "
            ]
          },
          "metadata": {},
          "execution_count": 150
        }
      ],
      "source": [
        "# checking model performance for this model\n",
        "log_reg_model_test_perf_threshold_auc_roc = model_performance_classification_statsmodels(\n",
        "    lg5, X_test5, y_test, threshold=optimal_threshold_auc_roc\n",
        ")\n",
        "print(\"Test performance:\")\n",
        "log_reg_model_test_perf_threshold_auc_roc"
      ]
    },
    {
      "cell_type": "markdown",
      "id": "practical-person",
      "metadata": {
        "id": "practical-person"
      },
      "source": [
        "**Using model with threshold = 0.58**"
      ]
    },
    {
      "cell_type": "code",
      "execution_count": null,
      "id": "metropolitan-burning",
      "metadata": {
        "colab": {
          "base_uri": "https://localhost:8080/"
        },
        "id": "metropolitan-burning",
        "outputId": "1ad879e6-88d5-4f29-8e0d-064ef5dc6947"
      },
      "outputs": [
        {
          "output_type": "display_data",
          "data": {
            "text/plain": [
              "<Figure size 432x288 with 2 Axes>"
            ],
            "image/png": "[encoded data removed]"
          },
          "metadata": {
            "needs_background": "light"
          }
        }
      ],
      "source": [
        "# creating confusion matrix\n",
        "confusion_matrix_statsmodels(lg5, X_test5, y_test, threshold=optimal_threshold_curve)"
      ]
    },
    {
      "cell_type": "code",
      "execution_count": null,
      "id": "rough-requirement",
      "metadata": {
        "colab": {
          "base_uri": "https://localhost:8080/"
        },
        "id": "rough-requirement",
        "outputId": "7954d747-307b-4fc4-da33-98a81b568869"
      },
      "outputs": [
        {
          "output_type": "stream",
          "name": "stdout",
          "text": [
            "Test performance:\n"
          ]
        },
        {
          "output_type": "execute_result",
          "data": {
            "text/plain": [
              "   Accuracy    Recall  Precision        F1\n",
              "0  0.828744  0.879735   0.896719  0.888146"
            ],
            "text/html": [
              "\n",
              "  <div id=\"df-9db99dc6-8dc2-44aa-a6f4-bd42ce5f134a\">\n",
              "    <div class=\"colab-df-container\">\n",
              "      <div>\n",
              "<style scoped>\n",
              "    .dataframe tbody tr th:only-of-type {\n",
              "        vertical-align: middle;\n",
              "    }\n",
              "\n",
              "    .dataframe tbody tr th {\n",
              "        vertical-align: top;\n",
              "    }\n",
              "\n",
              "    .dataframe thead th {\n",
              "        text-align: right;\n",
              "    }\n",
              "</style>\n",
              "<table border=\"1\" class=\"dataframe\">\n",
              "  <thead>\n",
              "    <tr style=\"text-align: right;\">\n",
              "      <th></th>\n",
              "      <th>Accuracy</th>\n",
              "      <th>Recall</th>\n",
              "      <th>Precision</th>\n",
              "      <th>F1</th>\n",
              "    </tr>\n",
              "  </thead>\n",
              "  <tbody>\n",
              "    <tr>\n",
              "      <th>0</th>\n",
              "      <td>0.828744</td>\n",
              "      <td>0.879735</td>\n",
              "      <td>0.896719</td>\n",
              "      <td>0.888146</td>\n",
              "    </tr>\n",
              "  </tbody>\n",
              "</table>\n",
              "</div>\n",
              "      <button class=\"colab-df-convert\" onclick=\"convertToInteractive('df-9db99dc6-8dc2-44aa-a6f4-bd42ce5f134a')\"\n",
              "              title=\"Convert this dataframe to an interactive table.\"\n",
              "              style=\"display:none;\">\n",
              "        \n",
              "  <svg xmlns=\"http://www.w3.org/2000/svg\" height=\"24px\"viewBox=\"0 0 24 24\"\n",
              "       width=\"24px\">\n",
              "    <path d=\"M0 0h24v24H0V0z\" fill=\"none\"/>\n",
              "    <path d=\"M18.56 5.44l.94 2.06.94-2.06 2.06-.94-2.06-.94-.94-2.06-.94 2.06-2.06.94zm-11 1L8.5 8.5l.94-2.06 2.06-.94-2.06-.94L8.5 2.5l-.94 2.06-2.06.94zm10 10l.94 2.06.94-2.06 2.06-.94-2.06-.94-.94-2.06-.94 2.06-2.06.94z\"/><path d=\"M17.41 7.96l-1.37-1.37c-.4-.4-.92-.59-1.43-.59-.52 0-1.04.2-1.43.59L10.3 9.45l-7.72 7.72c-.78.78-.78 2.05 0 2.83L4 21.41c.39.39.9.59 1.41.59.51 0 1.02-.2 1.41-.59l7.78-7.78 2.81-2.81c.8-.78.8-2.07 0-2.86zM5.41 20L4 18.59l7.72-7.72 1.47 1.35L5.41 20z\"/>\n",
              "  </svg>\n",
              "      </button>\n",
              "      \n",
              "  <style>\n",
              "    .colab-df-container {\n",
              "      display:flex;\n",
              "      flex-wrap:wrap;\n",
              "      gap: 12px;\n",
              "    }\n",
              "\n",
              "    .colab-df-convert {\n",
              "      background-color: #E8F0FE;\n",
              "      border: none;\n",
              "      border-radius: 50%;\n",
              "      cursor: pointer;\n",
              "      display: none;\n",
              "      fill: #1967D2;\n",
              "      height: 32px;\n",
              "      padding: 0 0 0 0;\n",
              "      width: 32px;\n",
              "    }\n",
              "\n",
              "    .colab-df-convert:hover {\n",
              "      background-color: #E2EBFA;\n",
              "      box-shadow: 0px 1px 2px rgba(60, 64, 67, 0.3), 0px 1px 3px 1px rgba(60, 64, 67, 0.15);\n",
              "      fill: #174EA6;\n",
              "    }\n",
              "\n",
              "    [theme=dark] .colab-df-convert {\n",
              "      background-color: #3B4455;\n",
              "      fill: #D2E3FC;\n",
              "    }\n",
              "\n",
              "    [theme=dark] .colab-df-convert:hover {\n",
              "      background-color: #434B5C;\n",
              "      box-shadow: 0px 1px 3px 1px rgba(0, 0, 0, 0.15);\n",
              "      filter: drop-shadow(0px 1px 2px rgba(0, 0, 0, 0.3));\n",
              "      fill: #FFFFFF;\n",
              "    }\n",
              "  </style>\n",
              "\n",
              "      <script>\n",
              "        const buttonEl =\n",
              "          document.querySelector('#df-9db99dc6-8dc2-44aa-a6f4-bd42ce5f134a button.colab-df-convert');\n",
              "        buttonEl.style.display =\n",
              "          google.colab.kernel.accessAllowed ? 'block' : 'none';\n",
              "\n",
              "        async function convertToInteractive(key) {\n",
              "          const element = document.querySelector('#df-9db99dc6-8dc2-44aa-a6f4-bd42ce5f134a');\n",
              "          const dataTable =\n",
              "            await google.colab.kernel.invokeFunction('convertToInteractive',\n",
              "                                                     [key], {});\n",
              "          if (!dataTable) return;\n",
              "\n",
              "          const docLinkHtml = 'Like what you see? Visit the ' +\n",
              "            '<a target=\"_blank\" href=https://colab.research.google.com/notebooks/data_table.ipynb>data table notebook</a>'\n",
              "            + ' to learn more about interactive tables.';\n",
              "          element.innerHTML = '';\n",
              "          dataTable['output_type'] = 'display_data';\n",
              "          await google.colab.output.renderOutput(dataTable, element);\n",
              "          const docLink = document.createElement('div');\n",
              "          docLink.innerHTML = docLinkHtml;\n",
              "          element.appendChild(docLink);\n",
              "        }\n",
              "      </script>\n",
              "    </div>\n",
              "  </div>\n",
              "  "
            ]
          },
          "metadata": {},
          "execution_count": 152
        }
      ],
      "source": [
        "log_reg_model_test_perf_threshold_curve = model_performance_classification_statsmodels(\n",
        "    lg5, X_test5, y_test, threshold=optimal_threshold_curve\n",
        ")\n",
        "print(\"Test performance:\")\n",
        "log_reg_model_test_perf_threshold_curve"
      ]
    },
    {
      "cell_type": "markdown",
      "id": "welsh-terrace",
      "metadata": {
        "id": "welsh-terrace"
      },
      "source": [
        "### Model performance summary"
      ]
    },
    {
      "cell_type": "code",
      "execution_count": null,
      "id": "assumed-metadata",
      "metadata": {
        "colab": {
          "base_uri": "https://localhost:8080/"
        },
        "id": "assumed-metadata",
        "outputId": "db2fd8ba-3321-4999-d5e0-109b7c9e4d1a"
      },
      "outputs": [
        {
          "output_type": "stream",
          "name": "stdout",
          "text": [
            "Training performance comparison:\n"
          ]
        },
        {
          "output_type": "execute_result",
          "data": {
            "text/plain": [
              "           Logistic Regression sklearn  Logistic Regression-0.76 Threshold  \\\n",
              "Accuracy                      0.833406                            0.786153   \n",
              "Recall                        0.922656                            0.767909   \n",
              "Precision                     0.865163                            0.936834   \n",
              "F1                            0.892985                            0.844002   \n",
              "\n",
              "           Logistic Regression-0.58 Threshold  \n",
              "Accuracy                             0.831651  \n",
              "Recall                               0.889983  \n",
              "Precision                            0.886935  \n",
              "F1                                   0.888456  "
            ],
            "text/html": [
              "\n",
              "  <div id=\"df-610d41d6-2bb9-4263-b081-7e601902152e\">\n",
              "    <div class=\"colab-df-container\">\n",
              "      <div>\n",
              "<style scoped>\n",
              "    .dataframe tbody tr th:only-of-type {\n",
              "        vertical-align: middle;\n",
              "    }\n",
              "\n",
              "    .dataframe tbody tr th {\n",
              "        vertical-align: top;\n",
              "    }\n",
              "\n",
              "    .dataframe thead th {\n",
              "        text-align: right;\n",
              "    }\n",
              "</style>\n",
              "<table border=\"1\" class=\"dataframe\">\n",
              "  <thead>\n",
              "    <tr style=\"text-align: right;\">\n",
              "      <th></th>\n",
              "      <th>Logistic Regression sklearn</th>\n",
              "      <th>Logistic Regression-0.76 Threshold</th>\n",
              "      <th>Logistic Regression-0.58 Threshold</th>\n",
              "    </tr>\n",
              "  </thead>\n",
              "  <tbody>\n",
              "    <tr>\n",
              "      <th>Accuracy</th>\n",
              "      <td>0.833406</td>\n",
              "      <td>0.786153</td>\n",
              "      <td>0.831651</td>\n",
              "    </tr>\n",
              "    <tr>\n",
              "      <th>Recall</th>\n",
              "      <td>0.922656</td>\n",
              "      <td>0.767909</td>\n",
              "      <td>0.889983</td>\n",
              "    </tr>\n",
              "    <tr>\n",
              "      <th>Precision</th>\n",
              "      <td>0.865163</td>\n",
              "      <td>0.936834</td>\n",
              "      <td>0.886935</td>\n",
              "    </tr>\n",
              "    <tr>\n",
              "      <th>F1</th>\n",
              "      <td>0.892985</td>\n",
              "      <td>0.844002</td>\n",
              "      <td>0.888456</td>\n",
              "    </tr>\n",
              "  </tbody>\n",
              "</table>\n",
              "</div>\n",
              "      <button class=\"colab-df-convert\" onclick=\"convertToInteractive('df-610d41d6-2bb9-4263-b081-7e601902152e')\"\n",
              "              title=\"Convert this dataframe to an interactive table.\"\n",
              "              style=\"display:none;\">\n",
              "        \n",
              "  <svg xmlns=\"http://www.w3.org/2000/svg\" height=\"24px\"viewBox=\"0 0 24 24\"\n",
              "       width=\"24px\">\n",
              "    <path d=\"M0 0h24v24H0V0z\" fill=\"none\"/>\n",
              "    <path d=\"M18.56 5.44l.94 2.06.94-2.06 2.06-.94-2.06-.94-.94-2.06-.94 2.06-2.06.94zm-11 1L8.5 8.5l.94-2.06 2.06-.94-2.06-.94L8.5 2.5l-.94 2.06-2.06.94zm10 10l.94 2.06.94-2.06 2.06-.94-2.06-.94-.94-2.06-.94 2.06-2.06.94z\"/><path d=\"M17.41 7.96l-1.37-1.37c-.4-.4-.92-.59-1.43-.59-.52 0-1.04.2-1.43.59L10.3 9.45l-7.72 7.72c-.78.78-.78 2.05 0 2.83L4 21.41c.39.39.9.59 1.41.59.51 0 1.02-.2 1.41-.59l7.78-7.78 2.81-2.81c.8-.78.8-2.07 0-2.86zM5.41 20L4 18.59l7.72-7.72 1.47 1.35L5.41 20z\"/>\n",
              "  </svg>\n",
              "      </button>\n",
              "      \n",
              "  <style>\n",
              "    .colab-df-container {\n",
              "      display:flex;\n",
              "      flex-wrap:wrap;\n",
              "      gap: 12px;\n",
              "    }\n",
              "\n",
              "    .colab-df-convert {\n",
              "      background-color: #E8F0FE;\n",
              "      border: none;\n",
              "      border-radius: 50%;\n",
              "      cursor: pointer;\n",
              "      display: none;\n",
              "      fill: #1967D2;\n",
              "      height: 32px;\n",
              "      padding: 0 0 0 0;\n",
              "      width: 32px;\n",
              "    }\n",
              "\n",
              "    .colab-df-convert:hover {\n",
              "      background-color: #E2EBFA;\n",
              "      box-shadow: 0px 1px 2px rgba(60, 64, 67, 0.3), 0px 1px 3px 1px rgba(60, 64, 67, 0.15);\n",
              "      fill: #174EA6;\n",
              "    }\n",
              "\n",
              "    [theme=dark] .colab-df-convert {\n",
              "      background-color: #3B4455;\n",
              "      fill: #D2E3FC;\n",
              "    }\n",
              "\n",
              "    [theme=dark] .colab-df-convert:hover {\n",
              "      background-color: #434B5C;\n",
              "      box-shadow: 0px 1px 3px 1px rgba(0, 0, 0, 0.15);\n",
              "      filter: drop-shadow(0px 1px 2px rgba(0, 0, 0, 0.3));\n",
              "      fill: #FFFFFF;\n",
              "    }\n",
              "  </style>\n",
              "\n",
              "      <script>\n",
              "        const buttonEl =\n",
              "          document.querySelector('#df-610d41d6-2bb9-4263-b081-7e601902152e button.colab-df-convert');\n",
              "        buttonEl.style.display =\n",
              "          google.colab.kernel.accessAllowed ? 'block' : 'none';\n",
              "\n",
              "        async function convertToInteractive(key) {\n",
              "          const element = document.querySelector('#df-610d41d6-2bb9-4263-b081-7e601902152e');\n",
              "          const dataTable =\n",
              "            await google.colab.kernel.invokeFunction('convertToInteractive',\n",
              "                                                     [key], {});\n",
              "          if (!dataTable) return;\n",
              "\n",
              "          const docLinkHtml = 'Like what you see? Visit the ' +\n",
              "            '<a target=\"_blank\" href=https://colab.research.google.com/notebooks/data_table.ipynb>data table notebook</a>'\n",
              "            + ' to learn more about interactive tables.';\n",
              "          element.innerHTML = '';\n",
              "          dataTable['output_type'] = 'display_data';\n",
              "          await google.colab.output.renderOutput(dataTable, element);\n",
              "          const docLink = document.createElement('div');\n",
              "          docLink.innerHTML = docLinkHtml;\n",
              "          element.appendChild(docLink);\n",
              "        }\n",
              "      </script>\n",
              "    </div>\n",
              "  </div>\n",
              "  "
            ]
          },
          "metadata": {},
          "execution_count": 153
        }
      ],
      "source": [
        "# training performance comparison\n",
        "\n",
        "models_train_comp_df = pd.concat(\n",
        "    [\n",
        "        log_reg_model_train_perf.T,\n",
        "        log_reg_model_train_perf_threshold_auc_roc.T,\n",
        "        log_reg_model_train_perf_threshold_curve.T,\n",
        "    ],\n",
        "    axis=1,\n",
        ")\n",
        "models_train_comp_df.columns = [\n",
        "    \"Logistic Regression sklearn\",\n",
        "    \"Logistic Regression-0.76 Threshold\",\n",
        "    \"Logistic Regression-0.58 Threshold\",\n",
        "]\n",
        "\n",
        "print(\"Training performance comparison:\")\n",
        "models_train_comp_df"
      ]
    },
    {
      "cell_type": "code",
      "execution_count": null,
      "id": "palestinian-plymouth",
      "metadata": {
        "colab": {
          "base_uri": "https://localhost:8080/"
        },
        "id": "palestinian-plymouth",
        "outputId": "70d15326-9180-4a39-c71b-a7097bddbab0"
      },
      "outputs": [
        {
          "output_type": "stream",
          "name": "stdout",
          "text": [
            "Test set performance comparison:\n"
          ]
        },
        {
          "output_type": "execute_result",
          "data": {
            "text/plain": [
              "           Logistic Regression sklearn  Logistic Regression-0.76 Threshold  \\\n",
              "Accuracy                      0.836933                            0.783704   \n",
              "Recall                        0.917219                            0.765298   \n",
              "Precision                     0.877360                            0.944272   \n",
              "F1                            0.896846                            0.845417   \n",
              "\n",
              "           Logistic Regression-0.58 Threshold  \n",
              "Accuracy                             0.828744  \n",
              "Recall                               0.879735  \n",
              "Precision                            0.896719  \n",
              "F1                                   0.888146  "
            ],
            "text/html": [
              "\n",
              "  <div id=\"df-279eb03a-75dd-4470-832a-17c3c21330b5\">\n",
              "    <div class=\"colab-df-container\">\n",
              "      <div>\n",
              "<style scoped>\n",
              "    .dataframe tbody tr th:only-of-type {\n",
              "        vertical-align: middle;\n",
              "    }\n",
              "\n",
              "    .dataframe tbody tr th {\n",
              "        vertical-align: top;\n",
              "    }\n",
              "\n",
              "    .dataframe thead th {\n",
              "        text-align: right;\n",
              "    }\n",
              "</style>\n",
              "<table border=\"1\" class=\"dataframe\">\n",
              "  <thead>\n",
              "    <tr style=\"text-align: right;\">\n",
              "      <th></th>\n",
              "      <th>Logistic Regression sklearn</th>\n",
              "      <th>Logistic Regression-0.76 Threshold</th>\n",
              "      <th>Logistic Regression-0.58 Threshold</th>\n",
              "    </tr>\n",
              "  </thead>\n",
              "  <tbody>\n",
              "    <tr>\n",
              "      <th>Accuracy</th>\n",
              "      <td>0.836933</td>\n",
              "      <td>0.783704</td>\n",
              "      <td>0.828744</td>\n",
              "    </tr>\n",
              "    <tr>\n",
              "      <th>Recall</th>\n",
              "      <td>0.917219</td>\n",
              "      <td>0.765298</td>\n",
              "      <td>0.879735</td>\n",
              "    </tr>\n",
              "    <tr>\n",
              "      <th>Precision</th>\n",
              "      <td>0.877360</td>\n",
              "      <td>0.944272</td>\n",
              "      <td>0.896719</td>\n",
              "    </tr>\n",
              "    <tr>\n",
              "      <th>F1</th>\n",
              "      <td>0.896846</td>\n",
              "      <td>0.845417</td>\n",
              "      <td>0.888146</td>\n",
              "    </tr>\n",
              "  </tbody>\n",
              "</table>\n",
              "</div>\n",
              "      <button class=\"colab-df-convert\" onclick=\"convertToInteractive('df-279eb03a-75dd-4470-832a-17c3c21330b5')\"\n",
              "              title=\"Convert this dataframe to an interactive table.\"\n",
              "              style=\"display:none;\">\n",
              "        \n",
              "  <svg xmlns=\"http://www.w3.org/2000/svg\" height=\"24px\"viewBox=\"0 0 24 24\"\n",
              "       width=\"24px\">\n",
              "    <path d=\"M0 0h24v24H0V0z\" fill=\"none\"/>\n",
              "    <path d=\"M18.56 5.44l.94 2.06.94-2.06 2.06-.94-2.06-.94-.94-2.06-.94 2.06-2.06.94zm-11 1L8.5 8.5l.94-2.06 2.06-.94-2.06-.94L8.5 2.5l-.94 2.06-2.06.94zm10 10l.94 2.06.94-2.06 2.06-.94-2.06-.94-.94-2.06-.94 2.06-2.06.94z\"/><path d=\"M17.41 7.96l-1.37-1.37c-.4-.4-.92-.59-1.43-.59-.52 0-1.04.2-1.43.59L10.3 9.45l-7.72 7.72c-.78.78-.78 2.05 0 2.83L4 21.41c.39.39.9.59 1.41.59.51 0 1.02-.2 1.41-.59l7.78-7.78 2.81-2.81c.8-.78.8-2.07 0-2.86zM5.41 20L4 18.59l7.72-7.72 1.47 1.35L5.41 20z\"/>\n",
              "  </svg>\n",
              "      </button>\n",
              "      \n",
              "  <style>\n",
              "    .colab-df-container {\n",
              "      display:flex;\n",
              "      flex-wrap:wrap;\n",
              "      gap: 12px;\n",
              "    }\n",
              "\n",
              "    .colab-df-convert {\n",
              "      background-color: #E8F0FE;\n",
              "      border: none;\n",
              "      border-radius: 50%;\n",
              "      cursor: pointer;\n",
              "      display: none;\n",
              "      fill: #1967D2;\n",
              "      height: 32px;\n",
              "      padding: 0 0 0 0;\n",
              "      width: 32px;\n",
              "    }\n",
              "\n",
              "    .colab-df-convert:hover {\n",
              "      background-color: #E2EBFA;\n",
              "      box-shadow: 0px 1px 2px rgba(60, 64, 67, 0.3), 0px 1px 3px 1px rgba(60, 64, 67, 0.15);\n",
              "      fill: #174EA6;\n",
              "    }\n",
              "\n",
              "    [theme=dark] .colab-df-convert {\n",
              "      background-color: #3B4455;\n",
              "      fill: #D2E3FC;\n",
              "    }\n",
              "\n",
              "    [theme=dark] .colab-df-convert:hover {\n",
              "      background-color: #434B5C;\n",
              "      box-shadow: 0px 1px 3px 1px rgba(0, 0, 0, 0.15);\n",
              "      filter: drop-shadow(0px 1px 2px rgba(0, 0, 0, 0.3));\n",
              "      fill: #FFFFFF;\n",
              "    }\n",
              "  </style>\n",
              "\n",
              "      <script>\n",
              "        const buttonEl =\n",
              "          document.querySelector('#df-279eb03a-75dd-4470-832a-17c3c21330b5 button.colab-df-convert');\n",
              "        buttonEl.style.display =\n",
              "          google.colab.kernel.accessAllowed ? 'block' : 'none';\n",
              "\n",
              "        async function convertToInteractive(key) {\n",
              "          const element = document.querySelector('#df-279eb03a-75dd-4470-832a-17c3c21330b5');\n",
              "          const dataTable =\n",
              "            await google.colab.kernel.invokeFunction('convertToInteractive',\n",
              "                                                     [key], {});\n",
              "          if (!dataTable) return;\n",
              "\n",
              "          const docLinkHtml = 'Like what you see? Visit the ' +\n",
              "            '<a target=\"_blank\" href=https://colab.research.google.com/notebooks/data_table.ipynb>data table notebook</a>'\n",
              "            + ' to learn more about interactive tables.';\n",
              "          element.innerHTML = '';\n",
              "          dataTable['output_type'] = 'display_data';\n",
              "          await google.colab.output.renderOutput(dataTable, element);\n",
              "          const docLink = document.createElement('div');\n",
              "          docLink.innerHTML = docLinkHtml;\n",
              "          element.appendChild(docLink);\n",
              "        }\n",
              "      </script>\n",
              "    </div>\n",
              "  </div>\n",
              "  "
            ]
          },
          "metadata": {},
          "execution_count": 154
        }
      ],
      "source": [
        "# testing performance comparison\n",
        "\n",
        "models_test_comp_df = pd.concat(\n",
        "    [\n",
        "        log_reg_model_test_perf.T,\n",
        "        log_reg_model_test_perf_threshold_auc_roc.T,\n",
        "        log_reg_model_test_perf_threshold_curve.T,\n",
        "    ],\n",
        "    axis=1,\n",
        ")\n",
        "models_test_comp_df.columns = [\n",
        "    \"Logistic Regression sklearn\",\n",
        "    \"Logistic Regression-0.76 Threshold\",\n",
        "    \"Logistic Regression-0.58 Threshold\",\n",
        "]\n",
        "\n",
        "print(\"Test set performance comparison:\")\n",
        "models_test_comp_df"
      ]
    },
    {
      "cell_type": "markdown",
      "id": "increasing-narrow",
      "metadata": {
        "id": "increasing-narrow"
      },
      "source": [
        "### Conclusion\n",
        "* We have been able to build a predictive model that can be used by the government to find the citizens having less than 50K salary with an f1_score of 0.89 on the training set and formulate policies accordingly.\n",
        "\n",
        "* All the logistic regression models have given a generalized performance on the training and test set.\n",
        "\n",
        "* Coefficient of some levels of education, workclass, and native country are positive an increase in these will lead to increase in chances of a person having <=50K salary. \n",
        "\n",
        "* Coefficient of age,fnlwgt,marital_status, working_hours_per_week,some levels of education, workclass, and native country are negative increase in these will lead to decrease in chances of a person having <=50K salary."
      ]
    },
    {
      "cell_type": "markdown",
      "id": "greek-houston",
      "metadata": {
        "id": "greek-houston"
      },
      "source": [
        "### Recommendations\n",
        "\n",
        "- The government should promote education among citizens, they should make policies to make education accessible to all, as we say in our analysis that people who have higher education are more likely to have a salary above 50,000 Dollars. \n",
        "- Working hours is one of the significant predictors of salary, The government should implement laws to ensure that people are paid fairly for their work and are not overworked for the increase in salaries. This would improve work-life balance.\n",
        "- People who invest more are more likely to have a salary above 50k, government should initiate investment schemes and facilitate ease of investment so that people can plan and invest in resources.\n",
        "- As we saw in our analysis that Asian-Pac-Islander and White people are paid more than other races, there should be reforms to ensure that the salary criterion of employees is independent of their race.\n",
        "- Reforms should be made for private-sector employees so that they are paid fairly for their work.\n",
        "- Policy formulated by the government should be considerate of equal pay and counter the pay gap that exists in society."
      ]
    }
  ],
  "metadata": {
    "kernelspec": {
      "display_name": "Python 3",
      "language": "python",
      "name": "python3"
    },
    "language_info": {
      "codemirror_mode": {
        "name": "ipython",
        "version": 3
      },
      "file_extension": ".py",
      "mimetype": "text/x-python",
      "name": "python",
      "nbconvert_exporter": "python",
      "pygments_lexer": "ipython3",
      "version": "3.8.8"
    },
    "colab": {
      "name": "IncomeGroupClassification_CaseStudy.ipynb",
      "provenance": [],
      "toc_visible": true,
      "include_colab_link": true
    }
  },
  "nbformat": 4,
  "nbformat_minor": 5
}